{
  "nbformat": 4,
  "nbformat_minor": 0,
  "metadata": {
    "colab": {
      "name": "CFRM521_FinalProject.ipynb",
      "provenance": [],
      "toc_visible": true,
      "collapsed_sections": []
    },
    "kernelspec": {
      "name": "python3",
      "display_name": "Python 3"
    },
    "language_info": {
      "name": "python"
    }
  },
  "cells": [
    {
      "cell_type": "markdown",
      "source": [
        "\n",
        "## Bankruptcy prediction using Machine Learning techniques \n",
        "\n"
      ],
      "metadata": {
        "id": "8SlqZYaRNB4g"
      }
    },
    {
      "cell_type": "markdown",
      "source": [
        "###Team\n",
        "\n",
        "Pragya Sharma and Rohan Tiwari.\n",
        "\n",
        "\n"
      ],
      "metadata": {
        "id": "Zfv5Fn5425WM"
      }
    },
    {
      "cell_type": "markdown",
      "source": [
        "###Motivation\n",
        "\n",
        "Bankruptcy prediction is important for creditors and investors to evaluate the likelihood that a firm may go bankrupt. It allows stakeholders to take corrective action to limit their economic losses.  Bankruptcy prediction is an early warning to not just investors but also public policy makers to take proactive steps to minimize the impact of bankruptcies. \n",
        "This problem requires high recall as classifying a bankrupt firm as non-bankrupt will confuse investors. For this problem, false alerts are fine but it should not miss any firms that are going to go bankrupt.\n",
        "\n"
      ],
      "metadata": {
        "id": "jg200rGF3Tjt"
      }
    },
    {
      "cell_type": "markdown",
      "source": [
        "### Data\n",
        "\n",
        "https://archive.ics.uci.edu/ml/datasets/Taiwanese+Bankruptcy+Prediction\n",
        "\n",
        "https://www.kaggle.com/datasets/fedesoriano/company-bankruptcy-prediction?select=data.csv\n",
        "\n",
        "The dataset has 96 columns (95 features and 1 class attribute) and 6819 instances. \n",
        "\n"
      ],
      "metadata": {
        "id": "3HS5ilR03XoP"
      }
    },
    {
      "cell_type": "markdown",
      "source": [
        "### Methodology\n",
        "\n",
        "1. Our experiments will first begin by importing the data. The data is available in the file data.csv and will be loaded as a DataFrame. \n",
        "2. Next the data will be analyzed to check for class distributions, null values, missing values and any other sanity checks. \n",
        "3. The next step will be to divide the data into training and test datasets using appropriate form of sampling\n",
        "4. Several experiments will be run using different Machine Learning algorithms and their performance will be evaluated on test set after tuning hyperparameters.\n",
        "5. The results will be compared to determine the best performing algorithm."
      ],
      "metadata": {
        "id": "0QSBi_3_EZg1"
      }
    },
    {
      "cell_type": "markdown",
      "source": [
        "### References\n",
        "1. Undersampling bankruptcy prediction: Taiwan bankruptcy data. Haoming Wang and Xiangdong Liu. Published online 2021 Jul 1. doi: 10.1371/journal.pone.0254030.\n",
        "2. Liang, D., Lu, C.-C., Tsai, C.-F., and Shih, G.-A. (2016) Financial Ratios and Corporate Governance Indicators in Bankruptcy Prediction: A Comprehensive Study. European Journal of Operational Research, vol. 252, no. 2, pp. 561-572."
      ],
      "metadata": {
        "id": "e9B-KGAB3c2O"
      }
    },
    {
      "cell_type": "markdown",
      "source": [
        "### Statement of contributions by each team member\n",
        "\n",
        "#### Rohan Tiwari\n",
        "1. Preprocessing the data - handling missing values, categorical features, feature scaling and utility functions.\n",
        "2. Logistic Regression\n",
        "3. Support Vector Machines\n",
        "4. PCA\n",
        "5. Support Vector Machines with PCA\n",
        "6. Random Forest Classifier\n",
        "7. AdaBoost Classifier\n",
        "8. Gradient Boosting Classifier\n",
        "\n",
        "#### Pragya Sharma\n",
        "TBD"
      ],
      "metadata": {
        "id": "fSSww18AD2C8"
      }
    },
    {
      "cell_type": "markdown",
      "source": [
        ""
      ],
      "metadata": {
        "id": "Fyts-w15WUCz"
      }
    },
    {
      "cell_type": "code",
      "source": [
        "from google.colab import files\n",
        "files.upload()"
      ],
      "metadata": {
        "colab": {
          "resources": {
            "http://localhost:8080/nbextensions/google.colab/files.js": {
              "data": "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",
              "ok": true,
              "headers": [
                [
                  "content-type",
                  "application/javascript"
                ]
              ],
              "status": 200,
              "status_text": ""
            }
          },
          "base_uri": "https://localhost:8080/",
          "height": 73
        },
        "id": "ind7wUN7D4xt",
        "outputId": "595abe01-7614-491d-ccb5-93351cf4f339"
      },
      "execution_count": null,
      "outputs": [
        {
          "output_type": "display_data",
          "data": {
            "text/plain": [
              "<IPython.core.display.HTML object>"
            ],
            "text/html": [
              "\n",
              "     <input type=\"file\" id=\"files-07311a98-59a7-4a46-b1b1-d5232da19961\" name=\"files[]\" multiple disabled\n",
              "        style=\"border:none\" />\n",
              "     <output id=\"result-07311a98-59a7-4a46-b1b1-d5232da19961\">\n",
              "      Upload widget is only available when the cell has been executed in the\n",
              "      current browser session. Please rerun this cell to enable.\n",
              "      </output>\n",
              "      <script src=\"/nbextensions/google.colab/files.js\"></script> "
            ]
          },
          "metadata": {}
        },
        {
          "output_type": "stream",
          "name": "stdout",
          "text": [
            "Saving data.csv to data.csv\n"
          ]
        }
      ]
    },
    {
      "cell_type": "markdown",
      "source": [
        "## Reading the data\n",
        "\n",
        "This section reads the data from .csv file and splits it appropriately into training and test datasets."
      ],
      "metadata": {
        "id": "SW1VEA6CmCXC"
      }
    },
    {
      "cell_type": "code",
      "execution_count": 1,
      "metadata": {
        "colab": {
          "base_uri": "https://localhost:8080/",
          "height": 386
        },
        "id": "8i5X0eUiM5Px",
        "outputId": "d7bf99ea-dd9a-4181-f1ac-3d6e0e85bce9"
      },
      "outputs": [
        {
          "output_type": "execute_result",
          "data": {
            "text/plain": [
              "   Bankrupt?   ROA(C) before interest and depreciation before interest  \\\n",
              "0          1                                           0.370594          \n",
              "1          1                                           0.464291          \n",
              "2          1                                           0.426071          \n",
              "3          1                                           0.399844          \n",
              "4          1                                           0.465022          \n",
              "\n",
              "    ROA(A) before interest and % after tax  \\\n",
              "0                                 0.424389   \n",
              "1                                 0.538214   \n",
              "2                                 0.499019   \n",
              "3                                 0.451265   \n",
              "4                                 0.538432   \n",
              "\n",
              "    ROA(B) before interest and depreciation after tax  \\\n",
              "0                                           0.405750    \n",
              "1                                           0.516730    \n",
              "2                                           0.472295    \n",
              "3                                           0.457733    \n",
              "4                                           0.522298    \n",
              "\n",
              "    Operating Gross Margin   Realized Sales Gross Margin  \\\n",
              "0                 0.601457                      0.601457   \n",
              "1                 0.610235                      0.610235   \n",
              "2                 0.601450                      0.601364   \n",
              "3                 0.583541                      0.583541   \n",
              "4                 0.598783                      0.598783   \n",
              "\n",
              "    Operating Profit Rate   Pre-tax net Interest Rate  \\\n",
              "0                0.998969                    0.796887   \n",
              "1                0.998946                    0.797380   \n",
              "2                0.998857                    0.796403   \n",
              "3                0.998700                    0.796967   \n",
              "4                0.998973                    0.797366   \n",
              "\n",
              "    After-tax net Interest Rate   Non-industry income and expenditure/revenue  \\\n",
              "0                      0.808809                                      0.302646   \n",
              "1                      0.809301                                      0.303556   \n",
              "2                      0.808388                                      0.302035   \n",
              "3                      0.808966                                      0.303350   \n",
              "4                      0.809304                                      0.303475   \n",
              "\n",
              "   ...   Net Income to Total Assets   Total assets to GNP price  \\\n",
              "0  ...                     0.716845                    0.009219   \n",
              "1  ...                     0.795297                    0.008323   \n",
              "2  ...                     0.774670                    0.040003   \n",
              "3  ...                     0.739555                    0.003252   \n",
              "4  ...                     0.795016                    0.003878   \n",
              "\n",
              "    No-credit Interval   Gross Profit to Sales  \\\n",
              "0             0.622879                0.601453   \n",
              "1             0.623652                0.610237   \n",
              "2             0.623841                0.601449   \n",
              "3             0.622929                0.583538   \n",
              "4             0.623521                0.598782   \n",
              "\n",
              "    Net Income to Stockholder's Equity   Liability to Equity  \\\n",
              "0                             0.827890              0.290202   \n",
              "1                             0.839969              0.283846   \n",
              "2                             0.836774              0.290189   \n",
              "3                             0.834697              0.281721   \n",
              "4                             0.839973              0.278514   \n",
              "\n",
              "    Degree of Financial Leverage (DFL)  \\\n",
              "0                             0.026601   \n",
              "1                             0.264577   \n",
              "2                             0.026555   \n",
              "3                             0.026697   \n",
              "4                             0.024752   \n",
              "\n",
              "    Interest Coverage Ratio (Interest expense to EBIT)   Net Income Flag  \\\n",
              "0                                           0.564050                   1   \n",
              "1                                           0.570175                   1   \n",
              "2                                           0.563706                   1   \n",
              "3                                           0.564663                   1   \n",
              "4                                           0.575617                   1   \n",
              "\n",
              "    Equity to Liability  \n",
              "0              0.016469  \n",
              "1              0.020794  \n",
              "2              0.016474  \n",
              "3              0.023982  \n",
              "4              0.035490  \n",
              "\n",
              "[5 rows x 96 columns]"
            ],
            "text/html": [
              "\n",
              "  <div id=\"df-462b2255-5e84-49e8-a8e8-22d7480a0ecc\">\n",
              "    <div class=\"colab-df-container\">\n",
              "      <div>\n",
              "<style scoped>\n",
              "    .dataframe tbody tr th:only-of-type {\n",
              "        vertical-align: middle;\n",
              "    }\n",
              "\n",
              "    .dataframe tbody tr th {\n",
              "        vertical-align: top;\n",
              "    }\n",
              "\n",
              "    .dataframe thead th {\n",
              "        text-align: right;\n",
              "    }\n",
              "</style>\n",
              "<table border=\"1\" class=\"dataframe\">\n",
              "  <thead>\n",
              "    <tr style=\"text-align: right;\">\n",
              "      <th></th>\n",
              "      <th>Bankrupt?</th>\n",
              "      <th>ROA(C) before interest and depreciation before interest</th>\n",
              "      <th>ROA(A) before interest and % after tax</th>\n",
              "      <th>ROA(B) before interest and depreciation after tax</th>\n",
              "      <th>Operating Gross Margin</th>\n",
              "      <th>Realized Sales Gross Margin</th>\n",
              "      <th>Operating Profit Rate</th>\n",
              "      <th>Pre-tax net Interest Rate</th>\n",
              "      <th>After-tax net Interest Rate</th>\n",
              "      <th>Non-industry income and expenditure/revenue</th>\n",
              "      <th>...</th>\n",
              "      <th>Net Income to Total Assets</th>\n",
              "      <th>Total assets to GNP price</th>\n",
              "      <th>No-credit Interval</th>\n",
              "      <th>Gross Profit to Sales</th>\n",
              "      <th>Net Income to Stockholder's Equity</th>\n",
              "      <th>Liability to Equity</th>\n",
              "      <th>Degree of Financial Leverage (DFL)</th>\n",
              "      <th>Interest Coverage Ratio (Interest expense to EBIT)</th>\n",
              "      <th>Net Income Flag</th>\n",
              "      <th>Equity to Liability</th>\n",
              "    </tr>\n",
              "  </thead>\n",
              "  <tbody>\n",
              "    <tr>\n",
              "      <th>0</th>\n",
              "      <td>1</td>\n",
              "      <td>0.370594</td>\n",
              "      <td>0.424389</td>\n",
              "      <td>0.405750</td>\n",
              "      <td>0.601457</td>\n",
              "      <td>0.601457</td>\n",
              "      <td>0.998969</td>\n",
              "      <td>0.796887</td>\n",
              "      <td>0.808809</td>\n",
              "      <td>0.302646</td>\n",
              "      <td>...</td>\n",
              "      <td>0.716845</td>\n",
              "      <td>0.009219</td>\n",
              "      <td>0.622879</td>\n",
              "      <td>0.601453</td>\n",
              "      <td>0.827890</td>\n",
              "      <td>0.290202</td>\n",
              "      <td>0.026601</td>\n",
              "      <td>0.564050</td>\n",
              "      <td>1</td>\n",
              "      <td>0.016469</td>\n",
              "    </tr>\n",
              "    <tr>\n",
              "      <th>1</th>\n",
              "      <td>1</td>\n",
              "      <td>0.464291</td>\n",
              "      <td>0.538214</td>\n",
              "      <td>0.516730</td>\n",
              "      <td>0.610235</td>\n",
              "      <td>0.610235</td>\n",
              "      <td>0.998946</td>\n",
              "      <td>0.797380</td>\n",
              "      <td>0.809301</td>\n",
              "      <td>0.303556</td>\n",
              "      <td>...</td>\n",
              "      <td>0.795297</td>\n",
              "      <td>0.008323</td>\n",
              "      <td>0.623652</td>\n",
              "      <td>0.610237</td>\n",
              "      <td>0.839969</td>\n",
              "      <td>0.283846</td>\n",
              "      <td>0.264577</td>\n",
              "      <td>0.570175</td>\n",
              "      <td>1</td>\n",
              "      <td>0.020794</td>\n",
              "    </tr>\n",
              "    <tr>\n",
              "      <th>2</th>\n",
              "      <td>1</td>\n",
              "      <td>0.426071</td>\n",
              "      <td>0.499019</td>\n",
              "      <td>0.472295</td>\n",
              "      <td>0.601450</td>\n",
              "      <td>0.601364</td>\n",
              "      <td>0.998857</td>\n",
              "      <td>0.796403</td>\n",
              "      <td>0.808388</td>\n",
              "      <td>0.302035</td>\n",
              "      <td>...</td>\n",
              "      <td>0.774670</td>\n",
              "      <td>0.040003</td>\n",
              "      <td>0.623841</td>\n",
              "      <td>0.601449</td>\n",
              "      <td>0.836774</td>\n",
              "      <td>0.290189</td>\n",
              "      <td>0.026555</td>\n",
              "      <td>0.563706</td>\n",
              "      <td>1</td>\n",
              "      <td>0.016474</td>\n",
              "    </tr>\n",
              "    <tr>\n",
              "      <th>3</th>\n",
              "      <td>1</td>\n",
              "      <td>0.399844</td>\n",
              "      <td>0.451265</td>\n",
              "      <td>0.457733</td>\n",
              "      <td>0.583541</td>\n",
              "      <td>0.583541</td>\n",
              "      <td>0.998700</td>\n",
              "      <td>0.796967</td>\n",
              "      <td>0.808966</td>\n",
              "      <td>0.303350</td>\n",
              "      <td>...</td>\n",
              "      <td>0.739555</td>\n",
              "      <td>0.003252</td>\n",
              "      <td>0.622929</td>\n",
              "      <td>0.583538</td>\n",
              "      <td>0.834697</td>\n",
              "      <td>0.281721</td>\n",
              "      <td>0.026697</td>\n",
              "      <td>0.564663</td>\n",
              "      <td>1</td>\n",
              "      <td>0.023982</td>\n",
              "    </tr>\n",
              "    <tr>\n",
              "      <th>4</th>\n",
              "      <td>1</td>\n",
              "      <td>0.465022</td>\n",
              "      <td>0.538432</td>\n",
              "      <td>0.522298</td>\n",
              "      <td>0.598783</td>\n",
              "      <td>0.598783</td>\n",
              "      <td>0.998973</td>\n",
              "      <td>0.797366</td>\n",
              "      <td>0.809304</td>\n",
              "      <td>0.303475</td>\n",
              "      <td>...</td>\n",
              "      <td>0.795016</td>\n",
              "      <td>0.003878</td>\n",
              "      <td>0.623521</td>\n",
              "      <td>0.598782</td>\n",
              "      <td>0.839973</td>\n",
              "      <td>0.278514</td>\n",
              "      <td>0.024752</td>\n",
              "      <td>0.575617</td>\n",
              "      <td>1</td>\n",
              "      <td>0.035490</td>\n",
              "    </tr>\n",
              "  </tbody>\n",
              "</table>\n",
              "<p>5 rows × 96 columns</p>\n",
              "</div>\n",
              "      <button class=\"colab-df-convert\" onclick=\"convertToInteractive('df-462b2255-5e84-49e8-a8e8-22d7480a0ecc')\"\n",
              "              title=\"Convert this dataframe to an interactive table.\"\n",
              "              style=\"display:none;\">\n",
              "        \n",
              "  <svg xmlns=\"http://www.w3.org/2000/svg\" height=\"24px\"viewBox=\"0 0 24 24\"\n",
              "       width=\"24px\">\n",
              "    <path d=\"M0 0h24v24H0V0z\" fill=\"none\"/>\n",
              "    <path d=\"M18.56 5.44l.94 2.06.94-2.06 2.06-.94-2.06-.94-.94-2.06-.94 2.06-2.06.94zm-11 1L8.5 8.5l.94-2.06 2.06-.94-2.06-.94L8.5 2.5l-.94 2.06-2.06.94zm10 10l.94 2.06.94-2.06 2.06-.94-2.06-.94-.94-2.06-.94 2.06-2.06.94z\"/><path d=\"M17.41 7.96l-1.37-1.37c-.4-.4-.92-.59-1.43-.59-.52 0-1.04.2-1.43.59L10.3 9.45l-7.72 7.72c-.78.78-.78 2.05 0 2.83L4 21.41c.39.39.9.59 1.41.59.51 0 1.02-.2 1.41-.59l7.78-7.78 2.81-2.81c.8-.78.8-2.07 0-2.86zM5.41 20L4 18.59l7.72-7.72 1.47 1.35L5.41 20z\"/>\n",
              "  </svg>\n",
              "      </button>\n",
              "      \n",
              "  <style>\n",
              "    .colab-df-container {\n",
              "      display:flex;\n",
              "      flex-wrap:wrap;\n",
              "      gap: 12px;\n",
              "    }\n",
              "\n",
              "    .colab-df-convert {\n",
              "      background-color: #E8F0FE;\n",
              "      border: none;\n",
              "      border-radius: 50%;\n",
              "      cursor: pointer;\n",
              "      display: none;\n",
              "      fill: #1967D2;\n",
              "      height: 32px;\n",
              "      padding: 0 0 0 0;\n",
              "      width: 32px;\n",
              "    }\n",
              "\n",
              "    .colab-df-convert:hover {\n",
              "      background-color: #E2EBFA;\n",
              "      box-shadow: 0px 1px 2px rgba(60, 64, 67, 0.3), 0px 1px 3px 1px rgba(60, 64, 67, 0.15);\n",
              "      fill: #174EA6;\n",
              "    }\n",
              "\n",
              "    [theme=dark] .colab-df-convert {\n",
              "      background-color: #3B4455;\n",
              "      fill: #D2E3FC;\n",
              "    }\n",
              "\n",
              "    [theme=dark] .colab-df-convert:hover {\n",
              "      background-color: #434B5C;\n",
              "      box-shadow: 0px 1px 3px 1px rgba(0, 0, 0, 0.15);\n",
              "      filter: drop-shadow(0px 1px 2px rgba(0, 0, 0, 0.3));\n",
              "      fill: #FFFFFF;\n",
              "    }\n",
              "  </style>\n",
              "\n",
              "      <script>\n",
              "        const buttonEl =\n",
              "          document.querySelector('#df-462b2255-5e84-49e8-a8e8-22d7480a0ecc button.colab-df-convert');\n",
              "        buttonEl.style.display =\n",
              "          google.colab.kernel.accessAllowed ? 'block' : 'none';\n",
              "\n",
              "        async function convertToInteractive(key) {\n",
              "          const element = document.querySelector('#df-462b2255-5e84-49e8-a8e8-22d7480a0ecc');\n",
              "          const dataTable =\n",
              "            await google.colab.kernel.invokeFunction('convertToInteractive',\n",
              "                                                     [key], {});\n",
              "          if (!dataTable) return;\n",
              "\n",
              "          const docLinkHtml = 'Like what you see? Visit the ' +\n",
              "            '<a target=\"_blank\" href=https://colab.research.google.com/notebooks/data_table.ipynb>data table notebook</a>'\n",
              "            + ' to learn more about interactive tables.';\n",
              "          element.innerHTML = '';\n",
              "          dataTable['output_type'] = 'display_data';\n",
              "          await google.colab.output.renderOutput(dataTable, element);\n",
              "          const docLink = document.createElement('div');\n",
              "          docLink.innerHTML = docLinkHtml;\n",
              "          element.appendChild(docLink);\n",
              "        }\n",
              "      </script>\n",
              "    </div>\n",
              "  </div>\n",
              "  "
            ]
          },
          "metadata": {},
          "execution_count": 1
        }
      ],
      "source": [
        "# read the data \n",
        "import os\n",
        "import numpy as np\n",
        "import pandas as pd\n",
        "data = pd.read_csv(\"data.csv\")\n",
        "data.head()\n",
        "\n"
      ]
    },
    {
      "cell_type": "code",
      "source": [
        "#check distribution of bankrupt variable which is the target variable\n",
        "\n",
        "data['Bankrupt?'].hist()"
      ],
      "metadata": {
        "colab": {
          "base_uri": "https://localhost:8080/",
          "height": 282
        },
        "id": "FKWetIxUhRdz",
        "outputId": "404187a5-cec6-4919-b70f-bf48e5481b77"
      },
      "execution_count": 2,
      "outputs": [
        {
          "output_type": "execute_result",
          "data": {
            "text/plain": [
              "<matplotlib.axes._subplots.AxesSubplot at 0x7f6a29d02f10>"
            ]
          },
          "metadata": {},
          "execution_count": 2
        },
        {
          "output_type": "display_data",
          "data": {
            "text/plain": [
              "<Figure size 432x288 with 1 Axes>"
            ],
            "image/png": "[encoded data removed]"
          },
          "metadata": {
            "needs_background": "light"
          }
        }
      ]
    },
    {
      "cell_type": "markdown",
      "source": [
        "As seen above, the target variable is highly imbalanced as is also mentioned in the paper by Liang et. al. To better handle this imbalanced class data, stratified sampling is used.\n",
        "\n",
        "Also, to take care of this class imbalance problem, class_weight='balanced' parameter is used in the classifiers.  This modifies the training procedure for classifiers to take into account the imbalance classes. By default, equal weights are assigned but with class_weight='balanced' weights are assigned during training that are inversely proportional to the frequency of classes. This penalizes the misclassification more for the minority class compared to the majority one. \n",
        "\n",
        "A training-test split of 80-20 is used in the stratified sampling implementation below."
      ],
      "metadata": {
        "id": "8_W8cbjYhbzM"
      }
    },
    {
      "cell_type": "code",
      "source": [
        "from sklearn.model_selection import StratifiedShuffleSplit\n",
        "split = StratifiedShuffleSplit(n_splits=1, test_size=0.2, random_state=42)\n",
        "for train_index, test_index in split.split(data, data[\"Bankrupt?\"]):\n",
        "    strat_train_set = data.loc[train_index]\n",
        "    strat_test_set = data.loc[test_index]\n",
        "\n",
        "X_raw = strat_train_set.drop(\"Bankrupt?\", axis=1)\n",
        "y = strat_train_set[\"Bankrupt?\"].copy()\n",
        "\n",
        "X_test = strat_test_set.drop(\"Bankrupt?\", axis=1)\n",
        "y_test = strat_test_set[\"Bankrupt?\"].copy()\n"
      ],
      "metadata": {
        "id": "cTyPl0rGh1HG"
      },
      "execution_count": 3,
      "outputs": []
    },
    {
      "cell_type": "code",
      "source": [
        "import matplotlib.pyplot as plt\n",
        "\n",
        "plt.hist(strat_train_set[\"Bankrupt?\"], label=\"Training data\")\n",
        "plt.hist(strat_test_set[\"Bankrupt?\"], label=\"Test data\")\n",
        "plt.title(\"Histogram of Bankrupt class after stratified sampling\")\n",
        "plt.legend()\n",
        "plt.show()"
      ],
      "metadata": {
        "colab": {
          "base_uri": "https://localhost:8080/",
          "height": 281
        },
        "id": "BEIRjqcpk3Yt",
        "outputId": "cf61281d-05e9-4eac-a710-d6a3d749c4ab"
      },
      "execution_count": 4,
      "outputs": [
        {
          "output_type": "display_data",
          "data": {
            "text/plain": [
              "<Figure size 432x288 with 1 Axes>"
            ],
            "image/png": "[encoded data removed]"
          },
          "metadata": {
            "needs_background": "light"
          }
        }
      ]
    },
    {
      "cell_type": "markdown",
      "source": [
        "## Preprocessing the data\n",
        "\n",
        "This section applies appropriate preprocessing steps to the data to make it ready for training models."
      ],
      "metadata": {
        "id": "vUbBwQhXmYgh"
      }
    },
    {
      "cell_type": "markdown",
      "source": [
        "### Handling Missing values"
      ],
      "metadata": {
        "id": "Mxma7pEjrFkH"
      }
    },
    {
      "cell_type": "code",
      "source": [
        "X_raw.shape"
      ],
      "metadata": {
        "colab": {
          "base_uri": "https://localhost:8080/"
        },
        "id": "BHZavADPqiLf",
        "outputId": "1a7e7e98-ba1e-4b9d-c3c1-3a4060752a3e"
      },
      "execution_count": 5,
      "outputs": [
        {
          "output_type": "execute_result",
          "data": {
            "text/plain": [
              "(5455, 95)"
            ]
          },
          "metadata": {},
          "execution_count": 5
        }
      ]
    },
    {
      "cell_type": "code",
      "source": [
        "X_raw[X_raw.isnull().any(axis=1)].shape"
      ],
      "metadata": {
        "colab": {
          "base_uri": "https://localhost:8080/"
        },
        "id": "1kIbEBUPqncl",
        "outputId": "ba055dda-2993-49d9-9ec5-3cad7ae277dc"
      },
      "execution_count": 6,
      "outputs": [
        {
          "output_type": "execute_result",
          "data": {
            "text/plain": [
              "(0, 95)"
            ]
          },
          "metadata": {},
          "execution_count": 6
        }
      ]
    },
    {
      "cell_type": "code",
      "source": [
        "X_raw[X_raw.isna().any(axis=1)].shape"
      ],
      "metadata": {
        "colab": {
          "base_uri": "https://localhost:8080/"
        },
        "id": "ThwyLsOsqvgC",
        "outputId": "893de2bb-30c6-4220-e35b-44620357494a"
      },
      "execution_count": 7,
      "outputs": [
        {
          "output_type": "execute_result",
          "data": {
            "text/plain": [
              "(0, 95)"
            ]
          },
          "metadata": {},
          "execution_count": 7
        }
      ]
    },
    {
      "cell_type": "markdown",
      "source": [
        "The training data has 5455 observations and 95 features. There is no missing values as shown by the checks for null and na values. "
      ],
      "metadata": {
        "id": "uWz48Ks5rfUR"
      }
    },
    {
      "cell_type": "markdown",
      "source": [
        "### Categorical features"
      ],
      "metadata": {
        "id": "2H9_2GAar5YT"
      }
    },
    {
      "cell_type": "code",
      "source": [
        "X_raw.dtypes"
      ],
      "metadata": {
        "colab": {
          "base_uri": "https://localhost:8080/"
        },
        "id": "FV64GlK5wl8F",
        "outputId": "e6ae0317-e706-4e32-fa9e-0a6b7a595a46"
      },
      "execution_count": 8,
      "outputs": [
        {
          "output_type": "execute_result",
          "data": {
            "text/plain": [
              " ROA(C) before interest and depreciation before interest    float64\n",
              " ROA(A) before interest and % after tax                     float64\n",
              " ROA(B) before interest and depreciation after tax          float64\n",
              " Operating Gross Margin                                     float64\n",
              " Realized Sales Gross Margin                                float64\n",
              "                                                             ...   \n",
              " Liability to Equity                                        float64\n",
              " Degree of Financial Leverage (DFL)                         float64\n",
              " Interest Coverage Ratio (Interest expense to EBIT)         float64\n",
              " Net Income Flag                                              int64\n",
              " Equity to Liability                                        float64\n",
              "Length: 95, dtype: object"
            ]
          },
          "metadata": {},
          "execution_count": 8
        }
      ]
    },
    {
      "cell_type": "markdown",
      "source": [
        "After checking the datatypes of all columns in the dataset it was determined that the columns are all numerical attributes and there is no categorical data. "
      ],
      "metadata": {
        "id": "7LnN59_iwppL"
      }
    },
    {
      "cell_type": "markdown",
      "source": [
        "Implemented below are some utility functions for the project."
      ],
      "metadata": {
        "id": "2lxJVYYVmzni"
      }
    },
    {
      "cell_type": "markdown",
      "source": [
        "### Feature Scaling"
      ],
      "metadata": {
        "id": "6ZudOOaLwzIQ"
      }
    },
    {
      "cell_type": "markdown",
      "source": [
        "All the features are scaled(standardized) using MinMaxScaler.\n",
        "The transformed values are between 0 and 1 i.e. they are normalized same as Liang et. al. "
      ],
      "metadata": {
        "id": "Qy6eUTFqyvDv"
      }
    },
    {
      "cell_type": "code",
      "source": [
        "from sklearn.preprocessing import MinMaxScaler\n",
        "\n",
        "minmax_scalar = MinMaxScaler()\n",
        "Standard_X = minmax_scalar.fit(X_raw)\n",
        "X_raw_transformed = Standard_X.transform(X_raw)\n",
        "X = pd.DataFrame(X_raw_transformed, columns=X_raw.columns,index=X_raw.index)\n",
        "X.head()"
      ],
      "metadata": {
        "colab": {
          "base_uri": "https://localhost:8080/",
          "height": 473
        },
        "id": "joYgzMDdyVKy",
        "outputId": "e0332bf8-3022-4384-f546-f5d8ffd738f1"
      },
      "execution_count": 9,
      "outputs": [
        {
          "output_type": "execute_result",
          "data": {
            "text/plain": [
              "       ROA(C) before interest and depreciation before interest  \\\n",
              "318                                            0.481189          \n",
              "5796                                           0.522808          \n",
              "4454                                           0.514614          \n",
              "2225                                           0.456508          \n",
              "3249                                           0.376418          \n",
              "\n",
              "       ROA(A) before interest and % after tax  \\\n",
              "318                                  0.550153   \n",
              "5796                                 0.590765   \n",
              "4454                                 0.586895   \n",
              "2225                                 0.536851   \n",
              "3249                                 0.443197   \n",
              "\n",
              "       ROA(B) before interest and depreciation after tax  \\\n",
              "318                                            0.528832    \n",
              "5796                                           0.558633    \n",
              "4454                                           0.551487    \n",
              "2225                                           0.504459    \n",
              "3249                                           0.412785    \n",
              "\n",
              "       Operating Gross Margin   Realized Sales Gross Margin  \\\n",
              "318                  0.899832                      0.898654   \n",
              "5796                 0.901002                      0.899628   \n",
              "4454                 0.912184                      0.910989   \n",
              "2225                 0.895097                      0.893925   \n",
              "3249                 0.999014                      0.997706   \n",
              "\n",
              "       Operating Profit Rate   Pre-tax net Interest Rate  \\\n",
              "318                 0.998980                    0.797443   \n",
              "5796                0.999023                    0.797454   \n",
              "4454                0.999103                    0.797606   \n",
              "2225                0.998967                    0.797390   \n",
              "3249                0.995856                    0.794096   \n",
              "\n",
              "       After-tax net Interest Rate  \\\n",
              "318                       0.791807   \n",
              "5796                      0.791812   \n",
              "4454                      0.791933   \n",
              "2225                      0.791761   \n",
              "3249                      0.788379   \n",
              "\n",
              "       Non-industry income and expenditure/revenue  \\\n",
              "318                                       0.257162   \n",
              "5796                                      0.257087   \n",
              "4454                                      0.257191   \n",
              "2225                                      0.257093   \n",
              "3249                                      0.257894   \n",
              "\n",
              "       Continuous interest rate (after tax)  ...   Net Income to Total Assets  \\\n",
              "318                                0.781616  ...                     0.806631   \n",
              "5796                               0.781621  ...                     0.827723   \n",
              "4454                               0.781718  ...                     0.828627   \n",
              "2225                               0.781572  ...                     0.797846   \n",
              "3249                               0.777918  ...                     0.756573   \n",
              "\n",
              "       Total assets to GNP price   No-credit Interval   Gross Profit to Sales  \\\n",
              "318                 1.666653e-13             0.623661                0.899830   \n",
              "5796                1.098794e-13             0.624307                0.900998   \n",
              "4454                2.551415e-13             0.624714                0.912185   \n",
              "2225                3.156365e-13             0.624621                0.895093   \n",
              "3249                2.014380e-14             0.624242                0.999011   \n",
              "\n",
              "       Net Income to Stockholder's Equity   Liability to Equity  \\\n",
              "318                              0.756845              0.164776   \n",
              "5796                             0.760811              0.172086   \n",
              "4454                             0.758880              0.165181   \n",
              "2225                             0.756233              0.173438   \n",
              "3249                             0.752978              0.163429   \n",
              "\n",
              "       Degree of Financial Leverage (DFL)  \\\n",
              "318                              0.026814   \n",
              "5796                             0.026852   \n",
              "4454                             0.026791   \n",
              "2225                             0.027673   \n",
              "3249                             0.026791   \n",
              "\n",
              "       Interest Coverage Ratio (Interest expense to EBIT)   Net Income Flag  \\\n",
              "318                                            0.565265                 0.0   \n",
              "5796                                           0.565433                 0.0   \n",
              "4454                                           0.565159                 0.0   \n",
              "2225                                           0.567450                 0.0   \n",
              "3249                                           0.565158                 0.0   \n",
              "\n",
              "       Equity to Liability  \n",
              "318               0.070742  \n",
              "5796              0.022433  \n",
              "4454              0.059856  \n",
              "2225              0.020864  \n",
              "3249              0.233952  \n",
              "\n",
              "[5 rows x 95 columns]"
            ],
            "text/html": [
              "\n",
              "  <div id=\"df-4e22b8d4-3eaf-4a05-b66c-8b2526cc37c1\">\n",
              "    <div class=\"colab-df-container\">\n",
              "      <div>\n",
              "<style scoped>\n",
              "    .dataframe tbody tr th:only-of-type {\n",
              "        vertical-align: middle;\n",
              "    }\n",
              "\n",
              "    .dataframe tbody tr th {\n",
              "        vertical-align: top;\n",
              "    }\n",
              "\n",
              "    .dataframe thead th {\n",
              "        text-align: right;\n",
              "    }\n",
              "</style>\n",
              "<table border=\"1\" class=\"dataframe\">\n",
              "  <thead>\n",
              "    <tr style=\"text-align: right;\">\n",
              "      <th></th>\n",
              "      <th>ROA(C) before interest and depreciation before interest</th>\n",
              "      <th>ROA(A) before interest and % after tax</th>\n",
              "      <th>ROA(B) before interest and depreciation after tax</th>\n",
              "      <th>Operating Gross Margin</th>\n",
              "      <th>Realized Sales Gross Margin</th>\n",
              "      <th>Operating Profit Rate</th>\n",
              "      <th>Pre-tax net Interest Rate</th>\n",
              "      <th>After-tax net Interest Rate</th>\n",
              "      <th>Non-industry income and expenditure/revenue</th>\n",
              "      <th>Continuous interest rate (after tax)</th>\n",
              "      <th>...</th>\n",
              "      <th>Net Income to Total Assets</th>\n",
              "      <th>Total assets to GNP price</th>\n",
              "      <th>No-credit Interval</th>\n",
              "      <th>Gross Profit to Sales</th>\n",
              "      <th>Net Income to Stockholder's Equity</th>\n",
              "      <th>Liability to Equity</th>\n",
              "      <th>Degree of Financial Leverage (DFL)</th>\n",
              "      <th>Interest Coverage Ratio (Interest expense to EBIT)</th>\n",
              "      <th>Net Income Flag</th>\n",
              "      <th>Equity to Liability</th>\n",
              "    </tr>\n",
              "  </thead>\n",
              "  <tbody>\n",
              "    <tr>\n",
              "      <th>318</th>\n",
              "      <td>0.481189</td>\n",
              "      <td>0.550153</td>\n",
              "      <td>0.528832</td>\n",
              "      <td>0.899832</td>\n",
              "      <td>0.898654</td>\n",
              "      <td>0.998980</td>\n",
              "      <td>0.797443</td>\n",
              "      <td>0.791807</td>\n",
              "      <td>0.257162</td>\n",
              "      <td>0.781616</td>\n",
              "      <td>...</td>\n",
              "      <td>0.806631</td>\n",
              "      <td>1.666653e-13</td>\n",
              "      <td>0.623661</td>\n",
              "      <td>0.899830</td>\n",
              "      <td>0.756845</td>\n",
              "      <td>0.164776</td>\n",
              "      <td>0.026814</td>\n",
              "      <td>0.565265</td>\n",
              "      <td>0.0</td>\n",
              "      <td>0.070742</td>\n",
              "    </tr>\n",
              "    <tr>\n",
              "      <th>5796</th>\n",
              "      <td>0.522808</td>\n",
              "      <td>0.590765</td>\n",
              "      <td>0.558633</td>\n",
              "      <td>0.901002</td>\n",
              "      <td>0.899628</td>\n",
              "      <td>0.999023</td>\n",
              "      <td>0.797454</td>\n",
              "      <td>0.791812</td>\n",
              "      <td>0.257087</td>\n",
              "      <td>0.781621</td>\n",
              "      <td>...</td>\n",
              "      <td>0.827723</td>\n",
              "      <td>1.098794e-13</td>\n",
              "      <td>0.624307</td>\n",
              "      <td>0.900998</td>\n",
              "      <td>0.760811</td>\n",
              "      <td>0.172086</td>\n",
              "      <td>0.026852</td>\n",
              "      <td>0.565433</td>\n",
              "      <td>0.0</td>\n",
              "      <td>0.022433</td>\n",
              "    </tr>\n",
              "    <tr>\n",
              "      <th>4454</th>\n",
              "      <td>0.514614</td>\n",
              "      <td>0.586895</td>\n",
              "      <td>0.551487</td>\n",
              "      <td>0.912184</td>\n",
              "      <td>0.910989</td>\n",
              "      <td>0.999103</td>\n",
              "      <td>0.797606</td>\n",
              "      <td>0.791933</td>\n",
              "      <td>0.257191</td>\n",
              "      <td>0.781718</td>\n",
              "      <td>...</td>\n",
              "      <td>0.828627</td>\n",
              "      <td>2.551415e-13</td>\n",
              "      <td>0.624714</td>\n",
              "      <td>0.912185</td>\n",
              "      <td>0.758880</td>\n",
              "      <td>0.165181</td>\n",
              "      <td>0.026791</td>\n",
              "      <td>0.565159</td>\n",
              "      <td>0.0</td>\n",
              "      <td>0.059856</td>\n",
              "    </tr>\n",
              "    <tr>\n",
              "      <th>2225</th>\n",
              "      <td>0.456508</td>\n",
              "      <td>0.536851</td>\n",
              "      <td>0.504459</td>\n",
              "      <td>0.895097</td>\n",
              "      <td>0.893925</td>\n",
              "      <td>0.998967</td>\n",
              "      <td>0.797390</td>\n",
              "      <td>0.791761</td>\n",
              "      <td>0.257093</td>\n",
              "      <td>0.781572</td>\n",
              "      <td>...</td>\n",
              "      <td>0.797846</td>\n",
              "      <td>3.156365e-13</td>\n",
              "      <td>0.624621</td>\n",
              "      <td>0.895093</td>\n",
              "      <td>0.756233</td>\n",
              "      <td>0.173438</td>\n",
              "      <td>0.027673</td>\n",
              "      <td>0.567450</td>\n",
              "      <td>0.0</td>\n",
              "      <td>0.020864</td>\n",
              "    </tr>\n",
              "    <tr>\n",
              "      <th>3249</th>\n",
              "      <td>0.376418</td>\n",
              "      <td>0.443197</td>\n",
              "      <td>0.412785</td>\n",
              "      <td>0.999014</td>\n",
              "      <td>0.997706</td>\n",
              "      <td>0.995856</td>\n",
              "      <td>0.794096</td>\n",
              "      <td>0.788379</td>\n",
              "      <td>0.257894</td>\n",
              "      <td>0.777918</td>\n",
              "      <td>...</td>\n",
              "      <td>0.756573</td>\n",
              "      <td>2.014380e-14</td>\n",
              "      <td>0.624242</td>\n",
              "      <td>0.999011</td>\n",
              "      <td>0.752978</td>\n",
              "      <td>0.163429</td>\n",
              "      <td>0.026791</td>\n",
              "      <td>0.565158</td>\n",
              "      <td>0.0</td>\n",
              "      <td>0.233952</td>\n",
              "    </tr>\n",
              "  </tbody>\n",
              "</table>\n",
              "<p>5 rows × 95 columns</p>\n",
              "</div>\n",
              "      <button class=\"colab-df-convert\" onclick=\"convertToInteractive('df-4e22b8d4-3eaf-4a05-b66c-8b2526cc37c1')\"\n",
              "              title=\"Convert this dataframe to an interactive table.\"\n",
              "              style=\"display:none;\">\n",
              "        \n",
              "  <svg xmlns=\"http://www.w3.org/2000/svg\" height=\"24px\"viewBox=\"0 0 24 24\"\n",
              "       width=\"24px\">\n",
              "    <path d=\"M0 0h24v24H0V0z\" fill=\"none\"/>\n",
              "    <path d=\"M18.56 5.44l.94 2.06.94-2.06 2.06-.94-2.06-.94-.94-2.06-.94 2.06-2.06.94zm-11 1L8.5 8.5l.94-2.06 2.06-.94-2.06-.94L8.5 2.5l-.94 2.06-2.06.94zm10 10l.94 2.06.94-2.06 2.06-.94-2.06-.94-.94-2.06-.94 2.06-2.06.94z\"/><path d=\"M17.41 7.96l-1.37-1.37c-.4-.4-.92-.59-1.43-.59-.52 0-1.04.2-1.43.59L10.3 9.45l-7.72 7.72c-.78.78-.78 2.05 0 2.83L4 21.41c.39.39.9.59 1.41.59.51 0 1.02-.2 1.41-.59l7.78-7.78 2.81-2.81c.8-.78.8-2.07 0-2.86zM5.41 20L4 18.59l7.72-7.72 1.47 1.35L5.41 20z\"/>\n",
              "  </svg>\n",
              "      </button>\n",
              "      \n",
              "  <style>\n",
              "    .colab-df-container {\n",
              "      display:flex;\n",
              "      flex-wrap:wrap;\n",
              "      gap: 12px;\n",
              "    }\n",
              "\n",
              "    .colab-df-convert {\n",
              "      background-color: #E8F0FE;\n",
              "      border: none;\n",
              "      border-radius: 50%;\n",
              "      cursor: pointer;\n",
              "      display: none;\n",
              "      fill: #1967D2;\n",
              "      height: 32px;\n",
              "      padding: 0 0 0 0;\n",
              "      width: 32px;\n",
              "    }\n",
              "\n",
              "    .colab-df-convert:hover {\n",
              "      background-color: #E2EBFA;\n",
              "      box-shadow: 0px 1px 2px rgba(60, 64, 67, 0.3), 0px 1px 3px 1px rgba(60, 64, 67, 0.15);\n",
              "      fill: #174EA6;\n",
              "    }\n",
              "\n",
              "    [theme=dark] .colab-df-convert {\n",
              "      background-color: #3B4455;\n",
              "      fill: #D2E3FC;\n",
              "    }\n",
              "\n",
              "    [theme=dark] .colab-df-convert:hover {\n",
              "      background-color: #434B5C;\n",
              "      box-shadow: 0px 1px 3px 1px rgba(0, 0, 0, 0.15);\n",
              "      filter: drop-shadow(0px 1px 2px rgba(0, 0, 0, 0.3));\n",
              "      fill: #FFFFFF;\n",
              "    }\n",
              "  </style>\n",
              "\n",
              "      <script>\n",
              "        const buttonEl =\n",
              "          document.querySelector('#df-4e22b8d4-3eaf-4a05-b66c-8b2526cc37c1 button.colab-df-convert');\n",
              "        buttonEl.style.display =\n",
              "          google.colab.kernel.accessAllowed ? 'block' : 'none';\n",
              "\n",
              "        async function convertToInteractive(key) {\n",
              "          const element = document.querySelector('#df-4e22b8d4-3eaf-4a05-b66c-8b2526cc37c1');\n",
              "          const dataTable =\n",
              "            await google.colab.kernel.invokeFunction('convertToInteractive',\n",
              "                                                     [key], {});\n",
              "          if (!dataTable) return;\n",
              "\n",
              "          const docLinkHtml = 'Like what you see? Visit the ' +\n",
              "            '<a target=\"_blank\" href=https://colab.research.google.com/notebooks/data_table.ipynb>data table notebook</a>'\n",
              "            + ' to learn more about interactive tables.';\n",
              "          element.innerHTML = '';\n",
              "          dataTable['output_type'] = 'display_data';\n",
              "          await google.colab.output.renderOutput(dataTable, element);\n",
              "          const docLink = document.createElement('div');\n",
              "          docLink.innerHTML = docLinkHtml;\n",
              "          element.appendChild(docLink);\n",
              "        }\n",
              "      </script>\n",
              "    </div>\n",
              "  </div>\n",
              "  "
            ]
          },
          "metadata": {},
          "execution_count": 9
        }
      ]
    },
    {
      "cell_type": "code",
      "source": [
        "X_test_transformed = Standard_X.transform(X_test)\n",
        "X_test = pd.DataFrame(X_test_transformed, columns=X_raw.columns,index=X_test.index)\n",
        "X_test.head()"
      ],
      "metadata": {
        "colab": {
          "base_uri": "https://localhost:8080/",
          "height": 473
        },
        "id": "eTmci2AvJMJD",
        "outputId": "8cf04f8c-588d-406b-bef7-619c65f2e29f"
      },
      "execution_count": 10,
      "outputs": [
        {
          "output_type": "execute_result",
          "data": {
            "text/plain": [
              "       ROA(C) before interest and depreciation before interest  \\\n",
              "1244                                           0.490882          \n",
              "6303                                           0.473195          \n",
              "4712                                           0.543293          \n",
              "3273                                           0.655558          \n",
              "6430                                           0.436972          \n",
              "\n",
              "       ROA(A) before interest and % after tax  \\\n",
              "1244                                 0.556149   \n",
              "6303                                 0.547754   \n",
              "4712                                 0.618513   \n",
              "3273                                 0.692324   \n",
              "6430                                 0.509976   \n",
              "\n",
              "       ROA(B) before interest and depreciation after tax  \\\n",
              "1244                                           0.536753    \n",
              "6303                                           0.514374    \n",
              "4712                                           0.596023    \n",
              "3273                                           0.699164    \n",
              "6430                                           0.477926    \n",
              "\n",
              "       Operating Gross Margin   Realized Sales Gross Margin  \\\n",
              "1244                 0.916182                      0.914982   \n",
              "6303                 0.900265                      0.899087   \n",
              "4712                 0.913863                      0.912710   \n",
              "3273                 0.947299                      0.946059   \n",
              "6430                 0.977962                      0.976281   \n",
              "\n",
              "       Operating Profit Rate   Pre-tax net Interest Rate  \\\n",
              "1244                0.999043                    0.797445   \n",
              "6303                0.999002                    0.797424   \n",
              "4712                0.999043                    0.797758   \n",
              "3273                0.999314                    0.797808   \n",
              "6430                0.998738                    0.797212   \n",
              "\n",
              "       After-tax net Interest Rate  \\\n",
              "1244                      0.791801   \n",
              "6303                      0.791782   \n",
              "4712                      0.792117   \n",
              "3273                      0.792131   \n",
              "6430                      0.791509   \n",
              "\n",
              "       Non-industry income and expenditure/revenue  \\\n",
              "1244                                      0.257024   \n",
              "6303                                      0.257078   \n",
              "4712                                      0.257607   \n",
              "3273                                      0.257096   \n",
              "6430                                      0.257271   \n",
              "\n",
              "       Continuous interest rate (after tax)  ...   Net Income to Total Assets  \\\n",
              "1244                               0.781609  ...                     0.805667   \n",
              "6303                               0.781591  ...                     0.803448   \n",
              "4712                               0.781922  ...                     0.839238   \n",
              "3273                               0.781935  ...                     0.879037   \n",
              "6430                               0.781240  ...                     0.782600   \n",
              "\n",
              "       Total assets to GNP price   No-credit Interval   Gross Profit to Sales  \\\n",
              "1244                8.455800e-14             0.623746                0.916184   \n",
              "6303                1.984405e-13             0.623652                0.900264   \n",
              "4712                2.078966e-13             0.623843                0.913858   \n",
              "3273                1.159977e-13             0.624215                0.947295   \n",
              "6430                8.604712e-14             0.623938                0.977957   \n",
              "\n",
              "       Net Income to Stockholder's Equity   Liability to Equity  \\\n",
              "1244                             0.757387              0.171791   \n",
              "6303                             0.756747              0.167366   \n",
              "4712                             0.760748              0.167460   \n",
              "3273                             0.763387              0.165097   \n",
              "6430                             0.754912              0.163497   \n",
              "\n",
              "       Degree of Financial Leverage (DFL)  \\\n",
              "1244                             0.027273   \n",
              "6303                             0.027098   \n",
              "4712                             0.026816   \n",
              "3273                             0.026805   \n",
              "6430                             0.026709   \n",
              "\n",
              "       Interest Coverage Ratio (Interest expense to EBIT)   Net Income Flag  \\\n",
              "1244                                           0.566736                 0.0   \n",
              "6303                                           0.566292                 0.0   \n",
              "4712                                           0.565273                 0.0   \n",
              "3273                                           0.565222                 0.0   \n",
              "6430                                           0.564734                 0.0   \n",
              "\n",
              "       Equity to Liability  \n",
              "1244              0.022839  \n",
              "6303              0.035415  \n",
              "4712              0.034892  \n",
              "3273              0.061798  \n",
              "6430              0.207130  \n",
              "\n",
              "[5 rows x 95 columns]"
            ],
            "text/html": [
              "\n",
              "  <div id=\"df-1ade3f2b-be03-4ba3-9705-419d635d45fa\">\n",
              "    <div class=\"colab-df-container\">\n",
              "      <div>\n",
              "<style scoped>\n",
              "    .dataframe tbody tr th:only-of-type {\n",
              "        vertical-align: middle;\n",
              "    }\n",
              "\n",
              "    .dataframe tbody tr th {\n",
              "        vertical-align: top;\n",
              "    }\n",
              "\n",
              "    .dataframe thead th {\n",
              "        text-align: right;\n",
              "    }\n",
              "</style>\n",
              "<table border=\"1\" class=\"dataframe\">\n",
              "  <thead>\n",
              "    <tr style=\"text-align: right;\">\n",
              "      <th></th>\n",
              "      <th>ROA(C) before interest and depreciation before interest</th>\n",
              "      <th>ROA(A) before interest and % after tax</th>\n",
              "      <th>ROA(B) before interest and depreciation after tax</th>\n",
              "      <th>Operating Gross Margin</th>\n",
              "      <th>Realized Sales Gross Margin</th>\n",
              "      <th>Operating Profit Rate</th>\n",
              "      <th>Pre-tax net Interest Rate</th>\n",
              "      <th>After-tax net Interest Rate</th>\n",
              "      <th>Non-industry income and expenditure/revenue</th>\n",
              "      <th>Continuous interest rate (after tax)</th>\n",
              "      <th>...</th>\n",
              "      <th>Net Income to Total Assets</th>\n",
              "      <th>Total assets to GNP price</th>\n",
              "      <th>No-credit Interval</th>\n",
              "      <th>Gross Profit to Sales</th>\n",
              "      <th>Net Income to Stockholder's Equity</th>\n",
              "      <th>Liability to Equity</th>\n",
              "      <th>Degree of Financial Leverage (DFL)</th>\n",
              "      <th>Interest Coverage Ratio (Interest expense to EBIT)</th>\n",
              "      <th>Net Income Flag</th>\n",
              "      <th>Equity to Liability</th>\n",
              "    </tr>\n",
              "  </thead>\n",
              "  <tbody>\n",
              "    <tr>\n",
              "      <th>1244</th>\n",
              "      <td>0.490882</td>\n",
              "      <td>0.556149</td>\n",
              "      <td>0.536753</td>\n",
              "      <td>0.916182</td>\n",
              "      <td>0.914982</td>\n",
              "      <td>0.999043</td>\n",
              "      <td>0.797445</td>\n",
              "      <td>0.791801</td>\n",
              "      <td>0.257024</td>\n",
              "      <td>0.781609</td>\n",
              "      <td>...</td>\n",
              "      <td>0.805667</td>\n",
              "      <td>8.455800e-14</td>\n",
              "      <td>0.623746</td>\n",
              "      <td>0.916184</td>\n",
              "      <td>0.757387</td>\n",
              "      <td>0.171791</td>\n",
              "      <td>0.027273</td>\n",
              "      <td>0.566736</td>\n",
              "      <td>0.0</td>\n",
              "      <td>0.022839</td>\n",
              "    </tr>\n",
              "    <tr>\n",
              "      <th>6303</th>\n",
              "      <td>0.473195</td>\n",
              "      <td>0.547754</td>\n",
              "      <td>0.514374</td>\n",
              "      <td>0.900265</td>\n",
              "      <td>0.899087</td>\n",
              "      <td>0.999002</td>\n",
              "      <td>0.797424</td>\n",
              "      <td>0.791782</td>\n",
              "      <td>0.257078</td>\n",
              "      <td>0.781591</td>\n",
              "      <td>...</td>\n",
              "      <td>0.803448</td>\n",
              "      <td>1.984405e-13</td>\n",
              "      <td>0.623652</td>\n",
              "      <td>0.900264</td>\n",
              "      <td>0.756747</td>\n",
              "      <td>0.167366</td>\n",
              "      <td>0.027098</td>\n",
              "      <td>0.566292</td>\n",
              "      <td>0.0</td>\n",
              "      <td>0.035415</td>\n",
              "    </tr>\n",
              "    <tr>\n",
              "      <th>4712</th>\n",
              "      <td>0.543293</td>\n",
              "      <td>0.618513</td>\n",
              "      <td>0.596023</td>\n",
              "      <td>0.913863</td>\n",
              "      <td>0.912710</td>\n",
              "      <td>0.999043</td>\n",
              "      <td>0.797758</td>\n",
              "      <td>0.792117</td>\n",
              "      <td>0.257607</td>\n",
              "      <td>0.781922</td>\n",
              "      <td>...</td>\n",
              "      <td>0.839238</td>\n",
              "      <td>2.078966e-13</td>\n",
              "      <td>0.623843</td>\n",
              "      <td>0.913858</td>\n",
              "      <td>0.760748</td>\n",
              "      <td>0.167460</td>\n",
              "      <td>0.026816</td>\n",
              "      <td>0.565273</td>\n",
              "      <td>0.0</td>\n",
              "      <td>0.034892</td>\n",
              "    </tr>\n",
              "    <tr>\n",
              "      <th>3273</th>\n",
              "      <td>0.655558</td>\n",
              "      <td>0.692324</td>\n",
              "      <td>0.699164</td>\n",
              "      <td>0.947299</td>\n",
              "      <td>0.946059</td>\n",
              "      <td>0.999314</td>\n",
              "      <td>0.797808</td>\n",
              "      <td>0.792131</td>\n",
              "      <td>0.257096</td>\n",
              "      <td>0.781935</td>\n",
              "      <td>...</td>\n",
              "      <td>0.879037</td>\n",
              "      <td>1.159977e-13</td>\n",
              "      <td>0.624215</td>\n",
              "      <td>0.947295</td>\n",
              "      <td>0.763387</td>\n",
              "      <td>0.165097</td>\n",
              "      <td>0.026805</td>\n",
              "      <td>0.565222</td>\n",
              "      <td>0.0</td>\n",
              "      <td>0.061798</td>\n",
              "    </tr>\n",
              "    <tr>\n",
              "      <th>6430</th>\n",
              "      <td>0.436972</td>\n",
              "      <td>0.509976</td>\n",
              "      <td>0.477926</td>\n",
              "      <td>0.977962</td>\n",
              "      <td>0.976281</td>\n",
              "      <td>0.998738</td>\n",
              "      <td>0.797212</td>\n",
              "      <td>0.791509</td>\n",
              "      <td>0.257271</td>\n",
              "      <td>0.781240</td>\n",
              "      <td>...</td>\n",
              "      <td>0.782600</td>\n",
              "      <td>8.604712e-14</td>\n",
              "      <td>0.623938</td>\n",
              "      <td>0.977957</td>\n",
              "      <td>0.754912</td>\n",
              "      <td>0.163497</td>\n",
              "      <td>0.026709</td>\n",
              "      <td>0.564734</td>\n",
              "      <td>0.0</td>\n",
              "      <td>0.207130</td>\n",
              "    </tr>\n",
              "  </tbody>\n",
              "</table>\n",
              "<p>5 rows × 95 columns</p>\n",
              "</div>\n",
              "      <button class=\"colab-df-convert\" onclick=\"convertToInteractive('df-1ade3f2b-be03-4ba3-9705-419d635d45fa')\"\n",
              "              title=\"Convert this dataframe to an interactive table.\"\n",
              "              style=\"display:none;\">\n",
              "        \n",
              "  <svg xmlns=\"http://www.w3.org/2000/svg\" height=\"24px\"viewBox=\"0 0 24 24\"\n",
              "       width=\"24px\">\n",
              "    <path d=\"M0 0h24v24H0V0z\" fill=\"none\"/>\n",
              "    <path d=\"M18.56 5.44l.94 2.06.94-2.06 2.06-.94-2.06-.94-.94-2.06-.94 2.06-2.06.94zm-11 1L8.5 8.5l.94-2.06 2.06-.94-2.06-.94L8.5 2.5l-.94 2.06-2.06.94zm10 10l.94 2.06.94-2.06 2.06-.94-2.06-.94-.94-2.06-.94 2.06-2.06.94z\"/><path d=\"M17.41 7.96l-1.37-1.37c-.4-.4-.92-.59-1.43-.59-.52 0-1.04.2-1.43.59L10.3 9.45l-7.72 7.72c-.78.78-.78 2.05 0 2.83L4 21.41c.39.39.9.59 1.41.59.51 0 1.02-.2 1.41-.59l7.78-7.78 2.81-2.81c.8-.78.8-2.07 0-2.86zM5.41 20L4 18.59l7.72-7.72 1.47 1.35L5.41 20z\"/>\n",
              "  </svg>\n",
              "      </button>\n",
              "      \n",
              "  <style>\n",
              "    .colab-df-container {\n",
              "      display:flex;\n",
              "      flex-wrap:wrap;\n",
              "      gap: 12px;\n",
              "    }\n",
              "\n",
              "    .colab-df-convert {\n",
              "      background-color: #E8F0FE;\n",
              "      border: none;\n",
              "      border-radius: 50%;\n",
              "      cursor: pointer;\n",
              "      display: none;\n",
              "      fill: #1967D2;\n",
              "      height: 32px;\n",
              "      padding: 0 0 0 0;\n",
              "      width: 32px;\n",
              "    }\n",
              "\n",
              "    .colab-df-convert:hover {\n",
              "      background-color: #E2EBFA;\n",
              "      box-shadow: 0px 1px 2px rgba(60, 64, 67, 0.3), 0px 1px 3px 1px rgba(60, 64, 67, 0.15);\n",
              "      fill: #174EA6;\n",
              "    }\n",
              "\n",
              "    [theme=dark] .colab-df-convert {\n",
              "      background-color: #3B4455;\n",
              "      fill: #D2E3FC;\n",
              "    }\n",
              "\n",
              "    [theme=dark] .colab-df-convert:hover {\n",
              "      background-color: #434B5C;\n",
              "      box-shadow: 0px 1px 3px 1px rgba(0, 0, 0, 0.15);\n",
              "      filter: drop-shadow(0px 1px 2px rgba(0, 0, 0, 0.3));\n",
              "      fill: #FFFFFF;\n",
              "    }\n",
              "  </style>\n",
              "\n",
              "      <script>\n",
              "        const buttonEl =\n",
              "          document.querySelector('#df-1ade3f2b-be03-4ba3-9705-419d635d45fa button.colab-df-convert');\n",
              "        buttonEl.style.display =\n",
              "          google.colab.kernel.accessAllowed ? 'block' : 'none';\n",
              "\n",
              "        async function convertToInteractive(key) {\n",
              "          const element = document.querySelector('#df-1ade3f2b-be03-4ba3-9705-419d635d45fa');\n",
              "          const dataTable =\n",
              "            await google.colab.kernel.invokeFunction('convertToInteractive',\n",
              "                                                     [key], {});\n",
              "          if (!dataTable) return;\n",
              "\n",
              "          const docLinkHtml = 'Like what you see? Visit the ' +\n",
              "            '<a target=\"_blank\" href=https://colab.research.google.com/notebooks/data_table.ipynb>data table notebook</a>'\n",
              "            + ' to learn more about interactive tables.';\n",
              "          element.innerHTML = '';\n",
              "          dataTable['output_type'] = 'display_data';\n",
              "          await google.colab.output.renderOutput(dataTable, element);\n",
              "          const docLink = document.createElement('div');\n",
              "          docLink.innerHTML = docLinkHtml;\n",
              "          element.appendChild(docLink);\n",
              "        }\n",
              "      </script>\n",
              "    </div>\n",
              "  </div>\n",
              "  "
            ]
          },
          "metadata": {},
          "execution_count": 10
        }
      ]
    },
    {
      "cell_type": "markdown",
      "source": [
        "### Utility Functions"
      ],
      "metadata": {
        "id": "AWQFEZW0LvTK"
      }
    },
    {
      "cell_type": "code",
      "source": [
        "import matplotlib.pyplot as plt\n",
        "%matplotlib inline\n",
        "def plot_roc_curve(fpr, tpr, label=None):\n",
        "    plt.plot(fpr, tpr, linewidth=2, label=label)\n",
        "    plt.plot([0, 1], [0, 1], 'k--')\n",
        "    plt.axis([0, 1, 0, 1])\n",
        "    plt.xlabel('False Positive Rate', fontsize=16)\n",
        "    plt.ylabel('True Positive Rate (Recall)', fontsize=16)"
      ],
      "metadata": {
        "id": "BQBMgpKNi3Cd"
      },
      "execution_count": 11,
      "outputs": []
    },
    {
      "cell_type": "code",
      "source": [
        "from sklearn.metrics import accuracy_score\n",
        "import pandas as pd\n",
        "from sklearn.metrics import roc_auc_score\n",
        "from sklearn.metrics import precision_score\n",
        "from sklearn.metrics import recall_score\n",
        "from sklearn.metrics import roc_curve\n",
        "\n",
        "column_names = [\"Accuracy\", \"ROC AUC\", \"Precision\", \"Recall\"]\n",
        "training_stats_df = pd.DataFrame(columns=column_names)\n",
        "test_stats_df = pd.DataFrame(columns=column_names)\n",
        "\n",
        "def calculate_model_stats(estimator, X_data, y_data, model_name, training):\n",
        "  global training_stats_df\n",
        "  global test_stats_df \n",
        "  y_pred = estimator.predict(X_data)\n",
        "  y_score = estimator.predict_proba(X_data)[:,1]      #this is the score\n",
        "  fpr, tpr, thresholds = roc_curve(y_data, y_score)\n",
        "  plt.figure(figsize=(8, 6))\n",
        "  plot_roc_curve(fpr, tpr)\n",
        "  plt.title('ROC Curve')\n",
        "  plt.grid(True)\n",
        "  plt.show()\n",
        "\n",
        "  accuracy = accuracy_score(y_data, y_pred)\n",
        "  print(\"accuracy:\", accuracy)\n",
        "  roc_auc = roc_auc_score(y_data, y_score)\n",
        "  print(\" ROC AUC Score: \", roc_auc)\n",
        "  precision = precision_score(y_data,y_pred)\n",
        "  print(\" Precision score: \", precision )\n",
        "  recall = recall_score(y_data,y_pred)\n",
        "  print (\"Recall score:\", recall)\n",
        "\n",
        "  if training == True:\n",
        "    df = pd.DataFrame([[accuracy, roc_auc, precision, recall]], columns=column_names, index=[model_name])    \n",
        "    training_stats_df = training_stats_df.append(df)\n",
        "    #training_stats_df = training_stats_df.drop_duplicates()\n",
        "  else:\n",
        "    df = pd.DataFrame([[accuracy, roc_auc, precision, recall]], columns=column_names, index=[model_name])    \n",
        "    test_stats_df = test_stats_df.append(df)\n",
        "   # test_stats_df = test_stats_df.drop_duplicates()\n",
        "\n"
      ],
      "metadata": {
        "id": "e5WtHbKLm758"
      },
      "execution_count": 12,
      "outputs": []
    },
    {
      "cell_type": "code",
      "source": [
        "from sklearn.model_selection import learning_curve\n",
        "\n",
        "def plot_learning_curve(estimator, X, y):\n",
        "  train_sizes, train_scores, test_scores, fit_times, _ = learning_curve(estimator,\n",
        "                                                                        X, y, cv=3,return_times=True)\n",
        "  #\n",
        "  # Calculate training and test mean and std\n",
        "  #\n",
        "  train_mean = np.mean(train_scores, axis=1)\n",
        "  train_std = np.std(train_scores, axis=1)\n",
        "  test_mean = np.mean(test_scores, axis=1)\n",
        "  test_std = np.std(test_scores, axis=1)\n",
        "  #\n",
        "  # Plot the learning curve\n",
        "  #\n",
        "  plt.plot(train_sizes, train_mean, color='blue', marker='o', markersize=5, label='Training Accuracy')\n",
        "  #plt.fill_between(train_sizes, train_mean + train_std, train_mean - train_std, alpha=0.15, color='blue')\n",
        "  plt.plot(train_sizes, test_mean, color='green', marker='+', markersize=5, linestyle='--', label='Validation Accuracy')\n",
        "  #plt.fill_between(train_sizes, test_mean + test_std, test_mean - test_std, alpha=0.15, color='green')\n",
        "  plt.title('Learning Curve')\n",
        "  plt.xlabel('Training Data Size')\n",
        "  plt.ylabel('Model accuracy')\n",
        "  plt.grid()\n",
        "  plt.legend(loc='upper right')\n",
        "  plt.show()"
      ],
      "metadata": {
        "id": "aRl9nfaJu5Td"
      },
      "execution_count": 21,
      "outputs": []
    },
    {
      "cell_type": "markdown",
      "source": [
        "## Logistic Regression"
      ],
      "metadata": {
        "id": "mmwAwuneRABF"
      }
    },
    {
      "cell_type": "markdown",
      "source": [
        "We start with logistic regression on the bankruptcy data. This is a binary classifier that predicts the probability of a class. Instead of outputting the prediction directly it outputs the logistic of the result. The logistic is a sigmoid function which takes values between 0 and 1.  The model is trained by optimizing parameters such that it predicts higher probabilities for positive instances and lower for negative instances."
      ],
      "metadata": {
        "id": "NlBxpApMgGcg"
      }
    },
    {
      "cell_type": "markdown",
      "source": [
        "#### Training and hyperparameter tuning"
      ],
      "metadata": {
        "id": "4tJykqoygn2u"
      }
    },
    {
      "cell_type": "markdown",
      "source": [
        "From Sklearn documentation:\n",
        "For small datasets, ‘liblinear’ is a good choice, whereas ‘sag’ and ‘saga’ are faster for large ones;\n",
        "\n",
        "For multiclass problems, only ‘newton-cg’, ‘sag’, ‘saga’ and ‘lbfgs’ handle multinomial loss;\n",
        "\n",
        "‘liblinear’ is limited to one-versus-rest schemes.\n",
        "\n"
      ],
      "metadata": {
        "id": "6kjEtrFZiIaA"
      }
    },
    {
      "cell_type": "code",
      "source": [
        "from sklearn.linear_model import LogisticRegression\n",
        "from sklearn.model_selection import RandomizedSearchCV\n",
        "from scipy.stats import reciprocal, uniform\n",
        "\n",
        "log_reg = LogisticRegression(random_state=42)\n",
        "params = {\"C\": uniform(0.1, 100), \"solver\":['liblinear'], \n",
        "          'penalty':['l1','l2']}\n",
        "rnd_search_log_reg = RandomizedSearchCV(log_reg, params, n_jobs=-1, cv=3, scoring=\"accuracy\", n_iter=10, random_state=42)\n",
        "rnd_search_log_reg.fit(X,y)\n",
        "print(\"best params are: \", rnd_search_log_reg.best_params_)\n",
        "print(\"best estimator:\", rnd_search_log_reg.best_estimator_)\n"
      ],
      "metadata": {
        "colab": {
          "base_uri": "https://localhost:8080/"
        },
        "id": "ft1mIX9ngMFa",
        "outputId": "6f191a46-4adf-40a2-ab61-6c4f183ce7f0"
      },
      "execution_count": 13,
      "outputs": [
        {
          "output_type": "stream",
          "name": "stdout",
          "text": [
            "best params are:  {'C': 18.44347898661638, 'penalty': 'l2', 'solver': 'liblinear'}\n",
            "best estimator: LogisticRegression(C=18.44347898661638, random_state=42, solver='liblinear')\n"
          ]
        }
      ]
    },
    {
      "cell_type": "markdown",
      "source": [
        "#### Evaluation over training set"
      ],
      "metadata": {
        "id": "Q5ZmfRQ5n1yA"
      }
    },
    {
      "cell_type": "code",
      "source": [
        "print(\"***Performance stats for logistic regression over training data***\")\n",
        "calculate_model_stats(rnd_search_log_reg.best_estimator_, X,y, \"log reg\", True)"
      ],
      "metadata": {
        "colab": {
          "base_uri": "https://localhost:8080/",
          "height": 496
        },
        "id": "DFWQVRa5n4Op",
        "outputId": "2f900b71-7010-48a0-91ba-2eec244232b5"
      },
      "execution_count": 14,
      "outputs": [
        {
          "output_type": "stream",
          "name": "stdout",
          "text": [
            "***Performance stats for logistic regression over training data***\n"
          ]
        },
        {
          "output_type": "display_data",
          "data": {
            "text/plain": [
              "<Figure size 576x432 with 1 Axes>"
            ],
            "image/png": "[encoded data removed]"
          },
          "metadata": {
            "needs_background": "light"
          }
        },
        {
          "output_type": "stream",
          "name": "stdout",
          "text": [
            "accuracy: 0.9710357470210815\n",
            " ROC AUC Score:  0.9414468132738637\n",
            " Precision score:  0.6730769230769231\n",
            "Recall score: 0.19886363636363635\n"
          ]
        }
      ]
    },
    {
      "cell_type": "markdown",
      "source": [
        "#### Evaluation over test set"
      ],
      "metadata": {
        "id": "LNBBQzauwhfu"
      }
    },
    {
      "cell_type": "code",
      "source": [
        "print(\"***Performance stats for logistic regression over test data***\")\n",
        "calculate_model_stats(rnd_search_log_reg.best_estimator_, X_test, y_test,\"log reg\", False)"
      ],
      "metadata": {
        "colab": {
          "base_uri": "https://localhost:8080/",
          "height": 496
        },
        "id": "yww5Bzszwqt5",
        "outputId": "d1ac6276-102f-463f-ca40-9014146cc4ac"
      },
      "execution_count": 15,
      "outputs": [
        {
          "output_type": "stream",
          "name": "stdout",
          "text": [
            "***Performance stats for logistic regression over test data***\n"
          ]
        },
        {
          "output_type": "display_data",
          "data": {
            "text/plain": [
              "<Figure size 576x432 with 1 Axes>"
            ],
            "image/png": "[encoded data removed]"
          },
          "metadata": {
            "needs_background": "light"
          }
        },
        {
          "output_type": "stream",
          "name": "stdout",
          "text": [
            "accuracy: 0.967008797653959\n",
            " ROC AUC Score:  0.9404786501377411\n",
            " Precision score:  0.4666666666666667\n",
            "Recall score: 0.1590909090909091\n"
          ]
        }
      ]
    },
    {
      "cell_type": "markdown",
      "source": [
        "#### Learning Curves"
      ],
      "metadata": {
        "id": "lOEb4SXMrxkU"
      }
    },
    {
      "cell_type": "markdown",
      "source": [
        "We plot learning curves using the best model on the training set, with a cross-validation of 3"
      ],
      "metadata": {
        "id": "6bPCWaygtS64"
      }
    },
    {
      "cell_type": "code",
      "source": [
        "plot_learning_curve(rnd_search_log_reg.best_estimator_, X,y)"
      ],
      "metadata": {
        "colab": {
          "base_uri": "https://localhost:8080/",
          "height": 295
        },
        "id": "DvMqZ-Nrr1AA",
        "outputId": "063d5e2b-af47-483e-bcc9-8976c341892b"
      },
      "execution_count": 22,
      "outputs": [
        {
          "output_type": "display_data",
          "data": {
            "text/plain": [
              "<Figure size 432x288 with 1 Axes>"
            ],
            "image/png": "[encoded data removed]"
          },
          "metadata": {
            "needs_background": "light"
          }
        }
      ]
    },
    {
      "cell_type": "markdown",
      "source": [
        "There is some overfitting at lower data sizes because there is a  gap between curves. But it gets gradually better as the number of instances increase and the gap reduces."
      ],
      "metadata": {
        "id": "PTtr2a44tF1f"
      }
    },
    {
      "cell_type": "markdown",
      "source": [
        ""
      ],
      "metadata": {
        "id": "JR2fOREgrxgy"
      }
    },
    {
      "cell_type": "markdown",
      "source": [
        "## Support Vector Machines"
      ],
      "metadata": {
        "id": "R19EBBFZEsL6"
      }
    },
    {
      "cell_type": "markdown",
      "source": [
        "SVMs are used as classifiers to separate the classes with the widest possible \"street\" as possible. It tries to minimize the number of margin violations. \n",
        "\n",
        "This section trains a SVM classifier on the training data.  The best hyperparameters are searched using CV=3."
      ],
      "metadata": {
        "id": "eSEUbLMhE2a4"
      }
    },
    {
      "cell_type": "markdown",
      "source": [
        "#### Training and hyperparameter tuning"
      ],
      "metadata": {
        "id": "yCq8de9_SnCH"
      }
    },
    {
      "cell_type": "code",
      "source": [
        "from sklearn.svm import SVC\n",
        "from sklearn.model_selection import RandomizedSearchCV\n",
        "from scipy.stats import reciprocal, uniform\n",
        "\n",
        "params = {\"C\": uniform(0.1, 100), \"kernel\" : [\"rbf\", \"linear\", \"sigmoid\"], \"gamma\": reciprocal(0.001, 100)}\n",
        "clf = SVC(random_state=42, probability=True, class_weight='balanced')\n",
        "rnd_search_svm = RandomizedSearchCV(clf, params, n_jobs=-1, cv=3, scoring=\"accuracy\", n_iter=10, random_state=42)\n",
        "rnd_search_svm.fit(X,y)\n",
        "print(\"best params are: \", rnd_search_svm.best_params_)\n",
        "print(\"best estimator is:\", rnd_search_svm.best_estimator_)\n",
        "\n"
      ],
      "metadata": {
        "id": "y7ZC_Z3CRUAN",
        "colab": {
          "base_uri": "https://localhost:8080/"
        },
        "outputId": "9fa38f3a-b875-4b4c-bd74-6e8a5e6e7527"
      },
      "execution_count": 23,
      "outputs": [
        {
          "output_type": "stream",
          "name": "stdout",
          "text": [
            "best params are:  {'C': 61.848150962771655, 'gamma': 1.14357802784334, 'kernel': 'rbf'}\n",
            "best estimator is: SVC(C=61.848150962771655, class_weight='balanced', gamma=1.14357802784334,\n",
            "    probability=True, random_state=42)\n"
          ]
        }
      ]
    },
    {
      "cell_type": "markdown",
      "source": [
        "#### Evaluation over training set"
      ],
      "metadata": {
        "id": "yb6jvQ3TSzIL"
      }
    },
    {
      "cell_type": "code",
      "source": [
        "print(\"***Performance stats for SVM over training data***\")\n",
        "calculate_model_stats(rnd_search_svm.best_estimator_, X,y, \"svm\", True)\n"
      ],
      "metadata": {
        "colab": {
          "base_uri": "https://localhost:8080/",
          "height": 500
        },
        "id": "0Zu_5qErPyWm",
        "outputId": "49747375-56a4-41da-e2fd-d39707455ae1"
      },
      "execution_count": null,
      "outputs": [
        {
          "output_type": "stream",
          "name": "stdout",
          "text": [
            "***Performance stats for SVM over training data***\n"
          ]
        },
        {
          "output_type": "display_data",
          "data": {
            "text/plain": [
              "<Figure size 576x432 with 1 Axes>"
            ],
            "image/png": "[encoded data removed]"
          },
          "metadata": {
            "needs_background": "light"
          }
        },
        {
          "output_type": "stream",
          "name": "stdout",
          "text": [
            "accuracy: 0.998166819431714\n",
            " ROC AUC Score:  0.999641590177203\n",
            " Precision score:  0.946236559139785\n",
            "Recall score: 1.0\n"
          ]
        }
      ]
    },
    {
      "cell_type": "markdown",
      "source": [
        "The recall score is perfect on the training set and the precision is also high. ROC AUC and accuracy are ver high as well on the training set."
      ],
      "metadata": {
        "id": "ouUtQ1ujZ_-b"
      }
    },
    {
      "cell_type": "markdown",
      "source": [
        "#### Evaluation over test set"
      ],
      "metadata": {
        "id": "HLjNldq4S41e"
      }
    },
    {
      "cell_type": "markdown",
      "source": [
        "Next step is to evaluate the performance of the best SVM classifer on the test dataset. \n"
      ],
      "metadata": {
        "id": "SpufKVdPgAwx"
      }
    },
    {
      "cell_type": "code",
      "source": [
        "print(\"***Performance stats for SVM over test data***\")\n",
        "calculate_model_stats(rnd_search_svm.best_estimator_, X_test, y_test, \"svm\", False)"
      ],
      "metadata": {
        "colab": {
          "base_uri": "https://localhost:8080/",
          "height": 500
        },
        "id": "s-DBv0F8gRd0",
        "outputId": "a4c9d8b8-1622-463a-fea9-db4759681959"
      },
      "execution_count": null,
      "outputs": [
        {
          "output_type": "stream",
          "name": "stdout",
          "text": [
            "***Performance stats for SVM over test data***\n"
          ]
        },
        {
          "output_type": "display_data",
          "data": {
            "text/plain": [
              "<Figure size 576x432 with 1 Axes>"
            ],
            "image/png": "[encoded data removed]"
          },
          "metadata": {
            "needs_background": "light"
          }
        },
        {
          "output_type": "stream",
          "name": "stdout",
          "text": [
            "accuracy: 0.9523460410557185\n",
            " ROC AUC Score:  0.8514118457300275\n",
            " Precision score:  0.2765957446808511\n",
            "Recall score: 0.29545454545454547\n"
          ]
        }
      ]
    },
    {
      "cell_type": "markdown",
      "source": [
        "Precision and recall are lower than the training set. Acuuracy drops over the test set so does the ROC AUC but both are still reasonably high."
      ],
      "metadata": {
        "id": "ZhjFI4tJaNcU"
      }
    },
    {
      "cell_type": "markdown",
      "source": [
        "#### Learning Curves"
      ],
      "metadata": {
        "id": "Cf_qNm2-volV"
      }
    },
    {
      "cell_type": "markdown",
      "source": [
        "Learning curves are plotted on training set using cv=3."
      ],
      "metadata": {
        "id": "_C92FTqcvy5l"
      }
    },
    {
      "cell_type": "code",
      "source": [
        "plot_learning_curve(rnd_search_svm.best_estimator_, X,y)"
      ],
      "metadata": {
        "colab": {
          "base_uri": "https://localhost:8080/",
          "height": 295
        },
        "id": "tRjy1PnSvrNk",
        "outputId": "3c70cf8e-db8b-4d39-dc76-9040b85a636e"
      },
      "execution_count": 24,
      "outputs": [
        {
          "output_type": "display_data",
          "data": {
            "text/plain": [
              "<Figure size 432x288 with 1 Axes>"
            ],
            "image/png": "[encoded data removed]"
          },
          "metadata": {
            "needs_background": "light"
          }
        }
      ]
    },
    {
      "cell_type": "markdown",
      "source": [
        "The curves show overfitting on the training set but a lesser accuracy on the validation set. The curves do not get closer when the training data size increases indicating that adding instances does not help reduce overfitting.   The accuracies are close to each other so the overfitting is not much."
      ],
      "metadata": {
        "id": "zNq8X3GXwR4m"
      }
    },
    {
      "cell_type": "markdown",
      "source": [
        "##PCA"
      ],
      "metadata": {
        "id": "JG2sOQfsC240"
      }
    },
    {
      "cell_type": "code",
      "source": [
        "from sklearn.decomposition import PCA\n",
        "from sklearn.metrics import mean_squared_error\n",
        "\n",
        "pca = PCA(n_components=0.95)\n",
        "X_reduced_pca=pca.fit_transform(X)\n",
        "X_recoverd_pca = pca.inverse_transform(X_reduced_pca)\n",
        "mean_squared_error(X, X_recoverd_pca)"
      ],
      "metadata": {
        "colab": {
          "base_uri": "https://localhost:8080/"
        },
        "id": "bl7R93tIC9Ts",
        "outputId": "bf8eef6c-af7e-41b6-ffae-c36d92cdbd49"
      },
      "execution_count": 25,
      "outputs": [
        {
          "output_type": "execute_result",
          "data": {
            "text/plain": [
              "0.0004940635018922932"
            ]
          },
          "metadata": {},
          "execution_count": 25
        }
      ]
    },
    {
      "cell_type": "code",
      "source": [
        "pca.explained_variance_ratio_"
      ],
      "metadata": {
        "colab": {
          "base_uri": "https://localhost:8080/"
        },
        "id": "8e6wZeVzEBKC",
        "outputId": "52cb3d74-738e-4b2c-db21-b5ce85d0a8cf"
      },
      "execution_count": 26,
      "outputs": [
        {
          "output_type": "execute_result",
          "data": {
            "text/plain": [
              "array([0.16875855, 0.14554589, 0.10771396, 0.0871236 , 0.08584253,\n",
              "       0.07774439, 0.06455178, 0.04941605, 0.04828937, 0.03704018,\n",
              "       0.02501054, 0.01816285, 0.01288172, 0.01181515, 0.0078574 ,\n",
              "       0.00651295])"
            ]
          },
          "metadata": {},
          "execution_count": 26
        }
      ]
    },
    {
      "cell_type": "code",
      "source": [
        "pca.n_components_"
      ],
      "metadata": {
        "colab": {
          "base_uri": "https://localhost:8080/"
        },
        "id": "N2SYs3BuFQ0y",
        "outputId": "a4665f4b-a76b-4d33-8589-9987be87b8c9"
      },
      "execution_count": 27,
      "outputs": [
        {
          "output_type": "execute_result",
          "data": {
            "text/plain": [
              "16"
            ]
          },
          "metadata": {},
          "execution_count": 27
        }
      ]
    },
    {
      "cell_type": "markdown",
      "source": [
        "16 components are able to cover 95% of the variance."
      ],
      "metadata": {
        "id": "zuj-wA6vafbK"
      }
    },
    {
      "cell_type": "markdown",
      "source": [
        "## Support Vector Machines with PCA"
      ],
      "metadata": {
        "id": "xo_qEFWNHR83"
      }
    },
    {
      "cell_type": "markdown",
      "source": [
        "PCA performs feature selection on the input dataset. PCA projects the high dimensional data onto an axis such that largest amount of  variance is accounted for. It then identifies another axis orthogonal to the first one which accounts for the second largest amount of variance and so on. Our dataset has 95 attributes, so we explore if we can get similar model performance with lesser number of dimensions. \n",
        "\n",
        "PCA is  performed on the input dataset with an explained variance ratio of 95%."
      ],
      "metadata": {
        "id": "0zJys2TeHXLB"
      }
    },
    {
      "cell_type": "markdown",
      "source": [
        "#### Training and hyperparameter tuning"
      ],
      "metadata": {
        "id": "m90OPyJiTCGW"
      }
    },
    {
      "cell_type": "code",
      "source": [
        "from sklearn.svm import SVC\n",
        "from sklearn.model_selection import RandomizedSearchCV\n",
        "from scipy.stats import reciprocal, uniform\n",
        "\n",
        "params = {\"C\": uniform(0.1, 100), \"kernel\" : [\"rbf\", \"linear\", \"sigmoid\"], \"gamma\": reciprocal(0.001, 100)}\n",
        "clf = SVC(random_state=42, probability=True ,class_weight=\"balanced\")\n",
        "rnd_search_svm_pca = RandomizedSearchCV(clf, params, n_jobs=-1, cv=3, scoring=\"accuracy\", n_iter=10, random_state=42)\n",
        "rnd_search_svm_pca.fit(X_reduced_pca,y)\n",
        "print(\"best estimator is: \", rnd_search_svm_pca.best_estimator_)\n",
        "print(\"best params are: \", rnd_search_svm_pca.best_params_)"
      ],
      "metadata": {
        "colab": {
          "base_uri": "https://localhost:8080/"
        },
        "id": "mTRoMxKHHpyY",
        "outputId": "d9d26eea-fa99-487a-c1a9-eff624eaf163"
      },
      "execution_count": 28,
      "outputs": [
        {
          "output_type": "stream",
          "name": "stdout",
          "text": [
            "best estimator is:  SVC(C=61.848150962771655, class_weight='balanced', gamma=1.14357802784334,\n",
            "    probability=True, random_state=42)\n",
            "best params are:  {'C': 61.848150962771655, 'gamma': 1.14357802784334, 'kernel': 'rbf'}\n"
          ]
        }
      ]
    },
    {
      "cell_type": "markdown",
      "source": [
        "#### Evaluation over training set"
      ],
      "metadata": {
        "id": "-bdHF-9UTHgB"
      }
    },
    {
      "cell_type": "code",
      "source": [
        "print(\"***Performance stats for SVM (with pca) over training data***\")\n",
        "calculate_model_stats(rnd_search_svm_pca.best_estimator_,X_reduced_pca,y, \"svm (with pca)\", True)"
      ],
      "metadata": {
        "colab": {
          "base_uri": "https://localhost:8080/",
          "height": 500
        },
        "id": "9rzGu2j4X9FC",
        "outputId": "15bafce4-463a-46db-e217-3ad90121f6a6"
      },
      "execution_count": null,
      "outputs": [
        {
          "output_type": "stream",
          "name": "stdout",
          "text": [
            "***Performance stats for SVM (with pca) over training data***\n"
          ]
        },
        {
          "output_type": "display_data",
          "data": {
            "text/plain": [
              "<Figure size 576x432 with 1 Axes>"
            ],
            "image/png": "[encoded data removed]"
          },
          "metadata": {
            "needs_background": "light"
          }
        },
        {
          "output_type": "stream",
          "name": "stdout",
          "text": [
            "accuracy: 0.9923006416131989\n",
            " ROC AUC Score:  0.9987708588059033\n",
            " Precision score:  0.8073394495412844\n",
            "Recall score: 1.0\n"
          ]
        }
      ]
    },
    {
      "cell_type": "markdown",
      "source": [
        "The numbers using PCA are pretty similar to what we saw for SVM without PCA over training data. Precision drops slightly but for this problem recall is more important. This means focussing on PCs does not reduce model performance over training data.\n"
      ],
      "metadata": {
        "id": "6o-Uvft9b3SF"
      }
    },
    {
      "cell_type": "markdown",
      "source": [
        "#### Evaluation over test set"
      ],
      "metadata": {
        "id": "eTQxEQDTTMC0"
      }
    },
    {
      "cell_type": "markdown",
      "source": [
        "Next step is to evaluate the performance of the best SVM classifer on the test dataset. \n",
        "Note that pca is not recalculated and fit over the test set. The already fit pca over the training set is used to perform a transform over the testset. This avoids data leaking (as the combined dataset isn't fitted with pca) and it also avoids introducing errors by fitting on train/test separately as the resulting components may have different directions in that case.\n"
      ],
      "metadata": {
        "id": "42uZiUdIeRjC"
      }
    },
    {
      "cell_type": "code",
      "source": [
        "X_test_reduced = pca.transform(X_test)\n",
        "\n",
        "print(\"***Performance stats for SVM (with pca) over test data***\")\n",
        "calculate_model_stats(rnd_search_svm_pca.best_estimator_,X_test_reduced,y_test, \"svm (with pca)\", False)"
      ],
      "metadata": {
        "colab": {
          "base_uri": "https://localhost:8080/",
          "height": 500
        },
        "id": "qKtBacSRZOez",
        "outputId": "56405cae-97a3-4333-951b-1d23d318fd24"
      },
      "execution_count": null,
      "outputs": [
        {
          "output_type": "stream",
          "name": "stdout",
          "text": [
            "***Performance stats for SVM (with pca) over test data***\n"
          ]
        },
        {
          "output_type": "display_data",
          "data": {
            "text/plain": [
              "<Figure size 576x432 with 1 Axes>"
            ],
            "image/png": "[encoded data removed]"
          },
          "metadata": {
            "needs_background": "light"
          }
        },
        {
          "output_type": "stream",
          "name": "stdout",
          "text": [
            "accuracy: 0.9567448680351907\n",
            " ROC AUC Score:  0.8682851239669421\n",
            " Precision score:  0.35294117647058826\n",
            "Recall score: 0.4090909090909091\n"
          ]
        }
      ]
    },
    {
      "cell_type": "markdown",
      "source": [
        "The numbers using PCA are slightly better to what we saw for SVM without PCA over test data. This means that PCA is helping improve performance of our SVM classifier over test data.\n"
      ],
      "metadata": {
        "id": "pk4CNBs3cAXB"
      }
    },
    {
      "cell_type": "markdown",
      "source": [
        "#### Learning Curves"
      ],
      "metadata": {
        "id": "1WACsf9OwrnR"
      }
    },
    {
      "cell_type": "markdown",
      "source": [
        "Learning curves are plotted on training dataset with cv=3."
      ],
      "metadata": {
        "id": "fXL--e9EwuAI"
      }
    },
    {
      "cell_type": "code",
      "source": [
        "plot_learning_curve(rnd_search_svm_pca.best_estimator_, X,y)"
      ],
      "metadata": {
        "colab": {
          "base_uri": "https://localhost:8080/",
          "height": 295
        },
        "id": "s1VMO-7DwzTY",
        "outputId": "083a0098-fea1-480d-db79-d40803ca5745"
      },
      "execution_count": 29,
      "outputs": [
        {
          "output_type": "display_data",
          "data": {
            "text/plain": [
              "<Figure size 432x288 with 1 Axes>"
            ],
            "image/png": "[encoded data removed]"
          },
          "metadata": {
            "needs_background": "light"
          }
        }
      ]
    },
    {
      "cell_type": "markdown",
      "source": [
        "This is pretty much similar to SVMs without PCA. The accuracy on validation set does not improve much by adding more instances of training data. The model is slightly overfitting overall due to the gap between curves which does not reduce with increasing training data size."
      ],
      "metadata": {
        "id": "GBtvJM6fxG6w"
      }
    },
    {
      "cell_type": "markdown",
      "source": [
        "## Random Forest Classifier\n",
        "\n",
        "Random Forest is based on Bagging. Bagging stands for boostrap aggregation. Bagging samples the given training set with replacement and trains individual models. The final ensemble model's output is based on majority voting. Random Forest randomly selects a set of training instances (with replacement) and trains a decision tree. \n",
        "\n",
        "RandomForestClassifier is tuned using GridSearchCv over n_estimators=[500, 750, 100], max_leaf_nodes = [16,32, 64] over cv=10. "
      ],
      "metadata": {
        "id": "I0RbhR2Pgid_"
      }
    },
    {
      "cell_type": "markdown",
      "source": [
        "#### Training and hyperparameter tuning"
      ],
      "metadata": {
        "id": "tqtkqXxsTx0_"
      }
    },
    {
      "cell_type": "code",
      "source": [
        "from sklearn.ensemble import RandomForestClassifier\n",
        "from sklearn.model_selection import GridSearchCV\n",
        "\n",
        "rndforest_clf = RandomForestClassifier(random_state=42, n_jobs=-1)\n",
        "params = {\"n_estimators\": [500, 750, 1000], \"max_leaf_nodes\" : [16, 32, 64], \"class_weight\":[\"balanced\"]}\n",
        "grid_search_rnd_clf = GridSearchCV(rndforest_clf, params, n_jobs=-1, cv=3, scoring=\"accuracy\")\n",
        "grid_search_rnd_clf.fit(X,y)\n",
        "print(\"best params from grid search for random forest classifier are: \", grid_search_rnd_clf.best_params_)\n",
        "print(\"Best estimator is:\", grid_search_rnd_clf.best_estimator_)\n"
      ],
      "metadata": {
        "colab": {
          "base_uri": "https://localhost:8080/"
        },
        "id": "4G8OugrjluKw",
        "outputId": "d4573e41-3b01-4488-a80c-190c5fc82c2c"
      },
      "execution_count": 30,
      "outputs": [
        {
          "output_type": "stream",
          "name": "stdout",
          "text": [
            "best params from grid search for random forest classifier are:  {'class_weight': 'balanced', 'max_leaf_nodes': 64, 'n_estimators': 500}\n",
            "Best estimator is: RandomForestClassifier(class_weight='balanced', max_leaf_nodes=64,\n",
            "                       n_estimators=500, n_jobs=-1, random_state=42)\n"
          ]
        }
      ]
    },
    {
      "cell_type": "markdown",
      "source": [
        "#### Evaluation over training set"
      ],
      "metadata": {
        "id": "lbZ0hNVVT2re"
      }
    },
    {
      "cell_type": "code",
      "source": [
        "print(\"***Performance stats for RandomForestClassifier over training data***\")\n",
        "calculate_model_stats(grid_search_rnd_clf.best_estimator_,X,y, \"rnd_forest\", True)"
      ],
      "metadata": {
        "colab": {
          "base_uri": "https://localhost:8080/",
          "height": 500
        },
        "id": "tSIVcscmo2I_",
        "outputId": "3c6f72ff-8b28-488a-aab8-dc1f255fd7d4"
      },
      "execution_count": null,
      "outputs": [
        {
          "output_type": "stream",
          "name": "stdout",
          "text": [
            "***Performance stats for RandomForestClassifier over training data***\n"
          ]
        },
        {
          "output_type": "display_data",
          "data": {
            "text/plain": [
              "<Figure size 576x432 with 1 Axes>"
            ],
            "image/png": "[encoded data removed]"
          },
          "metadata": {
            "needs_background": "light"
          }
        },
        {
          "output_type": "stream",
          "name": "stdout",
          "text": [
            "accuracy: 0.9827681026581119\n",
            " ROC AUC Score:  0.9959573955122354\n",
            " Precision score:  0.6529850746268657\n",
            "Recall score: 0.9943181818181818\n"
          ]
        }
      ]
    },
    {
      "cell_type": "markdown",
      "source": [
        "#### Evaluation over test set"
      ],
      "metadata": {
        "id": "kRLeRRUDUBUn"
      }
    },
    {
      "cell_type": "code",
      "source": [
        "print(\"***Performance stats for RandomForestClassifier over test data***\")\n",
        "calculate_model_stats(grid_search_rnd_clf.best_estimator_,X_test,y_test, \"rnd_forest\", False)"
      ],
      "metadata": {
        "colab": {
          "base_uri": "https://localhost:8080/",
          "height": 500
        },
        "id": "ZR5VLYxM_u01",
        "outputId": "ef5bca94-10d4-4e7c-9ccc-b099d9236707"
      },
      "execution_count": null,
      "outputs": [
        {
          "output_type": "stream",
          "name": "stdout",
          "text": [
            "***Performance stats for RandomForestClassifier over test data***\n"
          ]
        },
        {
          "output_type": "display_data",
          "data": {
            "text/plain": [
              "<Figure size 576x432 with 1 Axes>"
            ],
            "image/png": "[encoded data removed]"
          },
          "metadata": {
            "needs_background": "light"
          }
        },
        {
          "output_type": "stream",
          "name": "stdout",
          "text": [
            "accuracy: 0.9604105571847508\n",
            " ROC AUC Score:  0.9413567493112948\n",
            " Precision score:  0.40384615384615385\n",
            "Recall score: 0.4772727272727273\n"
          ]
        }
      ]
    },
    {
      "cell_type": "markdown",
      "source": [
        "RandomForestClassifier gives much higher precision, ROC AUC score and accuracy as SVM and lower recall on test set compared to the SVM model."
      ],
      "metadata": {
        "id": "Ouvm-VtbS12u"
      }
    },
    {
      "cell_type": "markdown",
      "source": [
        "#### Learning Curves"
      ],
      "metadata": {
        "id": "GbIkb3hPxd7P"
      }
    },
    {
      "cell_type": "markdown",
      "source": [
        "Learning curves are plotted on training dataset with cv=3."
      ],
      "metadata": {
        "id": "785fKcocxfpi"
      }
    },
    {
      "cell_type": "code",
      "source": [
        "plot_learning_curve(grid_search_rnd_clf.best_estimator_, X,y)"
      ],
      "metadata": {
        "colab": {
          "base_uri": "https://localhost:8080/",
          "height": 295
        },
        "id": "TDaH7V70xv1T",
        "outputId": "460482dd-27c7-46fe-86a9-85671b312b0e"
      },
      "execution_count": 31,
      "outputs": [
        {
          "output_type": "display_data",
          "data": {
            "text/plain": [
              "<Figure size 432x288 with 1 Axes>"
            ],
            "image/png": "[encoded data removed]"
          },
          "metadata": {
            "needs_background": "light"
          }
        }
      ]
    },
    {
      "cell_type": "markdown",
      "source": [
        "Looks similar to SVMs. There is slightly overfitting because of the gap between the curves and it does not get any better with increasing training data size. Accuracies are close in value but there is still a gap so the overfitting is not that much."
      ],
      "metadata": {
        "id": "xijfZDTo1hbp"
      }
    },
    {
      "cell_type": "markdown",
      "source": [
        "## AdaBoost Classifier"
      ],
      "metadata": {
        "id": "T7ArFdZnQDxT"
      }
    },
    {
      "cell_type": "markdown",
      "source": [
        "Next we train an AdaBoost Classifier on our data. Adaboost is an ensemble method. It starts with a base classifier e.g. DecisionTree. It then assigns higher weights to instances that were misclassified by the first model and uses these weights to train the next model and so on. The process continues till a low error is achieved. The last step is to build an ensemble from all these trained individual models. "
      ],
      "metadata": {
        "id": "D3bEWvCiQIUy"
      }
    },
    {
      "cell_type": "markdown",
      "source": [
        "#### Training and hyperparameter tuning"
      ],
      "metadata": {
        "id": "nNpKN1M7VQHJ"
      }
    },
    {
      "cell_type": "code",
      "source": [
        "from sklearn.ensemble import AdaBoostClassifier\n",
        "from sklearn.tree import DecisionTreeClassifier\n",
        "from sklearn.model_selection import GridSearchCV\n",
        "\n",
        "ada_clf = AdaBoostClassifier(\n",
        "    DecisionTreeClassifier(max_depth=2, max_leaf_nodes = 64), n_estimators=500,\n",
        "    algorithm=\"SAMME.R\", learning_rate=1.0, random_state = 42)\n",
        "\n",
        "params = {\"base_estimator__criterion\" : [\"gini\"],\n",
        "              \"base_estimator__splitter\" :   [\"best\", \"random\"],\n",
        "              \"n_estimators\": [500]\n",
        "             }\n",
        "\n",
        "grid_search_adaboost = GridSearchCV(ada_clf, \n",
        "                              params, n_jobs=-1, cv=3)\n",
        "grid_search_adaboost.fit(X, y)\n",
        "print(\"best estimator is: \", grid_search_adaboost.best_estimator_)\n",
        "print(\"best params are: \", grid_search_adaboost.best_params_)"
      ],
      "metadata": {
        "colab": {
          "base_uri": "https://localhost:8080/"
        },
        "id": "PJ6Ra2eMQLtV",
        "outputId": "cc84f20f-6e75-4d27-adb8-b75a070ac365"
      },
      "execution_count": 32,
      "outputs": [
        {
          "output_type": "stream",
          "name": "stdout",
          "text": [
            "best estimator is:  AdaBoostClassifier(base_estimator=DecisionTreeClassifier(max_depth=2,\n",
            "                                                         max_leaf_nodes=64),\n",
            "                   n_estimators=500, random_state=42)\n",
            "best params are:  {'base_estimator__criterion': 'gini', 'base_estimator__splitter': 'best', 'n_estimators': 500}\n"
          ]
        }
      ]
    },
    {
      "cell_type": "markdown",
      "source": [
        "#### Evaluation over training set"
      ],
      "metadata": {
        "id": "Hlpa48XrWgR8"
      }
    },
    {
      "cell_type": "code",
      "source": [
        "print(\"***Performance stats for AdaBoost Classifier over training data***\")\n",
        "calculate_model_stats(grid_search_adaboost.best_estimator_,X,y, \"ada_boost\", True)"
      ],
      "metadata": {
        "colab": {
          "base_uri": "https://localhost:8080/",
          "height": 500
        },
        "id": "cf49H5z-Wii6",
        "outputId": "1a772a20-8f01-4bab-c91b-422d9ef9d7f1"
      },
      "execution_count": null,
      "outputs": [
        {
          "output_type": "stream",
          "name": "stdout",
          "text": [
            "***Performance stats for AdaBoost Classifier over training data***\n"
          ]
        },
        {
          "output_type": "display_data",
          "data": {
            "text/plain": [
              "<Figure size 576x432 with 1 Axes>"
            ],
            "image/png": "[encoded data removed]"
          },
          "metadata": {
            "needs_background": "light"
          }
        },
        {
          "output_type": "stream",
          "name": "stdout",
          "text": [
            "accuracy: 1.0\n",
            " ROC AUC Score:  1.0\n",
            " Precision score:  1.0\n",
            "Recall score: 1.0\n"
          ]
        }
      ]
    },
    {
      "cell_type": "markdown",
      "source": [
        "AdaBoostClassifier gives perfect scores."
      ],
      "metadata": {
        "id": "8e3ZsN4NWx9b"
      }
    },
    {
      "cell_type": "markdown",
      "source": [
        "#### Evaluation over test set"
      ],
      "metadata": {
        "id": "88zGMhQQWr2C"
      }
    },
    {
      "cell_type": "code",
      "source": [
        "print(\"***Performance stats for AdaBoost Classifier over test data***\")\n",
        "calculate_model_stats(grid_search_adaboost.best_estimator_,X_test,y_test, \"ada_boost\", False)"
      ],
      "metadata": {
        "colab": {
          "base_uri": "https://localhost:8080/",
          "height": 500
        },
        "id": "Ope2OcULWuen",
        "outputId": "afc6f2d8-8120-4206-d653-56868373c7b6"
      },
      "execution_count": null,
      "outputs": [
        {
          "output_type": "stream",
          "name": "stdout",
          "text": [
            "***Performance stats for AdaBoost Classifier over test data***\n"
          ]
        },
        {
          "output_type": "display_data",
          "data": {
            "text/plain": [
              "<Figure size 576x432 with 1 Axes>"
            ],
            "image/png": "[encoded data removed]"
          },
          "metadata": {
            "needs_background": "light"
          }
        },
        {
          "output_type": "stream",
          "name": "stdout",
          "text": [
            "accuracy: 0.9714076246334311\n",
            " ROC AUC Score:  0.9095557851239668\n",
            " Precision score:  0.6\n",
            "Recall score: 0.3409090909090909\n"
          ]
        }
      ]
    },
    {
      "cell_type": "markdown",
      "source": [
        "Not so good over test data. AdaBoost was overfitting on the training data but accuracy and ROC AUC is still very high on test data."
      ],
      "metadata": {
        "id": "qThKitEIW3kx"
      }
    },
    {
      "cell_type": "markdown",
      "source": [
        "#### Learning Curves"
      ],
      "metadata": {
        "id": "-RLT3ROy10CF"
      }
    },
    {
      "cell_type": "markdown",
      "source": [
        "Learning curves are plotted on the training dataset using cv=3."
      ],
      "metadata": {
        "id": "9FrhUY8D12Jx"
      }
    },
    {
      "cell_type": "code",
      "source": [
        "plot_learning_curve(grid_search_adaboost.best_estimator_, X,y)"
      ],
      "metadata": {
        "colab": {
          "base_uri": "https://localhost:8080/",
          "height": 295
        },
        "id": "4kmNha1t2J2E",
        "outputId": "547f1da8-c40f-4665-bd82-c70985049d42"
      },
      "execution_count": 33,
      "outputs": [
        {
          "output_type": "display_data",
          "data": {
            "text/plain": [
              "<Figure size 432x288 with 1 Axes>"
            ],
            "image/png": "[encoded data removed]"
          },
          "metadata": {
            "needs_background": "light"
          }
        }
      ]
    },
    {
      "cell_type": "markdown",
      "source": [
        "There is gap between the curves and it does not reduce with adding training instances. The model is slightly overfitting as the accuracies are close but still there is a gap."
      ],
      "metadata": {
        "id": "22PGGwSE5Oc5"
      }
    },
    {
      "cell_type": "markdown",
      "source": [
        "## Gradient Boosting Classifier"
      ],
      "metadata": {
        "id": "6yM-_NHCdkWP"
      }
    },
    {
      "cell_type": "markdown",
      "source": [
        "This is similar to the AdaBoost Classifier except that instead of tweaking weights at every step and training models, it trains models on the residual errors. "
      ],
      "metadata": {
        "id": "2ay4K25mdrsE"
      }
    },
    {
      "cell_type": "markdown",
      "source": [
        "#### Training and hyperparameter tuning"
      ],
      "metadata": {
        "id": "wV-GRw7ud3se"
      }
    },
    {
      "cell_type": "code",
      "source": [
        "from sklearn.ensemble import GradientBoostingClassifier\n",
        "\n",
        "grad_boost_clf = GradientBoostingClassifier(max_depth=2, learning_rate=1.0, random_state=42)\n",
        "\n",
        "params = {'max_leaf_nodes': [32,64], \n",
        "          \"n_estimators\": [250, 500, 750]}\n",
        "\n",
        "grid_search_gboost = GridSearchCV(grad_boost_clf, params, n_jobs=-1, cv=3)\n",
        "grid_search_gboost.fit(X, y)\n",
        "print(\"best estimator is: \", grid_search_gboost.best_estimator_)\n",
        "print(\"best params are: \", grid_search_gboost.best_params_)"
      ],
      "metadata": {
        "colab": {
          "base_uri": "https://localhost:8080/"
        },
        "id": "mOn9IDfPd_KM",
        "outputId": "0c5d85c6-be83-4a39-9c09-2ed468c2d1ce"
      },
      "execution_count": 34,
      "outputs": [
        {
          "output_type": "stream",
          "name": "stdout",
          "text": [
            "best estimator is:  GradientBoostingClassifier(learning_rate=1.0, max_depth=2, max_leaf_nodes=32,\n",
            "                           n_estimators=250, random_state=42)\n",
            "best params are:  {'max_leaf_nodes': 32, 'n_estimators': 250}\n"
          ]
        }
      ]
    },
    {
      "cell_type": "markdown",
      "source": [
        "#### Evaluation over training set"
      ],
      "metadata": {
        "id": "dshkrbT2fL8h"
      }
    },
    {
      "cell_type": "code",
      "source": [
        "print(\"***Performance stats for Gradient Boosting Classifier over training data***\")\n",
        "calculate_model_stats(grid_search_gboost.best_estimator_,X,y, \"grad_boost\", True)"
      ],
      "metadata": {
        "colab": {
          "base_uri": "https://localhost:8080/",
          "height": 500
        },
        "id": "uiNXbfX8fOl_",
        "outputId": "419d2919-8586-4b4c-ec1a-702a557c4212"
      },
      "execution_count": null,
      "outputs": [
        {
          "output_type": "stream",
          "name": "stdout",
          "text": [
            "***Performance stats for Gradient Boosting Classifier over training data***\n"
          ]
        },
        {
          "output_type": "display_data",
          "data": {
            "text/plain": [
              "<Figure size 576x432 with 1 Axes>"
            ],
            "image/png": "[encoded data removed]"
          },
          "metadata": {
            "needs_background": "light"
          }
        },
        {
          "output_type": "stream",
          "name": "stdout",
          "text": [
            "accuracy: 1.0\n",
            " ROC AUC Score:  1.0\n",
            " Precision score:  1.0\n",
            "Recall score: 1.0\n"
          ]
        }
      ]
    },
    {
      "cell_type": "markdown",
      "source": [
        "#### Evaluation over test set"
      ],
      "metadata": {
        "id": "702_OG9XfSRf"
      }
    },
    {
      "cell_type": "code",
      "source": [
        "print(\"***Performance stats for Gradient Boosting Classifier over test data***\")\n",
        "calculate_model_stats(grid_search_gboost.best_estimator_,X_test,y_test, \"grad_boost\", False)"
      ],
      "metadata": {
        "colab": {
          "base_uri": "https://localhost:8080/",
          "height": 500
        },
        "id": "OGREhvStfU-C",
        "outputId": "3fcbb093-0c85-4718-845e-7ff6b1921f26"
      },
      "execution_count": null,
      "outputs": [
        {
          "output_type": "stream",
          "name": "stdout",
          "text": [
            "***Performance stats for Gradient Boosting Classifier over test data***\n"
          ]
        },
        {
          "output_type": "display_data",
          "data": {
            "text/plain": [
              "<Figure size 576x432 with 1 Axes>"
            ],
            "image/png": "[encoded data removed]"
          },
          "metadata": {
            "needs_background": "light"
          }
        },
        {
          "output_type": "stream",
          "name": "stdout",
          "text": [
            "accuracy: 0.9618768328445748\n",
            " ROC AUC Score:  0.8553202479338843\n",
            " Precision score:  0.40476190476190477\n",
            "Recall score: 0.38636363636363635\n"
          ]
        }
      ]
    },
    {
      "cell_type": "markdown",
      "source": [
        "Similar to AdaBoost, this gives perfect scores on training data. Accuracy and ROC AUC are high on test data but precision/recall fall. "
      ],
      "metadata": {
        "id": "rbtv0AQZgyHn"
      }
    },
    {
      "cell_type": "markdown",
      "source": [
        "#### Learning Curves"
      ],
      "metadata": {
        "id": "aQYmnpx83OUP"
      }
    },
    {
      "cell_type": "markdown",
      "source": [
        "Learning curves are plotted on training set using cv=3"
      ],
      "metadata": {
        "id": "D85lL8R23QiN"
      }
    },
    {
      "cell_type": "code",
      "source": [
        "plot_learning_curve(grid_search_gboost.best_estimator_, X,y)"
      ],
      "metadata": {
        "colab": {
          "base_uri": "https://localhost:8080/",
          "height": 295
        },
        "id": "6a3OLbXX3VXR",
        "outputId": "13dfc404-83a8-49b0-f194-bfebf48c30b3"
      },
      "execution_count": 35,
      "outputs": [
        {
          "output_type": "display_data",
          "data": {
            "text/plain": [
              "<Figure size 432x288 with 1 Axes>"
            ],
            "image/png": "[encoded data removed]"
          },
          "metadata": {
            "needs_background": "light"
          }
        }
      ]
    },
    {
      "cell_type": "markdown",
      "source": [
        "This curves looks better than most of the models and is pretty similar to the learning curve seen for logistic regression. There is some overfitting initially but as the training data size increases the overfitting reduces. One difference between the curves for logistic regression and Gradient boosting are that the curves are moving closer to each other at large training data sizes which is not the case for gradient boosting where after around 2700 training instances the accuracy is dropping for both."
      ],
      "metadata": {
        "id": "ZKRlwsa59iYW"
      }
    },
    {
      "cell_type": "markdown",
      "source": [
        "# Summary of results\n",
        "\n",
        "We present below a summary of results\n",
        "\n"
      ],
      "metadata": {
        "id": "fOsSxfSXSH8Q"
      }
    },
    {
      "cell_type": "markdown",
      "source": [
        "## Training data\n",
        "Below is a summary of performance metrics for the classifiers over training data"
      ],
      "metadata": {
        "id": "NopMinOxKsYL"
      }
    },
    {
      "cell_type": "code",
      "source": [
        "training_stats_df"
      ],
      "metadata": {
        "colab": {
          "base_uri": "https://localhost:8080/",
          "height": 237
        },
        "id": "YIvegYuPKx_c",
        "outputId": "642ad04d-8945-4188-942e-154a458efa89"
      },
      "execution_count": null,
      "outputs": [
        {
          "output_type": "execute_result",
          "data": {
            "text/plain": [
              "                Accuracy   ROC AUC  Precision    Recall\n",
              "log reg         0.971036  0.941447   0.673077  0.198864\n",
              "svm             0.998167  0.999642   0.946237  1.000000\n",
              "svm (with pca)  0.992301  0.998771   0.807339  1.000000\n",
              "rnd_forest      0.982768  0.995957   0.652985  0.994318\n",
              "ada_boost       1.000000  1.000000   1.000000  1.000000\n",
              "grad_boost      1.000000  1.000000   1.000000  1.000000"
            ],
            "text/html": [
              "\n",
              "  <div id=\"df-96b3f582-cfad-4d99-b218-09acd8ce8f92\">\n",
              "    <div class=\"colab-df-container\">\n",
              "      <div>\n",
              "<style scoped>\n",
              "    .dataframe tbody tr th:only-of-type {\n",
              "        vertical-align: middle;\n",
              "    }\n",
              "\n",
              "    .dataframe tbody tr th {\n",
              "        vertical-align: top;\n",
              "    }\n",
              "\n",
              "    .dataframe thead th {\n",
              "        text-align: right;\n",
              "    }\n",
              "</style>\n",
              "<table border=\"1\" class=\"dataframe\">\n",
              "  <thead>\n",
              "    <tr style=\"text-align: right;\">\n",
              "      <th></th>\n",
              "      <th>Accuracy</th>\n",
              "      <th>ROC AUC</th>\n",
              "      <th>Precision</th>\n",
              "      <th>Recall</th>\n",
              "    </tr>\n",
              "  </thead>\n",
              "  <tbody>\n",
              "    <tr>\n",
              "      <th>log reg</th>\n",
              "      <td>0.971036</td>\n",
              "      <td>0.941447</td>\n",
              "      <td>0.673077</td>\n",
              "      <td>0.198864</td>\n",
              "    </tr>\n",
              "    <tr>\n",
              "      <th>svm</th>\n",
              "      <td>0.998167</td>\n",
              "      <td>0.999642</td>\n",
              "      <td>0.946237</td>\n",
              "      <td>1.000000</td>\n",
              "    </tr>\n",
              "    <tr>\n",
              "      <th>svm (with pca)</th>\n",
              "      <td>0.992301</td>\n",
              "      <td>0.998771</td>\n",
              "      <td>0.807339</td>\n",
              "      <td>1.000000</td>\n",
              "    </tr>\n",
              "    <tr>\n",
              "      <th>rnd_forest</th>\n",
              "      <td>0.982768</td>\n",
              "      <td>0.995957</td>\n",
              "      <td>0.652985</td>\n",
              "      <td>0.994318</td>\n",
              "    </tr>\n",
              "    <tr>\n",
              "      <th>ada_boost</th>\n",
              "      <td>1.000000</td>\n",
              "      <td>1.000000</td>\n",
              "      <td>1.000000</td>\n",
              "      <td>1.000000</td>\n",
              "    </tr>\n",
              "    <tr>\n",
              "      <th>grad_boost</th>\n",
              "      <td>1.000000</td>\n",
              "      <td>1.000000</td>\n",
              "      <td>1.000000</td>\n",
              "      <td>1.000000</td>\n",
              "    </tr>\n",
              "  </tbody>\n",
              "</table>\n",
              "</div>\n",
              "      <button class=\"colab-df-convert\" onclick=\"convertToInteractive('df-96b3f582-cfad-4d99-b218-09acd8ce8f92')\"\n",
              "              title=\"Convert this dataframe to an interactive table.\"\n",
              "              style=\"display:none;\">\n",
              "        \n",
              "  <svg xmlns=\"http://www.w3.org/2000/svg\" height=\"24px\"viewBox=\"0 0 24 24\"\n",
              "       width=\"24px\">\n",
              "    <path d=\"M0 0h24v24H0V0z\" fill=\"none\"/>\n",
              "    <path d=\"M18.56 5.44l.94 2.06.94-2.06 2.06-.94-2.06-.94-.94-2.06-.94 2.06-2.06.94zm-11 1L8.5 8.5l.94-2.06 2.06-.94-2.06-.94L8.5 2.5l-.94 2.06-2.06.94zm10 10l.94 2.06.94-2.06 2.06-.94-2.06-.94-.94-2.06-.94 2.06-2.06.94z\"/><path d=\"M17.41 7.96l-1.37-1.37c-.4-.4-.92-.59-1.43-.59-.52 0-1.04.2-1.43.59L10.3 9.45l-7.72 7.72c-.78.78-.78 2.05 0 2.83L4 21.41c.39.39.9.59 1.41.59.51 0 1.02-.2 1.41-.59l7.78-7.78 2.81-2.81c.8-.78.8-2.07 0-2.86zM5.41 20L4 18.59l7.72-7.72 1.47 1.35L5.41 20z\"/>\n",
              "  </svg>\n",
              "      </button>\n",
              "      \n",
              "  <style>\n",
              "    .colab-df-container {\n",
              "      display:flex;\n",
              "      flex-wrap:wrap;\n",
              "      gap: 12px;\n",
              "    }\n",
              "\n",
              "    .colab-df-convert {\n",
              "      background-color: #E8F0FE;\n",
              "      border: none;\n",
              "      border-radius: 50%;\n",
              "      cursor: pointer;\n",
              "      display: none;\n",
              "      fill: #1967D2;\n",
              "      height: 32px;\n",
              "      padding: 0 0 0 0;\n",
              "      width: 32px;\n",
              "    }\n",
              "\n",
              "    .colab-df-convert:hover {\n",
              "      background-color: #E2EBFA;\n",
              "      box-shadow: 0px 1px 2px rgba(60, 64, 67, 0.3), 0px 1px 3px 1px rgba(60, 64, 67, 0.15);\n",
              "      fill: #174EA6;\n",
              "    }\n",
              "\n",
              "    [theme=dark] .colab-df-convert {\n",
              "      background-color: #3B4455;\n",
              "      fill: #D2E3FC;\n",
              "    }\n",
              "\n",
              "    [theme=dark] .colab-df-convert:hover {\n",
              "      background-color: #434B5C;\n",
              "      box-shadow: 0px 1px 3px 1px rgba(0, 0, 0, 0.15);\n",
              "      filter: drop-shadow(0px 1px 2px rgba(0, 0, 0, 0.3));\n",
              "      fill: #FFFFFF;\n",
              "    }\n",
              "  </style>\n",
              "\n",
              "      <script>\n",
              "        const buttonEl =\n",
              "          document.querySelector('#df-96b3f582-cfad-4d99-b218-09acd8ce8f92 button.colab-df-convert');\n",
              "        buttonEl.style.display =\n",
              "          google.colab.kernel.accessAllowed ? 'block' : 'none';\n",
              "\n",
              "        async function convertToInteractive(key) {\n",
              "          const element = document.querySelector('#df-96b3f582-cfad-4d99-b218-09acd8ce8f92');\n",
              "          const dataTable =\n",
              "            await google.colab.kernel.invokeFunction('convertToInteractive',\n",
              "                                                     [key], {});\n",
              "          if (!dataTable) return;\n",
              "\n",
              "          const docLinkHtml = 'Like what you see? Visit the ' +\n",
              "            '<a target=\"_blank\" href=https://colab.research.google.com/notebooks/data_table.ipynb>data table notebook</a>'\n",
              "            + ' to learn more about interactive tables.';\n",
              "          element.innerHTML = '';\n",
              "          dataTable['output_type'] = 'display_data';\n",
              "          await google.colab.output.renderOutput(dataTable, element);\n",
              "          const docLink = document.createElement('div');\n",
              "          docLink.innerHTML = docLinkHtml;\n",
              "          element.appendChild(docLink);\n",
              "        }\n",
              "      </script>\n",
              "    </div>\n",
              "  </div>\n",
              "  "
            ]
          },
          "metadata": {},
          "execution_count": 199
        }
      ]
    },
    {
      "cell_type": "markdown",
      "source": [
        "## Test data\n",
        "Below is a summary of performance metrics for the classifiers over test data"
      ],
      "metadata": {
        "id": "LU08E4A6K0RC"
      }
    },
    {
      "cell_type": "code",
      "source": [
        "test_stats_df"
      ],
      "metadata": {
        "colab": {
          "base_uri": "https://localhost:8080/",
          "height": 237
        },
        "id": "VYC0S9IeK2EU",
        "outputId": "494a692f-6b87-497d-c929-e3e49638547f"
      },
      "execution_count": null,
      "outputs": [
        {
          "output_type": "execute_result",
          "data": {
            "text/plain": [
              "                Accuracy   ROC AUC  Precision    Recall\n",
              "log reg         0.967009  0.940479   0.466667  0.159091\n",
              "svm             0.952346  0.851412   0.276596  0.295455\n",
              "svm (with pca)  0.956745  0.868285   0.352941  0.409091\n",
              "rnd_forest      0.960411  0.941357   0.403846  0.477273\n",
              "ada_boost       0.971408  0.909556   0.600000  0.340909\n",
              "grad_boost      0.961877  0.855320   0.404762  0.386364"
            ],
            "text/html": [
              "\n",
              "  <div id=\"df-89865330-ce97-4330-82d7-a42b988ac617\">\n",
              "    <div class=\"colab-df-container\">\n",
              "      <div>\n",
              "<style scoped>\n",
              "    .dataframe tbody tr th:only-of-type {\n",
              "        vertical-align: middle;\n",
              "    }\n",
              "\n",
              "    .dataframe tbody tr th {\n",
              "        vertical-align: top;\n",
              "    }\n",
              "\n",
              "    .dataframe thead th {\n",
              "        text-align: right;\n",
              "    }\n",
              "</style>\n",
              "<table border=\"1\" class=\"dataframe\">\n",
              "  <thead>\n",
              "    <tr style=\"text-align: right;\">\n",
              "      <th></th>\n",
              "      <th>Accuracy</th>\n",
              "      <th>ROC AUC</th>\n",
              "      <th>Precision</th>\n",
              "      <th>Recall</th>\n",
              "    </tr>\n",
              "  </thead>\n",
              "  <tbody>\n",
              "    <tr>\n",
              "      <th>log reg</th>\n",
              "      <td>0.967009</td>\n",
              "      <td>0.940479</td>\n",
              "      <td>0.466667</td>\n",
              "      <td>0.159091</td>\n",
              "    </tr>\n",
              "    <tr>\n",
              "      <th>svm</th>\n",
              "      <td>0.952346</td>\n",
              "      <td>0.851412</td>\n",
              "      <td>0.276596</td>\n",
              "      <td>0.295455</td>\n",
              "    </tr>\n",
              "    <tr>\n",
              "      <th>svm (with pca)</th>\n",
              "      <td>0.956745</td>\n",
              "      <td>0.868285</td>\n",
              "      <td>0.352941</td>\n",
              "      <td>0.409091</td>\n",
              "    </tr>\n",
              "    <tr>\n",
              "      <th>rnd_forest</th>\n",
              "      <td>0.960411</td>\n",
              "      <td>0.941357</td>\n",
              "      <td>0.403846</td>\n",
              "      <td>0.477273</td>\n",
              "    </tr>\n",
              "    <tr>\n",
              "      <th>ada_boost</th>\n",
              "      <td>0.971408</td>\n",
              "      <td>0.909556</td>\n",
              "      <td>0.600000</td>\n",
              "      <td>0.340909</td>\n",
              "    </tr>\n",
              "    <tr>\n",
              "      <th>grad_boost</th>\n",
              "      <td>0.961877</td>\n",
              "      <td>0.855320</td>\n",
              "      <td>0.404762</td>\n",
              "      <td>0.386364</td>\n",
              "    </tr>\n",
              "  </tbody>\n",
              "</table>\n",
              "</div>\n",
              "      <button class=\"colab-df-convert\" onclick=\"convertToInteractive('df-89865330-ce97-4330-82d7-a42b988ac617')\"\n",
              "              title=\"Convert this dataframe to an interactive table.\"\n",
              "              style=\"display:none;\">\n",
              "        \n",
              "  <svg xmlns=\"http://www.w3.org/2000/svg\" height=\"24px\"viewBox=\"0 0 24 24\"\n",
              "       width=\"24px\">\n",
              "    <path d=\"M0 0h24v24H0V0z\" fill=\"none\"/>\n",
              "    <path d=\"M18.56 5.44l.94 2.06.94-2.06 2.06-.94-2.06-.94-.94-2.06-.94 2.06-2.06.94zm-11 1L8.5 8.5l.94-2.06 2.06-.94-2.06-.94L8.5 2.5l-.94 2.06-2.06.94zm10 10l.94 2.06.94-2.06 2.06-.94-2.06-.94-.94-2.06-.94 2.06-2.06.94z\"/><path d=\"M17.41 7.96l-1.37-1.37c-.4-.4-.92-.59-1.43-.59-.52 0-1.04.2-1.43.59L10.3 9.45l-7.72 7.72c-.78.78-.78 2.05 0 2.83L4 21.41c.39.39.9.59 1.41.59.51 0 1.02-.2 1.41-.59l7.78-7.78 2.81-2.81c.8-.78.8-2.07 0-2.86zM5.41 20L4 18.59l7.72-7.72 1.47 1.35L5.41 20z\"/>\n",
              "  </svg>\n",
              "      </button>\n",
              "      \n",
              "  <style>\n",
              "    .colab-df-container {\n",
              "      display:flex;\n",
              "      flex-wrap:wrap;\n",
              "      gap: 12px;\n",
              "    }\n",
              "\n",
              "    .colab-df-convert {\n",
              "      background-color: #E8F0FE;\n",
              "      border: none;\n",
              "      border-radius: 50%;\n",
              "      cursor: pointer;\n",
              "      display: none;\n",
              "      fill: #1967D2;\n",
              "      height: 32px;\n",
              "      padding: 0 0 0 0;\n",
              "      width: 32px;\n",
              "    }\n",
              "\n",
              "    .colab-df-convert:hover {\n",
              "      background-color: #E2EBFA;\n",
              "      box-shadow: 0px 1px 2px rgba(60, 64, 67, 0.3), 0px 1px 3px 1px rgba(60, 64, 67, 0.15);\n",
              "      fill: #174EA6;\n",
              "    }\n",
              "\n",
              "    [theme=dark] .colab-df-convert {\n",
              "      background-color: #3B4455;\n",
              "      fill: #D2E3FC;\n",
              "    }\n",
              "\n",
              "    [theme=dark] .colab-df-convert:hover {\n",
              "      background-color: #434B5C;\n",
              "      box-shadow: 0px 1px 3px 1px rgba(0, 0, 0, 0.15);\n",
              "      filter: drop-shadow(0px 1px 2px rgba(0, 0, 0, 0.3));\n",
              "      fill: #FFFFFF;\n",
              "    }\n",
              "  </style>\n",
              "\n",
              "      <script>\n",
              "        const buttonEl =\n",
              "          document.querySelector('#df-89865330-ce97-4330-82d7-a42b988ac617 button.colab-df-convert');\n",
              "        buttonEl.style.display =\n",
              "          google.colab.kernel.accessAllowed ? 'block' : 'none';\n",
              "\n",
              "        async function convertToInteractive(key) {\n",
              "          const element = document.querySelector('#df-89865330-ce97-4330-82d7-a42b988ac617');\n",
              "          const dataTable =\n",
              "            await google.colab.kernel.invokeFunction('convertToInteractive',\n",
              "                                                     [key], {});\n",
              "          if (!dataTable) return;\n",
              "\n",
              "          const docLinkHtml = 'Like what you see? Visit the ' +\n",
              "            '<a target=\"_blank\" href=https://colab.research.google.com/notebooks/data_table.ipynb>data table notebook</a>'\n",
              "            + ' to learn more about interactive tables.';\n",
              "          element.innerHTML = '';\n",
              "          dataTable['output_type'] = 'display_data';\n",
              "          await google.colab.output.renderOutput(dataTable, element);\n",
              "          const docLink = document.createElement('div');\n",
              "          docLink.innerHTML = docLinkHtml;\n",
              "          element.appendChild(docLink);\n",
              "        }\n",
              "      </script>\n",
              "    </div>\n",
              "  </div>\n",
              "  "
            ]
          },
          "metadata": {},
          "execution_count": 200
        }
      ]
    }
  ]
}
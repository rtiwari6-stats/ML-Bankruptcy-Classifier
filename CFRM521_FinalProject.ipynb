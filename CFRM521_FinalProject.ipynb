{
  "cells": [
    {
      "cell_type": "markdown",
      "metadata": {
        "id": "8SlqZYaRNB4g"
      },
      "source": [
        "\n",
        "## Bankruptcy prediction using Machine Learning techniques \n",
        "\n"
      ]
    },
    {
      "cell_type": "markdown",
      "metadata": {
        "id": "Zfv5Fn5425WM"
      },
      "source": [
        "###Team\n",
        "\n",
        "Pragya Sharma and Rohan Tiwari.\n",
        "\n",
        "\n"
      ]
    },
    {
      "cell_type": "markdown",
      "metadata": {
        "id": "jg200rGF3Tjt"
      },
      "source": [
        "###Goal and Motivation\n",
        "\n",
        "Bankruptcy prediction is important for creditors and investors to evaluate the likelihood that a firm may go bankrupt. It allows stakeholders to take corrective action to limit their economic losses.  Bankruptcy prediction is an early warning to not just investors but also public policy makers to take proactive steps to minimize the impact of bankruptcies. \n",
        "This problem requires high recall as classifying a bankrupt firm as non-bankrupt will confuse investors. For this problem, false alerts are fine but it should not miss any firms that are going to go bankrupt.\n",
        "\n",
        "The project aims to determine the best performing model to predict bankruptcy for a given dataset (more about the data in the next section)\n",
        "\n"
      ]
    },
    {
      "cell_type": "markdown",
      "metadata": {
        "id": "3HS5ilR03XoP"
      },
      "source": [
        "### Data\n",
        "\n",
        "The dataset has 96 columns (95 features and 1 class attribute) and 6819 instances.  From the UCI ML Repository - \"The data were collected from the Taiwan Economic Journal for the years 1999 to 2009. Company bankruptcy was defined based on the business regulations of the Taiwan Stock Exchange.\"\n",
        "\n",
        "Each data instance (or data row) represents information about a particular firm. This information includes financial metrics and ratios that are useful to determine the health of a firm. Each instance is labeleled as whether the firm went bankrupt (1) or not (0). \n"
      ]
    },
    {
      "cell_type": "markdown",
      "source": [
        "#### Data Source\n",
        "The data is available at the following sources\n",
        "https://archive.ics.uci.edu/ml/datasets/Taiwanese+Bankruptcy+Prediction\n",
        "\n",
        "https://www.kaggle.com/datasets/fedesoriano/company-bankruptcy-prediction?select=data.csv"
      ],
      "metadata": {
        "id": "GjYwch9078Zg"
      }
    },
    {
      "cell_type": "markdown",
      "source": [
        "### Target Variable\n",
        "\n",
        "The class attribute is called \"Bankrupt?\". It takes values 1 (Bankrupt) and 0 (Not Bankrupt).\n",
        "The project aims to predict this class attribute i.e. it is our target variable."
      ],
      "metadata": {
        "id": "TG9ozAcU8ICw"
      }
    },
    {
      "cell_type": "markdown",
      "metadata": {
        "id": "0QSBi_3_EZg1"
      },
      "source": [
        "### Methodology\n",
        "\n",
        "1. Our experiments will first begin by importing the data. The data is available in the file data.csv and will be loaded as a DataFrame. \n",
        "2. Next the data will be analyzed to check for class distributions, null values, missing values and any other sanity checks. \n",
        "3. The next step will be to divide the data into training and test datasets using appropriate form of sampling\n",
        "4. Several experiments will be run using different Machine Learning algorithms and their performance will be evaluated on test set after tuning hyperparameters.\n",
        "5. The results will be compared to determine the best performing algorithm."
      ]
    },
    {
      "cell_type": "markdown",
      "metadata": {
        "id": "e9B-KGAB3c2O"
      },
      "source": [
        "### References\n",
        "1. Undersampling bankruptcy prediction: Taiwan bankruptcy data. Haoming Wang and Xiangdong Liu. Published online 2021 Jul 1. doi: 10.1371/journal.pone.0254030.\n",
        "2. Liang, D., Lu, C.-C., Tsai, C.-F., and Shih, G.-A. (2016) Financial Ratios and Corporate Governance Indicators in Bankruptcy Prediction: A Comprehensive Study. European Journal of Operational Research, vol. 252, no. 2, pp. 561-572."
      ]
    },
    {
      "cell_type": "markdown",
      "metadata": {
        "id": "fSSww18AD2C8"
      },
      "source": [
        "### Statement of contributions by each team member\n",
        "\n",
        "#### Rohan Tiwari\n",
        "1. Preprocessing the data - handling missing values, categorical features, feature scaling and utility functions.\n",
        "2. Logistic Regression\n",
        "3. Support Vector Machines\n",
        "4. PCA\n",
        "5. Support Vector Machines with PCA\n",
        "6. Random Forest Classifier\n",
        "7. AdaBoost Classifier\n",
        "8. Gradient Boosting Classifier\n",
        "\n",
        "#### Pragya Sharma\n",
        "1. Data Visualization\n",
        "2. Extra- trees Classifier\n",
        "2. Bagging and Pasting Classifier\n",
        "3. Hard and Soft Voting Classifier\n",
        "4. k-NN Classifier\n",
        "5. Feature Selection using Random Forests and implementing Logistic Regression,SVM\n",
        "6. Nueral Networks - to do\n"
      ]
    },
    {
      "cell_type": "markdown",
      "metadata": {
        "id": "Fyts-w15WUCz"
      },
      "source": [
        ""
      ]
    },
    {
      "cell_type": "code",
      "execution_count": null,
      "metadata": {
        "id": "ind7wUN7D4xt"
      },
      "outputs": [],
      "source": [
        "#from google.colab import files\n",
        "#files.upload()"
      ]
    },
    {
      "cell_type": "markdown",
      "metadata": {
        "id": "SW1VEA6CmCXC"
      },
      "source": [
        "## Reading the data\n",
        "\n",
        "This section reads the data from .csv file and splits it appropriately into training and test datasets."
      ]
    },
    {
      "cell_type": "code",
      "execution_count": null,
      "metadata": {
        "colab": {
          "base_uri": "https://localhost:8080/",
          "height": 386
        },
        "id": "8i5X0eUiM5Px",
        "outputId": "e38c4398-83d4-4ae9-f4e2-4088479b92a8"
      },
      "outputs": [
        {
          "output_type": "execute_result",
          "data": {
            "text/plain": [
              "   Bankrupt?   ROA(C) before interest and depreciation before interest  \\\n",
              "0          1                                           0.370594          \n",
              "1          1                                           0.464291          \n",
              "2          1                                           0.426071          \n",
              "3          1                                           0.399844          \n",
              "4          1                                           0.465022          \n",
              "\n",
              "    ROA(A) before interest and % after tax  \\\n",
              "0                                 0.424389   \n",
              "1                                 0.538214   \n",
              "2                                 0.499019   \n",
              "3                                 0.451265   \n",
              "4                                 0.538432   \n",
              "\n",
              "    ROA(B) before interest and depreciation after tax  \\\n",
              "0                                           0.405750    \n",
              "1                                           0.516730    \n",
              "2                                           0.472295    \n",
              "3                                           0.457733    \n",
              "4                                           0.522298    \n",
              "\n",
              "    Operating Gross Margin   Realized Sales Gross Margin  \\\n",
              "0                 0.601457                      0.601457   \n",
              "1                 0.610235                      0.610235   \n",
              "2                 0.601450                      0.601364   \n",
              "3                 0.583541                      0.583541   \n",
              "4                 0.598783                      0.598783   \n",
              "\n",
              "    Operating Profit Rate   Pre-tax net Interest Rate  \\\n",
              "0                0.998969                    0.796887   \n",
              "1                0.998946                    0.797380   \n",
              "2                0.998857                    0.796403   \n",
              "3                0.998700                    0.796967   \n",
              "4                0.998973                    0.797366   \n",
              "\n",
              "    After-tax net Interest Rate   Non-industry income and expenditure/revenue  \\\n",
              "0                      0.808809                                      0.302646   \n",
              "1                      0.809301                                      0.303556   \n",
              "2                      0.808388                                      0.302035   \n",
              "3                      0.808966                                      0.303350   \n",
              "4                      0.809304                                      0.303475   \n",
              "\n",
              "   ...   Net Income to Total Assets   Total assets to GNP price  \\\n",
              "0  ...                     0.716845                    0.009219   \n",
              "1  ...                     0.795297                    0.008323   \n",
              "2  ...                     0.774670                    0.040003   \n",
              "3  ...                     0.739555                    0.003252   \n",
              "4  ...                     0.795016                    0.003878   \n",
              "\n",
              "    No-credit Interval   Gross Profit to Sales  \\\n",
              "0             0.622879                0.601453   \n",
              "1             0.623652                0.610237   \n",
              "2             0.623841                0.601449   \n",
              "3             0.622929                0.583538   \n",
              "4             0.623521                0.598782   \n",
              "\n",
              "    Net Income to Stockholder's Equity   Liability to Equity  \\\n",
              "0                             0.827890              0.290202   \n",
              "1                             0.839969              0.283846   \n",
              "2                             0.836774              0.290189   \n",
              "3                             0.834697              0.281721   \n",
              "4                             0.839973              0.278514   \n",
              "\n",
              "    Degree of Financial Leverage (DFL)  \\\n",
              "0                             0.026601   \n",
              "1                             0.264577   \n",
              "2                             0.026555   \n",
              "3                             0.026697   \n",
              "4                             0.024752   \n",
              "\n",
              "    Interest Coverage Ratio (Interest expense to EBIT)   Net Income Flag  \\\n",
              "0                                           0.564050                   1   \n",
              "1                                           0.570175                   1   \n",
              "2                                           0.563706                   1   \n",
              "3                                           0.564663                   1   \n",
              "4                                           0.575617                   1   \n",
              "\n",
              "    Equity to Liability  \n",
              "0              0.016469  \n",
              "1              0.020794  \n",
              "2              0.016474  \n",
              "3              0.023982  \n",
              "4              0.035490  \n",
              "\n",
              "[5 rows x 96 columns]"
            ],
            "text/html": [
              "\n",
              "  <div id=\"df-a2ff10d6-4811-4399-af43-299aadc2b69c\">\n",
              "    <div class=\"colab-df-container\">\n",
              "      <div>\n",
              "<style scoped>\n",
              "    .dataframe tbody tr th:only-of-type {\n",
              "        vertical-align: middle;\n",
              "    }\n",
              "\n",
              "    .dataframe tbody tr th {\n",
              "        vertical-align: top;\n",
              "    }\n",
              "\n",
              "    .dataframe thead th {\n",
              "        text-align: right;\n",
              "    }\n",
              "</style>\n",
              "<table border=\"1\" class=\"dataframe\">\n",
              "  <thead>\n",
              "    <tr style=\"text-align: right;\">\n",
              "      <th></th>\n",
              "      <th>Bankrupt?</th>\n",
              "      <th>ROA(C) before interest and depreciation before interest</th>\n",
              "      <th>ROA(A) before interest and % after tax</th>\n",
              "      <th>ROA(B) before interest and depreciation after tax</th>\n",
              "      <th>Operating Gross Margin</th>\n",
              "      <th>Realized Sales Gross Margin</th>\n",
              "      <th>Operating Profit Rate</th>\n",
              "      <th>Pre-tax net Interest Rate</th>\n",
              "      <th>After-tax net Interest Rate</th>\n",
              "      <th>Non-industry income and expenditure/revenue</th>\n",
              "      <th>...</th>\n",
              "      <th>Net Income to Total Assets</th>\n",
              "      <th>Total assets to GNP price</th>\n",
              "      <th>No-credit Interval</th>\n",
              "      <th>Gross Profit to Sales</th>\n",
              "      <th>Net Income to Stockholder's Equity</th>\n",
              "      <th>Liability to Equity</th>\n",
              "      <th>Degree of Financial Leverage (DFL)</th>\n",
              "      <th>Interest Coverage Ratio (Interest expense to EBIT)</th>\n",
              "      <th>Net Income Flag</th>\n",
              "      <th>Equity to Liability</th>\n",
              "    </tr>\n",
              "  </thead>\n",
              "  <tbody>\n",
              "    <tr>\n",
              "      <th>0</th>\n",
              "      <td>1</td>\n",
              "      <td>0.370594</td>\n",
              "      <td>0.424389</td>\n",
              "      <td>0.405750</td>\n",
              "      <td>0.601457</td>\n",
              "      <td>0.601457</td>\n",
              "      <td>0.998969</td>\n",
              "      <td>0.796887</td>\n",
              "      <td>0.808809</td>\n",
              "      <td>0.302646</td>\n",
              "      <td>...</td>\n",
              "      <td>0.716845</td>\n",
              "      <td>0.009219</td>\n",
              "      <td>0.622879</td>\n",
              "      <td>0.601453</td>\n",
              "      <td>0.827890</td>\n",
              "      <td>0.290202</td>\n",
              "      <td>0.026601</td>\n",
              "      <td>0.564050</td>\n",
              "      <td>1</td>\n",
              "      <td>0.016469</td>\n",
              "    </tr>\n",
              "    <tr>\n",
              "      <th>1</th>\n",
              "      <td>1</td>\n",
              "      <td>0.464291</td>\n",
              "      <td>0.538214</td>\n",
              "      <td>0.516730</td>\n",
              "      <td>0.610235</td>\n",
              "      <td>0.610235</td>\n",
              "      <td>0.998946</td>\n",
              "      <td>0.797380</td>\n",
              "      <td>0.809301</td>\n",
              "      <td>0.303556</td>\n",
              "      <td>...</td>\n",
              "      <td>0.795297</td>\n",
              "      <td>0.008323</td>\n",
              "      <td>0.623652</td>\n",
              "      <td>0.610237</td>\n",
              "      <td>0.839969</td>\n",
              "      <td>0.283846</td>\n",
              "      <td>0.264577</td>\n",
              "      <td>0.570175</td>\n",
              "      <td>1</td>\n",
              "      <td>0.020794</td>\n",
              "    </tr>\n",
              "    <tr>\n",
              "      <th>2</th>\n",
              "      <td>1</td>\n",
              "      <td>0.426071</td>\n",
              "      <td>0.499019</td>\n",
              "      <td>0.472295</td>\n",
              "      <td>0.601450</td>\n",
              "      <td>0.601364</td>\n",
              "      <td>0.998857</td>\n",
              "      <td>0.796403</td>\n",
              "      <td>0.808388</td>\n",
              "      <td>0.302035</td>\n",
              "      <td>...</td>\n",
              "      <td>0.774670</td>\n",
              "      <td>0.040003</td>\n",
              "      <td>0.623841</td>\n",
              "      <td>0.601449</td>\n",
              "      <td>0.836774</td>\n",
              "      <td>0.290189</td>\n",
              "      <td>0.026555</td>\n",
              "      <td>0.563706</td>\n",
              "      <td>1</td>\n",
              "      <td>0.016474</td>\n",
              "    </tr>\n",
              "    <tr>\n",
              "      <th>3</th>\n",
              "      <td>1</td>\n",
              "      <td>0.399844</td>\n",
              "      <td>0.451265</td>\n",
              "      <td>0.457733</td>\n",
              "      <td>0.583541</td>\n",
              "      <td>0.583541</td>\n",
              "      <td>0.998700</td>\n",
              "      <td>0.796967</td>\n",
              "      <td>0.808966</td>\n",
              "      <td>0.303350</td>\n",
              "      <td>...</td>\n",
              "      <td>0.739555</td>\n",
              "      <td>0.003252</td>\n",
              "      <td>0.622929</td>\n",
              "      <td>0.583538</td>\n",
              "      <td>0.834697</td>\n",
              "      <td>0.281721</td>\n",
              "      <td>0.026697</td>\n",
              "      <td>0.564663</td>\n",
              "      <td>1</td>\n",
              "      <td>0.023982</td>\n",
              "    </tr>\n",
              "    <tr>\n",
              "      <th>4</th>\n",
              "      <td>1</td>\n",
              "      <td>0.465022</td>\n",
              "      <td>0.538432</td>\n",
              "      <td>0.522298</td>\n",
              "      <td>0.598783</td>\n",
              "      <td>0.598783</td>\n",
              "      <td>0.998973</td>\n",
              "      <td>0.797366</td>\n",
              "      <td>0.809304</td>\n",
              "      <td>0.303475</td>\n",
              "      <td>...</td>\n",
              "      <td>0.795016</td>\n",
              "      <td>0.003878</td>\n",
              "      <td>0.623521</td>\n",
              "      <td>0.598782</td>\n",
              "      <td>0.839973</td>\n",
              "      <td>0.278514</td>\n",
              "      <td>0.024752</td>\n",
              "      <td>0.575617</td>\n",
              "      <td>1</td>\n",
              "      <td>0.035490</td>\n",
              "    </tr>\n",
              "  </tbody>\n",
              "</table>\n",
              "<p>5 rows × 96 columns</p>\n",
              "</div>\n",
              "      <button class=\"colab-df-convert\" onclick=\"convertToInteractive('df-a2ff10d6-4811-4399-af43-299aadc2b69c')\"\n",
              "              title=\"Convert this dataframe to an interactive table.\"\n",
              "              style=\"display:none;\">\n",
              "        \n",
              "  <svg xmlns=\"http://www.w3.org/2000/svg\" height=\"24px\"viewBox=\"0 0 24 24\"\n",
              "       width=\"24px\">\n",
              "    <path d=\"M0 0h24v24H0V0z\" fill=\"none\"/>\n",
              "    <path d=\"M18.56 5.44l.94 2.06.94-2.06 2.06-.94-2.06-.94-.94-2.06-.94 2.06-2.06.94zm-11 1L8.5 8.5l.94-2.06 2.06-.94-2.06-.94L8.5 2.5l-.94 2.06-2.06.94zm10 10l.94 2.06.94-2.06 2.06-.94-2.06-.94-.94-2.06-.94 2.06-2.06.94z\"/><path d=\"M17.41 7.96l-1.37-1.37c-.4-.4-.92-.59-1.43-.59-.52 0-1.04.2-1.43.59L10.3 9.45l-7.72 7.72c-.78.78-.78 2.05 0 2.83L4 21.41c.39.39.9.59 1.41.59.51 0 1.02-.2 1.41-.59l7.78-7.78 2.81-2.81c.8-.78.8-2.07 0-2.86zM5.41 20L4 18.59l7.72-7.72 1.47 1.35L5.41 20z\"/>\n",
              "  </svg>\n",
              "      </button>\n",
              "      \n",
              "  <style>\n",
              "    .colab-df-container {\n",
              "      display:flex;\n",
              "      flex-wrap:wrap;\n",
              "      gap: 12px;\n",
              "    }\n",
              "\n",
              "    .colab-df-convert {\n",
              "      background-color: #E8F0FE;\n",
              "      border: none;\n",
              "      border-radius: 50%;\n",
              "      cursor: pointer;\n",
              "      display: none;\n",
              "      fill: #1967D2;\n",
              "      height: 32px;\n",
              "      padding: 0 0 0 0;\n",
              "      width: 32px;\n",
              "    }\n",
              "\n",
              "    .colab-df-convert:hover {\n",
              "      background-color: #E2EBFA;\n",
              "      box-shadow: 0px 1px 2px rgba(60, 64, 67, 0.3), 0px 1px 3px 1px rgba(60, 64, 67, 0.15);\n",
              "      fill: #174EA6;\n",
              "    }\n",
              "\n",
              "    [theme=dark] .colab-df-convert {\n",
              "      background-color: #3B4455;\n",
              "      fill: #D2E3FC;\n",
              "    }\n",
              "\n",
              "    [theme=dark] .colab-df-convert:hover {\n",
              "      background-color: #434B5C;\n",
              "      box-shadow: 0px 1px 3px 1px rgba(0, 0, 0, 0.15);\n",
              "      filter: drop-shadow(0px 1px 2px rgba(0, 0, 0, 0.3));\n",
              "      fill: #FFFFFF;\n",
              "    }\n",
              "  </style>\n",
              "\n",
              "      <script>\n",
              "        const buttonEl =\n",
              "          document.querySelector('#df-a2ff10d6-4811-4399-af43-299aadc2b69c button.colab-df-convert');\n",
              "        buttonEl.style.display =\n",
              "          google.colab.kernel.accessAllowed ? 'block' : 'none';\n",
              "\n",
              "        async function convertToInteractive(key) {\n",
              "          const element = document.querySelector('#df-a2ff10d6-4811-4399-af43-299aadc2b69c');\n",
              "          const dataTable =\n",
              "            await google.colab.kernel.invokeFunction('convertToInteractive',\n",
              "                                                     [key], {});\n",
              "          if (!dataTable) return;\n",
              "\n",
              "          const docLinkHtml = 'Like what you see? Visit the ' +\n",
              "            '<a target=\"_blank\" href=https://colab.research.google.com/notebooks/data_table.ipynb>data table notebook</a>'\n",
              "            + ' to learn more about interactive tables.';\n",
              "          element.innerHTML = '';\n",
              "          dataTable['output_type'] = 'display_data';\n",
              "          await google.colab.output.renderOutput(dataTable, element);\n",
              "          const docLink = document.createElement('div');\n",
              "          docLink.innerHTML = docLinkHtml;\n",
              "          element.appendChild(docLink);\n",
              "        }\n",
              "      </script>\n",
              "    </div>\n",
              "  </div>\n",
              "  "
            ]
          },
          "metadata": {},
          "execution_count": 1
        }
      ],
      "source": [
        "# read the data \n",
        "import os\n",
        "import numpy as np\n",
        "import pandas as pd\n",
        "data = pd.read_csv(\"data.csv\")\n",
        "data.head()\n",
        "\n"
      ]
    },
    {
      "cell_type": "code",
      "execution_count": null,
      "metadata": {
        "colab": {
          "base_uri": "https://localhost:8080/",
          "height": 282
        },
        "id": "FKWetIxUhRdz",
        "outputId": "b7b179a1-43f7-49b8-b382-a3a62a5f209f"
      },
      "outputs": [
        {
          "output_type": "execute_result",
          "data": {
            "text/plain": [
              "<matplotlib.axes._subplots.AxesSubplot at 0x7fc2e841e810>"
            ]
          },
          "metadata": {},
          "execution_count": 2
        },
        {
          "output_type": "display_data",
          "data": {
            "text/plain": [
              "<Figure size 432x288 with 1 Axes>"
            ],
            "image/png": "[encoded data removed]"
          },
          "metadata": {
            "needs_background": "light"
          }
        }
      ],
      "source": [
        "#check distribution of bankrupt variable which is the target variable\n",
        "\n",
        "data['Bankrupt?'].hist()"
      ]
    },
    {
      "cell_type": "markdown",
      "metadata": {
        "id": "8_W8cbjYhbzM"
      },
      "source": [
        "As seen above, the target variable is highly imbalanced as is also mentioned in the paper by Liang et. al. To better handle this imbalanced class data, stratified sampling is used.\n",
        "\n",
        "Also, to take care of this class imbalance problem, class_weight='balanced' parameter is used in the classifiers.  This modifies the training procedure for classifiers to take into account the imbalance classes. By default, equal weights are assigned but with class_weight='balanced' weights are assigned during training that are inversely proportional to the frequency of classes. This penalizes the misclassification more for the minority class compared to the majority one. \n",
        "\n",
        "A training-test split of 80-20 is used in the stratified sampling implementation below."
      ]
    },
    {
      "cell_type": "code",
      "execution_count": null,
      "metadata": {
        "id": "cTyPl0rGh1HG"
      },
      "outputs": [],
      "source": [
        "from sklearn.model_selection import StratifiedShuffleSplit\n",
        "split = StratifiedShuffleSplit(n_splits=1, test_size=0.2, random_state=42)\n",
        "for train_index, test_index in split.split(data, data[\"Bankrupt?\"]):\n",
        "    strat_train_set = data.loc[train_index]\n",
        "    strat_test_set = data.loc[test_index]\n",
        "\n",
        "X_raw = strat_train_set.drop(\"Bankrupt?\", axis=1)\n",
        "y = strat_train_set[\"Bankrupt?\"].copy()\n",
        "\n",
        "X_test = strat_test_set.drop(\"Bankrupt?\", axis=1)\n",
        "y_test = strat_test_set[\"Bankrupt?\"].copy()\n"
      ]
    },
    {
      "cell_type": "code",
      "execution_count": null,
      "metadata": {
        "colab": {
          "base_uri": "https://localhost:8080/",
          "height": 281
        },
        "id": "BEIRjqcpk3Yt",
        "outputId": "a52c4c4d-c494-45b8-8e87-86d0dea7c327"
      },
      "outputs": [
        {
          "output_type": "display_data",
          "data": {
            "text/plain": [
              "<Figure size 432x288 with 1 Axes>"
            ],
            "image/png": "[encoded data removed]"
          },
          "metadata": {
            "needs_background": "light"
          }
        }
      ],
      "source": [
        "import matplotlib.pyplot as plt\n",
        "\n",
        "plt.hist(strat_train_set[\"Bankrupt?\"], label=\"Training data\")\n",
        "plt.hist(strat_test_set[\"Bankrupt?\"], label=\"Test data\")\n",
        "plt.title(\"Histogram of Bankrupt class after stratified sampling\")\n",
        "plt.legend()\n",
        "plt.show()"
      ]
    },
    {
      "cell_type": "markdown",
      "metadata": {
        "id": "_lrzZh5BDQkW"
      },
      "source": [
        "## Data Visualization"
      ]
    },
    {
      "cell_type": "markdown",
      "metadata": {
        "id": "zWzqSdYzDQkW"
      },
      "source": [
        "The categorical data is distinguished as binary 1 and 0, thus stored as \"int64\". We separate the numeric and categoric data to analyze our dataset."
      ]
    },
    {
      "cell_type": "code",
      "execution_count": null,
      "metadata": {
        "colab": {
          "base_uri": "https://localhost:8080/"
        },
        "id": "AnSF9LmkDQkX",
        "outputId": "812fc1f7-cd94-4d4e-db60-0c16a289b9d9"
      },
      "outputs": [
        {
          "output_type": "execute_result",
          "data": {
            "text/plain": [
              "['Bankrupt?', ' Liability-Assets Flag', ' Net Income Flag']"
            ]
          },
          "metadata": {},
          "execution_count": 5
        }
      ],
      "source": [
        "numeric_features = data.dtypes[data.dtypes != 'int64'].index\n",
        "categorical_features = data.dtypes[data.dtypes == 'int64'].index\n",
        "\n",
        "data[categorical_features].columns.tolist()"
      ]
    },
    {
      "cell_type": "markdown",
      "metadata": {
        "id": "ohTTvqTMDQkX"
      },
      "source": [
        "1. The \"Liability-Assets\" flag denotes the status of an organization, where if the total liability exceeds total assets, the flagged value will be 1, else the value is 0. A majority number of times, organizations/company's assets are more than their liabilities"
      ]
    },
    {
      "cell_type": "code",
      "execution_count": null,
      "metadata": {
        "colab": {
          "base_uri": "https://localhost:8080/"
        },
        "id": "o9awVfnCDQkY",
        "outputId": "3aa9c38e-f5e7-422a-eb0f-b45eccd2330a"
      },
      "outputs": [
        {
          "output_type": "stream",
          "name": "stdout",
          "text": [
            " Liability-Assets Flag  Bankrupt?\n",
            "0                       0            6597\n",
            "                        1             214\n",
            "1                       1               6\n",
            "                        0               2\n",
            "dtype: int64\n"
          ]
        },
        {
          "output_type": "execute_result",
          "data": {
            "text/plain": [
              "<matplotlib.axes._subplots.AxesSubplot at 0x7fc2d92e1a90>"
            ]
          },
          "metadata": {},
          "execution_count": 6
        },
        {
          "output_type": "display_data",
          "data": {
            "text/plain": [
              "<Figure size 432x288 with 1 Axes>"
            ],
            "image/png": "[encoded data removed]"
          },
          "metadata": {
            "needs_background": "light"
          }
        }
      ],
      "source": [
        "print(data[[' Liability-Assets Flag','Bankrupt?']].value_counts())\n",
        "data[' Liability-Assets Flag'].hist()"
      ]
    },
    {
      "cell_type": "markdown",
      "metadata": {
        "id": "6hufMvzuDQkY"
      },
      "source": [
        "The \"Liability-Assets\" flag does not provide any strong evidence of correlation"
      ]
    },
    {
      "cell_type": "markdown",
      "metadata": {
        "id": "PLTKEgHYDQkZ"
      },
      "source": [
        "2. The \"Net Income\" flag denotes the status of an organization's income in the last two years, where if the net income is negative for the past two years, the flagged value will be 1, else the value is 0. We observe that all the records have been exhibiting a loss for the past two years."
      ]
    },
    {
      "cell_type": "code",
      "execution_count": null,
      "metadata": {
        "colab": {
          "base_uri": "https://localhost:8080/"
        },
        "id": "U7Tclol3DQkZ",
        "outputId": "69f3018c-8efc-443f-cbc4-43935ed96f87"
      },
      "outputs": [
        {
          "output_type": "stream",
          "name": "stdout",
          "text": [
            " Net Income Flag  Bankrupt?\n",
            "1                 0            6599\n",
            "                  1             220\n",
            "dtype: int64\n"
          ]
        }
      ],
      "source": [
        "print(data[[' Net Income Flag','Bankrupt?']].value_counts())"
      ]
    },
    {
      "cell_type": "markdown",
      "metadata": {
        "id": "Gykw0F2uDQkZ"
      },
      "source": [
        "Many organizations that have suffered losses for the past two years have stabilized their business, thus avoiding bankruptcy. However the \"Net Income Flag\" does not provide any strong evidence of correlation between negative net income and bankruptcy as all the companies have same flag value"
      ]
    },
    {
      "cell_type": "markdown",
      "metadata": {
        "id": "oOLnPdXLDQka"
      },
      "source": [
        "3. For sake of simplicity, analyzing top 9 positively and negatively correlated attributes"
      ]
    },
    {
      "cell_type": "code",
      "execution_count": null,
      "metadata": {
        "id": "g2e7vMKuDQka"
      },
      "outputs": [],
      "source": [
        "positive_corr = data[numeric_features].corrwith(data[\"Bankrupt?\"]).sort_values(ascending=False)[:9].index.tolist()\n",
        "negative_corr = data[numeric_features].corrwith(data[\"Bankrupt?\"]).sort_values()[:9].index.tolist()\n",
        "\n",
        "positive_corr = data[positive_corr + [\"Bankrupt?\"]].copy()\n",
        "negative_corr = data[negative_corr + [\"Bankrupt?\"]].copy()"
      ]
    },
    {
      "cell_type": "code",
      "execution_count": null,
      "metadata": {
        "colab": {
          "base_uri": "https://localhost:8080/"
        },
        "id": "wVCHB8hSDQka",
        "outputId": "0f546c00-53e7-4c54-dfe7-5574de704531"
      },
      "outputs": [
        {
          "output_type": "display_data",
          "data": {
            "text/plain": [
              "<Figure size 1080x576 with 9 Axes>"
            ],
            "image/png": "[encoded data removed]"
          },
          "metadata": {
            "needs_background": "light"
          }
        }
      ],
      "source": [
        "def barplot_graph(xval,yval):\n",
        "    fix, axes = plt.subplots(ncols=3, figsize=(15,8), sharey=True)\n",
        "    for i in range(1,10):\n",
        "        plt.subplot(3,3,i)  \n",
        "        plt.bar(xval,yval[i-1],data = data)\n",
        "        plt.xlabel(xval)\n",
        "        plt.ylabel(yval[i-1])\n",
        "\n",
        "xval = positive_corr.columns.tolist()[-1]\n",
        "yval = positive_corr.columns.tolist()[:-1]\n",
        "barplot_graph(xval,yval)\n",
        "plt.show()"
      ]
    },
    {
      "cell_type": "markdown",
      "metadata": {
        "id": "ZUP6x1JmDQka"
      },
      "source": [
        "We see that attributes - \"Debt Ratio %, Current Liability To Assets, Current Liability To Current Assets, Current Liabilities/Equity,Current Liabilities to Equity,Total Expenses to Assets  \" are commonly high in bankrupt organizations. This makes sense as we would expect the debt/liabilities to be high for companies highly likely to get bankrupt (unable to meet obligations)"
      ]
    },
    {
      "cell_type": "code",
      "execution_count": null,
      "metadata": {
        "colab": {
          "base_uri": "https://localhost:8080/"
        },
        "id": "XTVmGjy1DQkb",
        "outputId": "c6a76598-aad7-4634-e33a-79fe34219e1a"
      },
      "outputs": [
        {
          "output_type": "display_data",
          "data": {
            "text/plain": [
              "<Figure size 864x864 with 9 Axes>"
            ],
            "image/png": "[encoded data removed]"
          },
          "metadata": {
            "needs_background": "light"
          }
        }
      ],
      "source": [
        "xval = negative_corr.columns.tolist()[-1]\n",
        "yval = negative_corr.columns.tolist()[:-1]\n",
        "fix, axes = plt.subplots(ncols=3, figsize=(12,12), sharey=True)\n",
        "for i in range(1,10):\n",
        "    plt.subplot(3,3,i)  \n",
        "    plt.bar(xval,yval[i-1],data = data)\n",
        "    plt.xlabel(xval)\n",
        "    plt.ylabel(yval[i-1])\n"
      ]
    },
    {
      "cell_type": "markdown",
      "metadata": {
        "id": "4aOqdflVDQkc"
      },
      "source": [
        "These attributes show us that the more the assets and earnings of a company, the less likely is the organization to be bankrupt."
      ]
    },
    {
      "cell_type": "markdown",
      "metadata": {
        "id": "7PSq8FcuDQkc"
      },
      "source": [
        "Let us check the relation of top 9 positive and negative correlation attributes among each other"
      ]
    },
    {
      "cell_type": "code",
      "execution_count": null,
      "metadata": {
        "colab": {
          "base_uri": "https://localhost:8080/"
        },
        "id": "tUg5GdOMDQkd",
        "outputId": "f98d77dd-f17f-483f-adec-fb91b25f745c"
      },
      "outputs": [
        {
          "output_type": "display_data",
          "data": {
            "text/plain": [
              "<Figure size 1800x1080 with 2 Axes>"
            ],
            "image/png": "[encoded data removed]"
          },
          "metadata": {
            "needs_background": "light"
          }
        }
      ],
      "source": [
        "relation = positive_corr.columns.tolist()[:-1] + negative_corr.columns.tolist()[:-1]\n",
        "\n",
        "f = plt.figure(figsize=(25, 15))\n",
        "plt.matshow(data[relation].corr(), fignum=f.number)\n",
        "plt.xticks(range(data[relation].select_dtypes(['number']).shape[1]), data[relation].select_dtypes(['number']).columns, fontsize=14, rotation=90)\n",
        "plt.yticks(range(data[relation].select_dtypes(['number']).shape[1]), data[relation].select_dtypes(['number']).columns, fontsize=14)\n",
        "cb = plt.colorbar()\n",
        "cb.ax.tick_params(labelsize=14)\n",
        "plt.title('Correlation Matrix', fontsize=16);"
      ]
    },
    {
      "cell_type": "markdown",
      "metadata": {
        "id": "Wyg6T70DDQke"
      },
      "source": [
        "There seems to be a significant relation between attributes that have a high correlation with the target attribute and a low correlation with the target attribute.\n",
        "This implies that feature selection is important for our analysis"
      ]
    },
    {
      "cell_type": "markdown",
      "metadata": {
        "id": "vUbBwQhXmYgh"
      },
      "source": [
        "## Preprocessing the data\n",
        "\n",
        "This section applies appropriate preprocessing steps to the data to make it ready for training models."
      ]
    },
    {
      "cell_type": "markdown",
      "metadata": {
        "id": "Mxma7pEjrFkH"
      },
      "source": [
        "### Handling Missing values"
      ]
    },
    {
      "cell_type": "code",
      "execution_count": null,
      "metadata": {
        "colab": {
          "base_uri": "https://localhost:8080/"
        },
        "id": "BHZavADPqiLf",
        "outputId": "51891f75-baed-4d0f-9c6a-8f82ca058f38"
      },
      "outputs": [
        {
          "output_type": "execute_result",
          "data": {
            "text/plain": [
              "(5455, 95)"
            ]
          },
          "metadata": {},
          "execution_count": 12
        }
      ],
      "source": [
        "X_raw.shape"
      ]
    },
    {
      "cell_type": "code",
      "execution_count": null,
      "metadata": {
        "colab": {
          "base_uri": "https://localhost:8080/"
        },
        "id": "1kIbEBUPqncl",
        "outputId": "222c039d-ac80-43ea-8cd4-06b83cfc0e17"
      },
      "outputs": [
        {
          "output_type": "execute_result",
          "data": {
            "text/plain": [
              "(0, 95)"
            ]
          },
          "metadata": {},
          "execution_count": 13
        }
      ],
      "source": [
        "X_raw[X_raw.isnull().any(axis=1)].shape"
      ]
    },
    {
      "cell_type": "code",
      "execution_count": null,
      "metadata": {
        "colab": {
          "base_uri": "https://localhost:8080/"
        },
        "id": "ThwyLsOsqvgC",
        "outputId": "d69e3b0e-8619-4084-a3e6-a677d91a8376"
      },
      "outputs": [
        {
          "output_type": "execute_result",
          "data": {
            "text/plain": [
              "(0, 95)"
            ]
          },
          "metadata": {},
          "execution_count": 14
        }
      ],
      "source": [
        "X_raw[X_raw.isna().any(axis=1)].shape"
      ]
    },
    {
      "cell_type": "markdown",
      "metadata": {
        "id": "uWz48Ks5rfUR"
      },
      "source": [
        "The training data has 5455 observations and 95 features. There is no missing values as shown by the checks for null and na values. "
      ]
    },
    {
      "cell_type": "markdown",
      "metadata": {
        "id": "2H9_2GAar5YT"
      },
      "source": [
        "### Categorical features"
      ]
    },
    {
      "cell_type": "code",
      "execution_count": null,
      "metadata": {
        "colab": {
          "base_uri": "https://localhost:8080/"
        },
        "id": "FV64GlK5wl8F",
        "outputId": "05cd6457-8692-4bd1-8db4-ad1f44dddada"
      },
      "outputs": [
        {
          "output_type": "execute_result",
          "data": {
            "text/plain": [
              " ROA(C) before interest and depreciation before interest    float64\n",
              " ROA(A) before interest and % after tax                     float64\n",
              " ROA(B) before interest and depreciation after tax          float64\n",
              " Operating Gross Margin                                     float64\n",
              " Realized Sales Gross Margin                                float64\n",
              "                                                             ...   \n",
              " Liability to Equity                                        float64\n",
              " Degree of Financial Leverage (DFL)                         float64\n",
              " Interest Coverage Ratio (Interest expense to EBIT)         float64\n",
              " Net Income Flag                                              int64\n",
              " Equity to Liability                                        float64\n",
              "Length: 95, dtype: object"
            ]
          },
          "metadata": {},
          "execution_count": 15
        }
      ],
      "source": [
        "X_raw.dtypes"
      ]
    },
    {
      "cell_type": "markdown",
      "metadata": {
        "id": "7LnN59_iwppL"
      },
      "source": [
        "After checking the datatypes of all columns in the dataset it was determined that the columns are all numerical attributes and there is no categorical data. "
      ]
    },
    {
      "cell_type": "markdown",
      "metadata": {
        "id": "2lxJVYYVmzni"
      },
      "source": [
        "Implemented below are some utility functions for the project."
      ]
    },
    {
      "cell_type": "markdown",
      "metadata": {
        "id": "6ZudOOaLwzIQ"
      },
      "source": [
        "### Feature Scaling"
      ]
    },
    {
      "cell_type": "markdown",
      "metadata": {
        "id": "Qy6eUTFqyvDv"
      },
      "source": [
        "All the features are scaled(standardized) using MinMaxScaler.\n",
        "The transformed values are between 0 and 1 i.e. they are normalized same as Liang et. al. "
      ]
    },
    {
      "cell_type": "code",
      "execution_count": null,
      "metadata": {
        "colab": {
          "base_uri": "https://localhost:8080/",
          "height": 473
        },
        "id": "joYgzMDdyVKy",
        "outputId": "6528f04f-08fc-49e0-ed3f-d875540d2a4e"
      },
      "outputs": [
        {
          "output_type": "execute_result",
          "data": {
            "text/plain": [
              "       ROA(C) before interest and depreciation before interest  \\\n",
              "318                                            0.481189          \n",
              "5796                                           0.522808          \n",
              "4454                                           0.514614          \n",
              "2225                                           0.456508          \n",
              "3249                                           0.376418          \n",
              "\n",
              "       ROA(A) before interest and % after tax  \\\n",
              "318                                  0.550153   \n",
              "5796                                 0.590765   \n",
              "4454                                 0.586895   \n",
              "2225                                 0.536851   \n",
              "3249                                 0.443197   \n",
              "\n",
              "       ROA(B) before interest and depreciation after tax  \\\n",
              "318                                            0.528832    \n",
              "5796                                           0.558633    \n",
              "4454                                           0.551487    \n",
              "2225                                           0.504459    \n",
              "3249                                           0.412785    \n",
              "\n",
              "       Operating Gross Margin   Realized Sales Gross Margin  \\\n",
              "318                  0.899832                      0.898654   \n",
              "5796                 0.901002                      0.899628   \n",
              "4454                 0.912184                      0.910989   \n",
              "2225                 0.895097                      0.893925   \n",
              "3249                 0.999014                      0.997706   \n",
              "\n",
              "       Operating Profit Rate   Pre-tax net Interest Rate  \\\n",
              "318                 0.998980                    0.797443   \n",
              "5796                0.999023                    0.797454   \n",
              "4454                0.999103                    0.797606   \n",
              "2225                0.998967                    0.797390   \n",
              "3249                0.995856                    0.794096   \n",
              "\n",
              "       After-tax net Interest Rate  \\\n",
              "318                       0.791807   \n",
              "5796                      0.791812   \n",
              "4454                      0.791933   \n",
              "2225                      0.791761   \n",
              "3249                      0.788379   \n",
              "\n",
              "       Non-industry income and expenditure/revenue  \\\n",
              "318                                       0.257162   \n",
              "5796                                      0.257087   \n",
              "4454                                      0.257191   \n",
              "2225                                      0.257093   \n",
              "3249                                      0.257894   \n",
              "\n",
              "       Continuous interest rate (after tax)  ...   Net Income to Total Assets  \\\n",
              "318                                0.781616  ...                     0.806631   \n",
              "5796                               0.781621  ...                     0.827723   \n",
              "4454                               0.781718  ...                     0.828627   \n",
              "2225                               0.781572  ...                     0.797846   \n",
              "3249                               0.777918  ...                     0.756573   \n",
              "\n",
              "       Total assets to GNP price   No-credit Interval   Gross Profit to Sales  \\\n",
              "318                 1.666653e-13             0.623661                0.899830   \n",
              "5796                1.098794e-13             0.624307                0.900998   \n",
              "4454                2.551415e-13             0.624714                0.912185   \n",
              "2225                3.156365e-13             0.624621                0.895093   \n",
              "3249                2.014380e-14             0.624242                0.999011   \n",
              "\n",
              "       Net Income to Stockholder's Equity   Liability to Equity  \\\n",
              "318                              0.756845              0.164776   \n",
              "5796                             0.760811              0.172086   \n",
              "4454                             0.758880              0.165181   \n",
              "2225                             0.756233              0.173438   \n",
              "3249                             0.752978              0.163429   \n",
              "\n",
              "       Degree of Financial Leverage (DFL)  \\\n",
              "318                              0.026814   \n",
              "5796                             0.026852   \n",
              "4454                             0.026791   \n",
              "2225                             0.027673   \n",
              "3249                             0.026791   \n",
              "\n",
              "       Interest Coverage Ratio (Interest expense to EBIT)   Net Income Flag  \\\n",
              "318                                            0.565265                 0.0   \n",
              "5796                                           0.565433                 0.0   \n",
              "4454                                           0.565159                 0.0   \n",
              "2225                                           0.567450                 0.0   \n",
              "3249                                           0.565158                 0.0   \n",
              "\n",
              "       Equity to Liability  \n",
              "318               0.070742  \n",
              "5796              0.022433  \n",
              "4454              0.059856  \n",
              "2225              0.020864  \n",
              "3249              0.233952  \n",
              "\n",
              "[5 rows x 95 columns]"
            ],
            "text/html": [
              "\n",
              "  <div id=\"df-ffff3557-1f6f-43fc-9f1d-7ea9a2e86815\">\n",
              "    <div class=\"colab-df-container\">\n",
              "      <div>\n",
              "<style scoped>\n",
              "    .dataframe tbody tr th:only-of-type {\n",
              "        vertical-align: middle;\n",
              "    }\n",
              "\n",
              "    .dataframe tbody tr th {\n",
              "        vertical-align: top;\n",
              "    }\n",
              "\n",
              "    .dataframe thead th {\n",
              "        text-align: right;\n",
              "    }\n",
              "</style>\n",
              "<table border=\"1\" class=\"dataframe\">\n",
              "  <thead>\n",
              "    <tr style=\"text-align: right;\">\n",
              "      <th></th>\n",
              "      <th>ROA(C) before interest and depreciation before interest</th>\n",
              "      <th>ROA(A) before interest and % after tax</th>\n",
              "      <th>ROA(B) before interest and depreciation after tax</th>\n",
              "      <th>Operating Gross Margin</th>\n",
              "      <th>Realized Sales Gross Margin</th>\n",
              "      <th>Operating Profit Rate</th>\n",
              "      <th>Pre-tax net Interest Rate</th>\n",
              "      <th>After-tax net Interest Rate</th>\n",
              "      <th>Non-industry income and expenditure/revenue</th>\n",
              "      <th>Continuous interest rate (after tax)</th>\n",
              "      <th>...</th>\n",
              "      <th>Net Income to Total Assets</th>\n",
              "      <th>Total assets to GNP price</th>\n",
              "      <th>No-credit Interval</th>\n",
              "      <th>Gross Profit to Sales</th>\n",
              "      <th>Net Income to Stockholder's Equity</th>\n",
              "      <th>Liability to Equity</th>\n",
              "      <th>Degree of Financial Leverage (DFL)</th>\n",
              "      <th>Interest Coverage Ratio (Interest expense to EBIT)</th>\n",
              "      <th>Net Income Flag</th>\n",
              "      <th>Equity to Liability</th>\n",
              "    </tr>\n",
              "  </thead>\n",
              "  <tbody>\n",
              "    <tr>\n",
              "      <th>318</th>\n",
              "      <td>0.481189</td>\n",
              "      <td>0.550153</td>\n",
              "      <td>0.528832</td>\n",
              "      <td>0.899832</td>\n",
              "      <td>0.898654</td>\n",
              "      <td>0.998980</td>\n",
              "      <td>0.797443</td>\n",
              "      <td>0.791807</td>\n",
              "      <td>0.257162</td>\n",
              "      <td>0.781616</td>\n",
              "      <td>...</td>\n",
              "      <td>0.806631</td>\n",
              "      <td>1.666653e-13</td>\n",
              "      <td>0.623661</td>\n",
              "      <td>0.899830</td>\n",
              "      <td>0.756845</td>\n",
              "      <td>0.164776</td>\n",
              "      <td>0.026814</td>\n",
              "      <td>0.565265</td>\n",
              "      <td>0.0</td>\n",
              "      <td>0.070742</td>\n",
              "    </tr>\n",
              "    <tr>\n",
              "      <th>5796</th>\n",
              "      <td>0.522808</td>\n",
              "      <td>0.590765</td>\n",
              "      <td>0.558633</td>\n",
              "      <td>0.901002</td>\n",
              "      <td>0.899628</td>\n",
              "      <td>0.999023</td>\n",
              "      <td>0.797454</td>\n",
              "      <td>0.791812</td>\n",
              "      <td>0.257087</td>\n",
              "      <td>0.781621</td>\n",
              "      <td>...</td>\n",
              "      <td>0.827723</td>\n",
              "      <td>1.098794e-13</td>\n",
              "      <td>0.624307</td>\n",
              "      <td>0.900998</td>\n",
              "      <td>0.760811</td>\n",
              "      <td>0.172086</td>\n",
              "      <td>0.026852</td>\n",
              "      <td>0.565433</td>\n",
              "      <td>0.0</td>\n",
              "      <td>0.022433</td>\n",
              "    </tr>\n",
              "    <tr>\n",
              "      <th>4454</th>\n",
              "      <td>0.514614</td>\n",
              "      <td>0.586895</td>\n",
              "      <td>0.551487</td>\n",
              "      <td>0.912184</td>\n",
              "      <td>0.910989</td>\n",
              "      <td>0.999103</td>\n",
              "      <td>0.797606</td>\n",
              "      <td>0.791933</td>\n",
              "      <td>0.257191</td>\n",
              "      <td>0.781718</td>\n",
              "      <td>...</td>\n",
              "      <td>0.828627</td>\n",
              "      <td>2.551415e-13</td>\n",
              "      <td>0.624714</td>\n",
              "      <td>0.912185</td>\n",
              "      <td>0.758880</td>\n",
              "      <td>0.165181</td>\n",
              "      <td>0.026791</td>\n",
              "      <td>0.565159</td>\n",
              "      <td>0.0</td>\n",
              "      <td>0.059856</td>\n",
              "    </tr>\n",
              "    <tr>\n",
              "      <th>2225</th>\n",
              "      <td>0.456508</td>\n",
              "      <td>0.536851</td>\n",
              "      <td>0.504459</td>\n",
              "      <td>0.895097</td>\n",
              "      <td>0.893925</td>\n",
              "      <td>0.998967</td>\n",
              "      <td>0.797390</td>\n",
              "      <td>0.791761</td>\n",
              "      <td>0.257093</td>\n",
              "      <td>0.781572</td>\n",
              "      <td>...</td>\n",
              "      <td>0.797846</td>\n",
              "      <td>3.156365e-13</td>\n",
              "      <td>0.624621</td>\n",
              "      <td>0.895093</td>\n",
              "      <td>0.756233</td>\n",
              "      <td>0.173438</td>\n",
              "      <td>0.027673</td>\n",
              "      <td>0.567450</td>\n",
              "      <td>0.0</td>\n",
              "      <td>0.020864</td>\n",
              "    </tr>\n",
              "    <tr>\n",
              "      <th>3249</th>\n",
              "      <td>0.376418</td>\n",
              "      <td>0.443197</td>\n",
              "      <td>0.412785</td>\n",
              "      <td>0.999014</td>\n",
              "      <td>0.997706</td>\n",
              "      <td>0.995856</td>\n",
              "      <td>0.794096</td>\n",
              "      <td>0.788379</td>\n",
              "      <td>0.257894</td>\n",
              "      <td>0.777918</td>\n",
              "      <td>...</td>\n",
              "      <td>0.756573</td>\n",
              "      <td>2.014380e-14</td>\n",
              "      <td>0.624242</td>\n",
              "      <td>0.999011</td>\n",
              "      <td>0.752978</td>\n",
              "      <td>0.163429</td>\n",
              "      <td>0.026791</td>\n",
              "      <td>0.565158</td>\n",
              "      <td>0.0</td>\n",
              "      <td>0.233952</td>\n",
              "    </tr>\n",
              "  </tbody>\n",
              "</table>\n",
              "<p>5 rows × 95 columns</p>\n",
              "</div>\n",
              "      <button class=\"colab-df-convert\" onclick=\"convertToInteractive('df-ffff3557-1f6f-43fc-9f1d-7ea9a2e86815')\"\n",
              "              title=\"Convert this dataframe to an interactive table.\"\n",
              "              style=\"display:none;\">\n",
              "        \n",
              "  <svg xmlns=\"http://www.w3.org/2000/svg\" height=\"24px\"viewBox=\"0 0 24 24\"\n",
              "       width=\"24px\">\n",
              "    <path d=\"M0 0h24v24H0V0z\" fill=\"none\"/>\n",
              "    <path d=\"M18.56 5.44l.94 2.06.94-2.06 2.06-.94-2.06-.94-.94-2.06-.94 2.06-2.06.94zm-11 1L8.5 8.5l.94-2.06 2.06-.94-2.06-.94L8.5 2.5l-.94 2.06-2.06.94zm10 10l.94 2.06.94-2.06 2.06-.94-2.06-.94-.94-2.06-.94 2.06-2.06.94z\"/><path d=\"M17.41 7.96l-1.37-1.37c-.4-.4-.92-.59-1.43-.59-.52 0-1.04.2-1.43.59L10.3 9.45l-7.72 7.72c-.78.78-.78 2.05 0 2.83L4 21.41c.39.39.9.59 1.41.59.51 0 1.02-.2 1.41-.59l7.78-7.78 2.81-2.81c.8-.78.8-2.07 0-2.86zM5.41 20L4 18.59l7.72-7.72 1.47 1.35L5.41 20z\"/>\n",
              "  </svg>\n",
              "      </button>\n",
              "      \n",
              "  <style>\n",
              "    .colab-df-container {\n",
              "      display:flex;\n",
              "      flex-wrap:wrap;\n",
              "      gap: 12px;\n",
              "    }\n",
              "\n",
              "    .colab-df-convert {\n",
              "      background-color: #E8F0FE;\n",
              "      border: none;\n",
              "      border-radius: 50%;\n",
              "      cursor: pointer;\n",
              "      display: none;\n",
              "      fill: #1967D2;\n",
              "      height: 32px;\n",
              "      padding: 0 0 0 0;\n",
              "      width: 32px;\n",
              "    }\n",
              "\n",
              "    .colab-df-convert:hover {\n",
              "      background-color: #E2EBFA;\n",
              "      box-shadow: 0px 1px 2px rgba(60, 64, 67, 0.3), 0px 1px 3px 1px rgba(60, 64, 67, 0.15);\n",
              "      fill: #174EA6;\n",
              "    }\n",
              "\n",
              "    [theme=dark] .colab-df-convert {\n",
              "      background-color: #3B4455;\n",
              "      fill: #D2E3FC;\n",
              "    }\n",
              "\n",
              "    [theme=dark] .colab-df-convert:hover {\n",
              "      background-color: #434B5C;\n",
              "      box-shadow: 0px 1px 3px 1px rgba(0, 0, 0, 0.15);\n",
              "      filter: drop-shadow(0px 1px 2px rgba(0, 0, 0, 0.3));\n",
              "      fill: #FFFFFF;\n",
              "    }\n",
              "  </style>\n",
              "\n",
              "      <script>\n",
              "        const buttonEl =\n",
              "          document.querySelector('#df-ffff3557-1f6f-43fc-9f1d-7ea9a2e86815 button.colab-df-convert');\n",
              "        buttonEl.style.display =\n",
              "          google.colab.kernel.accessAllowed ? 'block' : 'none';\n",
              "\n",
              "        async function convertToInteractive(key) {\n",
              "          const element = document.querySelector('#df-ffff3557-1f6f-43fc-9f1d-7ea9a2e86815');\n",
              "          const dataTable =\n",
              "            await google.colab.kernel.invokeFunction('convertToInteractive',\n",
              "                                                     [key], {});\n",
              "          if (!dataTable) return;\n",
              "\n",
              "          const docLinkHtml = 'Like what you see? Visit the ' +\n",
              "            '<a target=\"_blank\" href=https://colab.research.google.com/notebooks/data_table.ipynb>data table notebook</a>'\n",
              "            + ' to learn more about interactive tables.';\n",
              "          element.innerHTML = '';\n",
              "          dataTable['output_type'] = 'display_data';\n",
              "          await google.colab.output.renderOutput(dataTable, element);\n",
              "          const docLink = document.createElement('div');\n",
              "          docLink.innerHTML = docLinkHtml;\n",
              "          element.appendChild(docLink);\n",
              "        }\n",
              "      </script>\n",
              "    </div>\n",
              "  </div>\n",
              "  "
            ]
          },
          "metadata": {},
          "execution_count": 16
        }
      ],
      "source": [
        "from sklearn.preprocessing import MinMaxScaler\n",
        "\n",
        "minmax_scalar = MinMaxScaler()\n",
        "Standard_X = minmax_scalar.fit(X_raw)\n",
        "X_raw_transformed = Standard_X.transform(X_raw)\n",
        "X = pd.DataFrame(X_raw_transformed, columns=X_raw.columns,index=X_raw.index)\n",
        "X.head()"
      ]
    },
    {
      "cell_type": "code",
      "execution_count": null,
      "metadata": {
        "colab": {
          "base_uri": "https://localhost:8080/",
          "height": 473
        },
        "id": "eTmci2AvJMJD",
        "outputId": "1f908d20-9008-4115-d1db-25c0ca55ee34"
      },
      "outputs": [
        {
          "output_type": "execute_result",
          "data": {
            "text/plain": [
              "       ROA(C) before interest and depreciation before interest  \\\n",
              "1244                                           0.490882          \n",
              "6303                                           0.473195          \n",
              "4712                                           0.543293          \n",
              "3273                                           0.655558          \n",
              "6430                                           0.436972          \n",
              "\n",
              "       ROA(A) before interest and % after tax  \\\n",
              "1244                                 0.556149   \n",
              "6303                                 0.547754   \n",
              "4712                                 0.618513   \n",
              "3273                                 0.692324   \n",
              "6430                                 0.509976   \n",
              "\n",
              "       ROA(B) before interest and depreciation after tax  \\\n",
              "1244                                           0.536753    \n",
              "6303                                           0.514374    \n",
              "4712                                           0.596023    \n",
              "3273                                           0.699164    \n",
              "6430                                           0.477926    \n",
              "\n",
              "       Operating Gross Margin   Realized Sales Gross Margin  \\\n",
              "1244                 0.916182                      0.914982   \n",
              "6303                 0.900265                      0.899087   \n",
              "4712                 0.913863                      0.912710   \n",
              "3273                 0.947299                      0.946059   \n",
              "6430                 0.977962                      0.976281   \n",
              "\n",
              "       Operating Profit Rate   Pre-tax net Interest Rate  \\\n",
              "1244                0.999043                    0.797445   \n",
              "6303                0.999002                    0.797424   \n",
              "4712                0.999043                    0.797758   \n",
              "3273                0.999314                    0.797808   \n",
              "6430                0.998738                    0.797212   \n",
              "\n",
              "       After-tax net Interest Rate  \\\n",
              "1244                      0.791801   \n",
              "6303                      0.791782   \n",
              "4712                      0.792117   \n",
              "3273                      0.792131   \n",
              "6430                      0.791509   \n",
              "\n",
              "       Non-industry income and expenditure/revenue  \\\n",
              "1244                                      0.257024   \n",
              "6303                                      0.257078   \n",
              "4712                                      0.257607   \n",
              "3273                                      0.257096   \n",
              "6430                                      0.257271   \n",
              "\n",
              "       Continuous interest rate (after tax)  ...   Net Income to Total Assets  \\\n",
              "1244                               0.781609  ...                     0.805667   \n",
              "6303                               0.781591  ...                     0.803448   \n",
              "4712                               0.781922  ...                     0.839238   \n",
              "3273                               0.781935  ...                     0.879037   \n",
              "6430                               0.781240  ...                     0.782600   \n",
              "\n",
              "       Total assets to GNP price   No-credit Interval   Gross Profit to Sales  \\\n",
              "1244                8.455800e-14             0.623746                0.916184   \n",
              "6303                1.984405e-13             0.623652                0.900264   \n",
              "4712                2.078966e-13             0.623843                0.913858   \n",
              "3273                1.159977e-13             0.624215                0.947295   \n",
              "6430                8.604712e-14             0.623938                0.977957   \n",
              "\n",
              "       Net Income to Stockholder's Equity   Liability to Equity  \\\n",
              "1244                             0.757387              0.171791   \n",
              "6303                             0.756747              0.167366   \n",
              "4712                             0.760748              0.167460   \n",
              "3273                             0.763387              0.165097   \n",
              "6430                             0.754912              0.163497   \n",
              "\n",
              "       Degree of Financial Leverage (DFL)  \\\n",
              "1244                             0.027273   \n",
              "6303                             0.027098   \n",
              "4712                             0.026816   \n",
              "3273                             0.026805   \n",
              "6430                             0.026709   \n",
              "\n",
              "       Interest Coverage Ratio (Interest expense to EBIT)   Net Income Flag  \\\n",
              "1244                                           0.566736                 0.0   \n",
              "6303                                           0.566292                 0.0   \n",
              "4712                                           0.565273                 0.0   \n",
              "3273                                           0.565222                 0.0   \n",
              "6430                                           0.564734                 0.0   \n",
              "\n",
              "       Equity to Liability  \n",
              "1244              0.022839  \n",
              "6303              0.035415  \n",
              "4712              0.034892  \n",
              "3273              0.061798  \n",
              "6430              0.207130  \n",
              "\n",
              "[5 rows x 95 columns]"
            ],
            "text/html": [
              "\n",
              "  <div id=\"df-b429b61c-7ae9-4b9f-ae69-238c29fb1a12\">\n",
              "    <div class=\"colab-df-container\">\n",
              "      <div>\n",
              "<style scoped>\n",
              "    .dataframe tbody tr th:only-of-type {\n",
              "        vertical-align: middle;\n",
              "    }\n",
              "\n",
              "    .dataframe tbody tr th {\n",
              "        vertical-align: top;\n",
              "    }\n",
              "\n",
              "    .dataframe thead th {\n",
              "        text-align: right;\n",
              "    }\n",
              "</style>\n",
              "<table border=\"1\" class=\"dataframe\">\n",
              "  <thead>\n",
              "    <tr style=\"text-align: right;\">\n",
              "      <th></th>\n",
              "      <th>ROA(C) before interest and depreciation before interest</th>\n",
              "      <th>ROA(A) before interest and % after tax</th>\n",
              "      <th>ROA(B) before interest and depreciation after tax</th>\n",
              "      <th>Operating Gross Margin</th>\n",
              "      <th>Realized Sales Gross Margin</th>\n",
              "      <th>Operating Profit Rate</th>\n",
              "      <th>Pre-tax net Interest Rate</th>\n",
              "      <th>After-tax net Interest Rate</th>\n",
              "      <th>Non-industry income and expenditure/revenue</th>\n",
              "      <th>Continuous interest rate (after tax)</th>\n",
              "      <th>...</th>\n",
              "      <th>Net Income to Total Assets</th>\n",
              "      <th>Total assets to GNP price</th>\n",
              "      <th>No-credit Interval</th>\n",
              "      <th>Gross Profit to Sales</th>\n",
              "      <th>Net Income to Stockholder's Equity</th>\n",
              "      <th>Liability to Equity</th>\n",
              "      <th>Degree of Financial Leverage (DFL)</th>\n",
              "      <th>Interest Coverage Ratio (Interest expense to EBIT)</th>\n",
              "      <th>Net Income Flag</th>\n",
              "      <th>Equity to Liability</th>\n",
              "    </tr>\n",
              "  </thead>\n",
              "  <tbody>\n",
              "    <tr>\n",
              "      <th>1244</th>\n",
              "      <td>0.490882</td>\n",
              "      <td>0.556149</td>\n",
              "      <td>0.536753</td>\n",
              "      <td>0.916182</td>\n",
              "      <td>0.914982</td>\n",
              "      <td>0.999043</td>\n",
              "      <td>0.797445</td>\n",
              "      <td>0.791801</td>\n",
              "      <td>0.257024</td>\n",
              "      <td>0.781609</td>\n",
              "      <td>...</td>\n",
              "      <td>0.805667</td>\n",
              "      <td>8.455800e-14</td>\n",
              "      <td>0.623746</td>\n",
              "      <td>0.916184</td>\n",
              "      <td>0.757387</td>\n",
              "      <td>0.171791</td>\n",
              "      <td>0.027273</td>\n",
              "      <td>0.566736</td>\n",
              "      <td>0.0</td>\n",
              "      <td>0.022839</td>\n",
              "    </tr>\n",
              "    <tr>\n",
              "      <th>6303</th>\n",
              "      <td>0.473195</td>\n",
              "      <td>0.547754</td>\n",
              "      <td>0.514374</td>\n",
              "      <td>0.900265</td>\n",
              "      <td>0.899087</td>\n",
              "      <td>0.999002</td>\n",
              "      <td>0.797424</td>\n",
              "      <td>0.791782</td>\n",
              "      <td>0.257078</td>\n",
              "      <td>0.781591</td>\n",
              "      <td>...</td>\n",
              "      <td>0.803448</td>\n",
              "      <td>1.984405e-13</td>\n",
              "      <td>0.623652</td>\n",
              "      <td>0.900264</td>\n",
              "      <td>0.756747</td>\n",
              "      <td>0.167366</td>\n",
              "      <td>0.027098</td>\n",
              "      <td>0.566292</td>\n",
              "      <td>0.0</td>\n",
              "      <td>0.035415</td>\n",
              "    </tr>\n",
              "    <tr>\n",
              "      <th>4712</th>\n",
              "      <td>0.543293</td>\n",
              "      <td>0.618513</td>\n",
              "      <td>0.596023</td>\n",
              "      <td>0.913863</td>\n",
              "      <td>0.912710</td>\n",
              "      <td>0.999043</td>\n",
              "      <td>0.797758</td>\n",
              "      <td>0.792117</td>\n",
              "      <td>0.257607</td>\n",
              "      <td>0.781922</td>\n",
              "      <td>...</td>\n",
              "      <td>0.839238</td>\n",
              "      <td>2.078966e-13</td>\n",
              "      <td>0.623843</td>\n",
              "      <td>0.913858</td>\n",
              "      <td>0.760748</td>\n",
              "      <td>0.167460</td>\n",
              "      <td>0.026816</td>\n",
              "      <td>0.565273</td>\n",
              "      <td>0.0</td>\n",
              "      <td>0.034892</td>\n",
              "    </tr>\n",
              "    <tr>\n",
              "      <th>3273</th>\n",
              "      <td>0.655558</td>\n",
              "      <td>0.692324</td>\n",
              "      <td>0.699164</td>\n",
              "      <td>0.947299</td>\n",
              "      <td>0.946059</td>\n",
              "      <td>0.999314</td>\n",
              "      <td>0.797808</td>\n",
              "      <td>0.792131</td>\n",
              "      <td>0.257096</td>\n",
              "      <td>0.781935</td>\n",
              "      <td>...</td>\n",
              "      <td>0.879037</td>\n",
              "      <td>1.159977e-13</td>\n",
              "      <td>0.624215</td>\n",
              "      <td>0.947295</td>\n",
              "      <td>0.763387</td>\n",
              "      <td>0.165097</td>\n",
              "      <td>0.026805</td>\n",
              "      <td>0.565222</td>\n",
              "      <td>0.0</td>\n",
              "      <td>0.061798</td>\n",
              "    </tr>\n",
              "    <tr>\n",
              "      <th>6430</th>\n",
              "      <td>0.436972</td>\n",
              "      <td>0.509976</td>\n",
              "      <td>0.477926</td>\n",
              "      <td>0.977962</td>\n",
              "      <td>0.976281</td>\n",
              "      <td>0.998738</td>\n",
              "      <td>0.797212</td>\n",
              "      <td>0.791509</td>\n",
              "      <td>0.257271</td>\n",
              "      <td>0.781240</td>\n",
              "      <td>...</td>\n",
              "      <td>0.782600</td>\n",
              "      <td>8.604712e-14</td>\n",
              "      <td>0.623938</td>\n",
              "      <td>0.977957</td>\n",
              "      <td>0.754912</td>\n",
              "      <td>0.163497</td>\n",
              "      <td>0.026709</td>\n",
              "      <td>0.564734</td>\n",
              "      <td>0.0</td>\n",
              "      <td>0.207130</td>\n",
              "    </tr>\n",
              "  </tbody>\n",
              "</table>\n",
              "<p>5 rows × 95 columns</p>\n",
              "</div>\n",
              "      <button class=\"colab-df-convert\" onclick=\"convertToInteractive('df-b429b61c-7ae9-4b9f-ae69-238c29fb1a12')\"\n",
              "              title=\"Convert this dataframe to an interactive table.\"\n",
              "              style=\"display:none;\">\n",
              "        \n",
              "  <svg xmlns=\"http://www.w3.org/2000/svg\" height=\"24px\"viewBox=\"0 0 24 24\"\n",
              "       width=\"24px\">\n",
              "    <path d=\"M0 0h24v24H0V0z\" fill=\"none\"/>\n",
              "    <path d=\"M18.56 5.44l.94 2.06.94-2.06 2.06-.94-2.06-.94-.94-2.06-.94 2.06-2.06.94zm-11 1L8.5 8.5l.94-2.06 2.06-.94-2.06-.94L8.5 2.5l-.94 2.06-2.06.94zm10 10l.94 2.06.94-2.06 2.06-.94-2.06-.94-.94-2.06-.94 2.06-2.06.94z\"/><path d=\"M17.41 7.96l-1.37-1.37c-.4-.4-.92-.59-1.43-.59-.52 0-1.04.2-1.43.59L10.3 9.45l-7.72 7.72c-.78.78-.78 2.05 0 2.83L4 21.41c.39.39.9.59 1.41.59.51 0 1.02-.2 1.41-.59l7.78-7.78 2.81-2.81c.8-.78.8-2.07 0-2.86zM5.41 20L4 18.59l7.72-7.72 1.47 1.35L5.41 20z\"/>\n",
              "  </svg>\n",
              "      </button>\n",
              "      \n",
              "  <style>\n",
              "    .colab-df-container {\n",
              "      display:flex;\n",
              "      flex-wrap:wrap;\n",
              "      gap: 12px;\n",
              "    }\n",
              "\n",
              "    .colab-df-convert {\n",
              "      background-color: #E8F0FE;\n",
              "      border: none;\n",
              "      border-radius: 50%;\n",
              "      cursor: pointer;\n",
              "      display: none;\n",
              "      fill: #1967D2;\n",
              "      height: 32px;\n",
              "      padding: 0 0 0 0;\n",
              "      width: 32px;\n",
              "    }\n",
              "\n",
              "    .colab-df-convert:hover {\n",
              "      background-color: #E2EBFA;\n",
              "      box-shadow: 0px 1px 2px rgba(60, 64, 67, 0.3), 0px 1px 3px 1px rgba(60, 64, 67, 0.15);\n",
              "      fill: #174EA6;\n",
              "    }\n",
              "\n",
              "    [theme=dark] .colab-df-convert {\n",
              "      background-color: #3B4455;\n",
              "      fill: #D2E3FC;\n",
              "    }\n",
              "\n",
              "    [theme=dark] .colab-df-convert:hover {\n",
              "      background-color: #434B5C;\n",
              "      box-shadow: 0px 1px 3px 1px rgba(0, 0, 0, 0.15);\n",
              "      filter: drop-shadow(0px 1px 2px rgba(0, 0, 0, 0.3));\n",
              "      fill: #FFFFFF;\n",
              "    }\n",
              "  </style>\n",
              "\n",
              "      <script>\n",
              "        const buttonEl =\n",
              "          document.querySelector('#df-b429b61c-7ae9-4b9f-ae69-238c29fb1a12 button.colab-df-convert');\n",
              "        buttonEl.style.display =\n",
              "          google.colab.kernel.accessAllowed ? 'block' : 'none';\n",
              "\n",
              "        async function convertToInteractive(key) {\n",
              "          const element = document.querySelector('#df-b429b61c-7ae9-4b9f-ae69-238c29fb1a12');\n",
              "          const dataTable =\n",
              "            await google.colab.kernel.invokeFunction('convertToInteractive',\n",
              "                                                     [key], {});\n",
              "          if (!dataTable) return;\n",
              "\n",
              "          const docLinkHtml = 'Like what you see? Visit the ' +\n",
              "            '<a target=\"_blank\" href=https://colab.research.google.com/notebooks/data_table.ipynb>data table notebook</a>'\n",
              "            + ' to learn more about interactive tables.';\n",
              "          element.innerHTML = '';\n",
              "          dataTable['output_type'] = 'display_data';\n",
              "          await google.colab.output.renderOutput(dataTable, element);\n",
              "          const docLink = document.createElement('div');\n",
              "          docLink.innerHTML = docLinkHtml;\n",
              "          element.appendChild(docLink);\n",
              "        }\n",
              "      </script>\n",
              "    </div>\n",
              "  </div>\n",
              "  "
            ]
          },
          "metadata": {},
          "execution_count": 17
        }
      ],
      "source": [
        "X_test_transformed = Standard_X.transform(X_test)\n",
        "X_test = pd.DataFrame(X_test_transformed, columns=X_raw.columns,index=X_test.index)\n",
        "X_test.head()"
      ]
    },
    {
      "cell_type": "markdown",
      "metadata": {
        "id": "AWQFEZW0LvTK"
      },
      "source": [
        "### Utility Functions"
      ]
    },
    {
      "cell_type": "code",
      "execution_count": null,
      "metadata": {
        "id": "BQBMgpKNi3Cd"
      },
      "outputs": [],
      "source": [
        "import matplotlib.pyplot as plt\n",
        "%matplotlib inline\n",
        "def plot_roc_curve(fpr, tpr, label=None):\n",
        "    plt.plot(fpr, tpr, linewidth=2, label=label)\n",
        "    plt.plot([0, 1], [0, 1], 'k--')\n",
        "    plt.axis([0, 1, 0, 1])\n",
        "    plt.xlabel('False Positive Rate', fontsize=16)\n",
        "    plt.ylabel('True Positive Rate (Recall)', fontsize=16)"
      ]
    },
    {
      "cell_type": "code",
      "execution_count": null,
      "metadata": {
        "id": "e5WtHbKLm758"
      },
      "outputs": [],
      "source": [
        "from sklearn.metrics import accuracy_score\n",
        "import pandas as pd\n",
        "from sklearn.metrics import roc_auc_score\n",
        "from sklearn.metrics import precision_score\n",
        "from sklearn.metrics import recall_score\n",
        "from sklearn.metrics import roc_curve, f1_score\n",
        "from sklearn.metrics import classification_report, confusion_matrix\n",
        "\n",
        "column_names = [\"Accuracy\", \"ROC AUC\", \"Precision\", \"Recall\", \"f1_score\"]\n",
        "training_stats_df = pd.DataFrame(columns=column_names)\n",
        "test_stats_df = pd.DataFrame(columns=column_names)\n",
        "\n",
        "def calculate_model_stats(estimator, X_data, y_data, model_name, training):\n",
        "  global training_stats_df\n",
        "  global test_stats_df \n",
        "  y_pred = estimator.predict(X_data)\n",
        "\n",
        "  y_score = estimator.predict_proba(X_data)[:,1]      #this is the score\n",
        "  if training == False: #Plot ROC for test set only    \n",
        "    fpr, tpr, thresholds = roc_curve(y_data, y_score)\n",
        "    plt.figure(figsize=(8, 6))\n",
        "    plot_roc_curve(fpr, tpr)\n",
        "    plt.title('ROC Curve')\n",
        "    plt.grid(True)\n",
        "    plt.show()\n",
        "\n",
        "  accuracy = accuracy_score(y_data, y_pred)\n",
        "  #print(\"accuracy:\", accuracy)\n",
        "  roc_auc = roc_auc_score(y_data, y_score)\n",
        "  #print(\" ROC AUC Score: \", roc_auc)\n",
        "  precision = precision_score(y_data,y_pred)\n",
        "  #print(\" Precision score: \", precision )\n",
        "  recall = recall_score(y_data,y_pred)\n",
        "  #print (\"Recall score:\", recall)\n",
        "  f1 = f1_score(y_data,y_pred)\n",
        "  #print (\"Recall score:\", recall)\n",
        "  print('\\n confusion matrix')\n",
        "  print(confusion_matrix(y_data, y_pred))\n",
        "  print('\\n Classification report')\n",
        "  print(classification_report(y_data, y_pred))\n",
        "\n",
        "\n",
        "  if training == True:\n",
        "    df = pd.DataFrame([[accuracy, roc_auc, precision, recall, f1]], columns=column_names, index=[model_name])    \n",
        "    training_stats_df = training_stats_df.append(df)\n",
        "    #training_stats_df = training_stats_df.drop_duplicates()\n",
        "  else:\n",
        "    df = pd.DataFrame([[accuracy, roc_auc, precision, recall, f1]], columns=column_names, index=[model_name])    \n",
        "    test_stats_df = test_stats_df.append(df)\n",
        "   # test_stats_df = test_stats_df.drop_duplicates()\n",
        "\n"
      ]
    },
    {
      "cell_type": "code",
      "execution_count": null,
      "metadata": {
        "id": "aRl9nfaJu5Td"
      },
      "outputs": [],
      "source": [
        "from sklearn.model_selection import learning_curve\n",
        "\n",
        "def plot_learning_curve(estimator, X, y):\n",
        "  train_sizes, train_scores, test_scores, fit_times, _ = learning_curve(estimator,\n",
        "                                                                        X, y, cv=3,return_times=True)\n",
        "  #\n",
        "  # Calculate training and test mean and std\n",
        "  #\n",
        "  train_mean = np.mean(train_scores, axis=1)\n",
        "  train_std = np.std(train_scores, axis=1)\n",
        "  test_mean = np.mean(test_scores, axis=1)\n",
        "  test_std = np.std(test_scores, axis=1)\n",
        "  #\n",
        "  # Plot the learning curve\n",
        "  #\n",
        "  plt.plot(train_sizes, train_mean, color='blue', marker='o', markersize=5, label='Training Accuracy')\n",
        "  #plt.fill_between(train_sizes, train_mean + train_std, train_mean - train_std, alpha=0.15, color='blue')\n",
        "  plt.plot(train_sizes, test_mean, color='green', marker='+', markersize=5, linestyle='--', label='Validation Accuracy')\n",
        "  #plt.fill_between(train_sizes, test_mean + test_std, test_mean - test_std, alpha=0.15, color='green')\n",
        "  plt.title('Learning Curve')\n",
        "  plt.xlabel('Training Data Size')\n",
        "  plt.ylabel('Model accuracy')\n",
        "  plt.grid()\n",
        "  plt.legend(loc='upper right')\n",
        "  plt.show()"
      ]
    },
    {
      "cell_type": "markdown",
      "metadata": {
        "id": "mmwAwuneRABF"
      },
      "source": [
        "## Logistic Regression"
      ]
    },
    {
      "cell_type": "markdown",
      "metadata": {
        "id": "NlBxpApMgGcg"
      },
      "source": [
        "We start with logistic regression on the bankruptcy data. This is a binary classifier that predicts the probability of a class. Instead of outputting the prediction directly it outputs the logistic of the result. The logistic is a sigmoid function which takes values between 0 and 1.  The model is trained by optimizing parameters such that it predicts higher probabilities for positive instances and lower for negative instances."
      ]
    },
    {
      "cell_type": "markdown",
      "metadata": {
        "id": "4tJykqoygn2u"
      },
      "source": [
        "#### Training and hyperparameter tuning"
      ]
    },
    {
      "cell_type": "markdown",
      "metadata": {
        "id": "6kjEtrFZiIaA"
      },
      "source": [
        "From Sklearn documentation:\n",
        "For small datasets, ‘liblinear’ is a good choice, whereas ‘sag’ and ‘saga’ are faster for large ones;\n",
        "\n",
        "For multiclass problems, only ‘newton-cg’, ‘sag’, ‘saga’ and ‘lbfgs’ handle multinomial loss;\n",
        "\n",
        "‘liblinear’ is limited to one-versus-rest schemes.\n",
        "\n"
      ]
    },
    {
      "cell_type": "code",
      "execution_count": null,
      "metadata": {
        "colab": {
          "base_uri": "https://localhost:8080/"
        },
        "id": "ft1mIX9ngMFa",
        "outputId": "35c8bd78-e425-42e1-c21d-23c2ce45e8ee"
      },
      "outputs": [
        {
          "output_type": "stream",
          "name": "stdout",
          "text": [
            "best params are:  {'C': 18.44347898661638, 'penalty': 'l2', 'solver': 'liblinear'}\n",
            "best estimator: LogisticRegression(C=18.44347898661638, random_state=42, solver='liblinear')\n"
          ]
        }
      ],
      "source": [
        "from sklearn.linear_model import LogisticRegression\n",
        "from sklearn.model_selection import RandomizedSearchCV\n",
        "from scipy.stats import reciprocal, uniform\n",
        "\n",
        "log_reg = LogisticRegression(random_state=42)\n",
        "params = {\"C\": uniform(0.1, 100), \"solver\":['liblinear'], \n",
        "          'penalty':['l1','l2']}\n",
        "rnd_search_log_reg = RandomizedSearchCV(log_reg, params, n_jobs=-1, cv=3, scoring=\"accuracy\", n_iter=10, random_state=42)\n",
        "rnd_search_log_reg.fit(X,y)\n",
        "print(\"best params are: \", rnd_search_log_reg.best_params_)\n",
        "print(\"best estimator:\", rnd_search_log_reg.best_estimator_)\n"
      ]
    },
    {
      "cell_type": "markdown",
      "metadata": {
        "id": "Q5ZmfRQ5n1yA"
      },
      "source": [
        "#### Evaluation over training set"
      ]
    },
    {
      "cell_type": "code",
      "execution_count": null,
      "metadata": {
        "colab": {
          "base_uri": "https://localhost:8080/"
        },
        "id": "DFWQVRa5n4Op",
        "outputId": "7d9f5756-2201-4181-af7c-592340c57f80"
      },
      "outputs": [
        {
          "output_type": "stream",
          "name": "stdout",
          "text": [
            "***Performance stats for logistic regression over training data***\n",
            "\n",
            " confusion matrix\n",
            "[[5262   17]\n",
            " [ 141   35]]\n",
            "\n",
            " Classification report\n",
            "              precision    recall  f1-score   support\n",
            "\n",
            "           0       0.97      1.00      0.99      5279\n",
            "           1       0.67      0.20      0.31       176\n",
            "\n",
            "    accuracy                           0.97      5455\n",
            "   macro avg       0.82      0.60      0.65      5455\n",
            "weighted avg       0.96      0.97      0.96      5455\n",
            "\n"
          ]
        }
      ],
      "source": [
        "print(\"***Performance stats for logistic regression over training data***\")\n",
        "calculate_model_stats(rnd_search_log_reg.best_estimator_, X,y, \"log reg\", True)"
      ]
    },
    {
      "cell_type": "markdown",
      "metadata": {
        "id": "LNBBQzauwhfu"
      },
      "source": [
        "#### Evaluation over test set"
      ]
    },
    {
      "cell_type": "code",
      "execution_count": null,
      "metadata": {
        "colab": {
          "base_uri": "https://localhost:8080/",
          "height": 687
        },
        "id": "yww5Bzszwqt5",
        "outputId": "14039e21-ad0b-42de-eadc-1e9aa2ee920e"
      },
      "outputs": [
        {
          "output_type": "stream",
          "name": "stdout",
          "text": [
            "***Performance stats for logistic regression over test data***\n"
          ]
        },
        {
          "output_type": "display_data",
          "data": {
            "text/plain": [
              "<Figure size 576x432 with 1 Axes>"
            ],
            "image/png": "[encoded data removed]"
          },
          "metadata": {
            "needs_background": "light"
          }
        },
        {
          "output_type": "stream",
          "name": "stdout",
          "text": [
            "\n",
            " confusion matrix\n",
            "[[1312    8]\n",
            " [  37    7]]\n",
            "\n",
            " Classification report\n",
            "              precision    recall  f1-score   support\n",
            "\n",
            "           0       0.97      0.99      0.98      1320\n",
            "           1       0.47      0.16      0.24        44\n",
            "\n",
            "    accuracy                           0.97      1364\n",
            "   macro avg       0.72      0.58      0.61      1364\n",
            "weighted avg       0.96      0.97      0.96      1364\n",
            "\n"
          ]
        }
      ],
      "source": [
        "print(\"***Performance stats for logistic regression over test data***\")\n",
        "calculate_model_stats(rnd_search_log_reg.best_estimator_, X_test, y_test,\"log reg\", False)"
      ]
    },
    {
      "cell_type": "markdown",
      "metadata": {
        "id": "lOEb4SXMrxkU"
      },
      "source": [
        "#### Learning Curves"
      ]
    },
    {
      "cell_type": "markdown",
      "metadata": {
        "id": "6bPCWaygtS64"
      },
      "source": [
        "We plot learning curves using the best model on the training set, with a cross-validation of 3"
      ]
    },
    {
      "cell_type": "code",
      "execution_count": null,
      "metadata": {
        "colab": {
          "base_uri": "https://localhost:8080/",
          "height": 295
        },
        "id": "DvMqZ-Nrr1AA",
        "outputId": "063d5e2b-af47-483e-bcc9-8976c341892b"
      },
      "outputs": [
        {
          "data": {
            "image/png": "[encoded data removed]",
            "text/plain": [
              "<Figure size 432x288 with 1 Axes>"
            ]
          },
          "metadata": {
            "needs_background": "light"
          },
          "output_type": "display_data"
        }
      ],
      "source": [
        "plot_learning_curve(rnd_search_log_reg.best_estimator_, X,y)"
      ]
    },
    {
      "cell_type": "markdown",
      "metadata": {
        "id": "PTtr2a44tF1f"
      },
      "source": [
        "There is some overfitting at lower data sizes because there is a  gap between curves. But it gets gradually better as the number of instances increase and the gap reduces."
      ]
    },
    {
      "cell_type": "markdown",
      "metadata": {
        "id": "JR2fOREgrxgy"
      },
      "source": [
        ""
      ]
    },
    {
      "cell_type": "markdown",
      "metadata": {
        "id": "R19EBBFZEsL6"
      },
      "source": [
        "## Support Vector Machines"
      ]
    },
    {
      "cell_type": "markdown",
      "metadata": {
        "id": "eSEUbLMhE2a4"
      },
      "source": [
        "SVMs are used as classifiers to separate the classes with the widest possible \"street\" as possible. It tries to minimize the number of margin violations. \n",
        "\n",
        "This section trains a SVM classifier on the training data.  The best hyperparameters are searched using CV=3."
      ]
    },
    {
      "cell_type": "markdown",
      "metadata": {
        "id": "yCq8de9_SnCH"
      },
      "source": [
        "#### Training and hyperparameter tuning"
      ]
    },
    {
      "cell_type": "code",
      "execution_count": null,
      "metadata": {
        "colab": {
          "base_uri": "https://localhost:8080/"
        },
        "id": "y7ZC_Z3CRUAN",
        "outputId": "47fc4bba-408f-4f91-b129-64faa370f708"
      },
      "outputs": [
        {
          "output_type": "stream",
          "name": "stdout",
          "text": [
            "best params are:  {'C': 61.848150962771655, 'gamma': 1.14357802784334, 'kernel': 'rbf'}\n",
            "best estimator is: SVC(C=61.848150962771655, class_weight='balanced', gamma=1.14357802784334,\n",
            "    probability=True, random_state=42)\n"
          ]
        }
      ],
      "source": [
        "from sklearn.svm import SVC\n",
        "from sklearn.model_selection import RandomizedSearchCV\n",
        "from scipy.stats import reciprocal, uniform\n",
        "\n",
        "params = {\"C\": uniform(0.1, 100), \"kernel\" : [\"rbf\", \"linear\", \"sigmoid\"], \"gamma\": reciprocal(0.001, 100)}\n",
        "clf = SVC(random_state=42, probability=True, class_weight='balanced')\n",
        "rnd_search_svm = RandomizedSearchCV(clf, params, n_jobs=-1, cv=3, scoring=\"accuracy\", n_iter=10, random_state=42)\n",
        "rnd_search_svm.fit(X,y)\n",
        "print(\"best params are: \", rnd_search_svm.best_params_)\n",
        "print(\"best estimator is:\", rnd_search_svm.best_estimator_)\n",
        "\n"
      ]
    },
    {
      "cell_type": "markdown",
      "metadata": {
        "id": "yb6jvQ3TSzIL"
      },
      "source": [
        "#### Evaluation over training set"
      ]
    },
    {
      "cell_type": "code",
      "execution_count": null,
      "metadata": {
        "colab": {
          "base_uri": "https://localhost:8080/"
        },
        "id": "0Zu_5qErPyWm",
        "outputId": "aad59517-ab8a-4c50-bbae-fab9f7702ca4"
      },
      "outputs": [
        {
          "output_type": "stream",
          "name": "stdout",
          "text": [
            "***Performance stats for SVM over training data***\n",
            "\n",
            " confusion matrix\n",
            "[[5269   10]\n",
            " [   0  176]]\n",
            "\n",
            " Classification report\n",
            "              precision    recall  f1-score   support\n",
            "\n",
            "           0       1.00      1.00      1.00      5279\n",
            "           1       0.95      1.00      0.97       176\n",
            "\n",
            "    accuracy                           1.00      5455\n",
            "   macro avg       0.97      1.00      0.99      5455\n",
            "weighted avg       1.00      1.00      1.00      5455\n",
            "\n"
          ]
        }
      ],
      "source": [
        "print(\"***Performance stats for SVM over training data***\")\n",
        "calculate_model_stats(rnd_search_svm.best_estimator_, X,y, \"svm\", True)\n"
      ]
    },
    {
      "cell_type": "markdown",
      "metadata": {
        "id": "ouUtQ1ujZ_-b"
      },
      "source": [
        "The recall score is perfect on the training set and the precision is also high. ROC AUC and accuracy are ver high as well on the training set."
      ]
    },
    {
      "cell_type": "markdown",
      "metadata": {
        "id": "HLjNldq4S41e"
      },
      "source": [
        "#### Evaluation over test set"
      ]
    },
    {
      "cell_type": "markdown",
      "metadata": {
        "id": "SpufKVdPgAwx"
      },
      "source": [
        "Next step is to evaluate the performance of the best SVM classifer on the test dataset. \n"
      ]
    },
    {
      "cell_type": "code",
      "execution_count": null,
      "metadata": {
        "colab": {
          "base_uri": "https://localhost:8080/",
          "height": 687
        },
        "id": "s-DBv0F8gRd0",
        "outputId": "96631673-d07e-4d2c-ef4f-cee698bb6d2f"
      },
      "outputs": [
        {
          "output_type": "stream",
          "name": "stdout",
          "text": [
            "***Performance stats for SVM over test data***\n"
          ]
        },
        {
          "output_type": "display_data",
          "data": {
            "text/plain": [
              "<Figure size 576x432 with 1 Axes>"
            ],
            "image/png": "[encoded data removed]"
          },
          "metadata": {
            "needs_background": "light"
          }
        },
        {
          "output_type": "stream",
          "name": "stdout",
          "text": [
            "\n",
            " confusion matrix\n",
            "[[1286   34]\n",
            " [  31   13]]\n",
            "\n",
            " Classification report\n",
            "              precision    recall  f1-score   support\n",
            "\n",
            "           0       0.98      0.97      0.98      1320\n",
            "           1       0.28      0.30      0.29        44\n",
            "\n",
            "    accuracy                           0.95      1364\n",
            "   macro avg       0.63      0.63      0.63      1364\n",
            "weighted avg       0.95      0.95      0.95      1364\n",
            "\n"
          ]
        }
      ],
      "source": [
        "print(\"***Performance stats for SVM over test data***\")\n",
        "calculate_model_stats(rnd_search_svm.best_estimator_, X_test, y_test, \"svm\", False)"
      ]
    },
    {
      "cell_type": "markdown",
      "metadata": {
        "id": "ZhjFI4tJaNcU"
      },
      "source": [
        "Precision and recall are lower than the training set. Acuuracy drops over the test set so does the ROC AUC but both are still reasonably high."
      ]
    },
    {
      "cell_type": "markdown",
      "metadata": {
        "id": "Cf_qNm2-volV"
      },
      "source": [
        "#### Learning Curves"
      ]
    },
    {
      "cell_type": "markdown",
      "metadata": {
        "id": "_C92FTqcvy5l"
      },
      "source": [
        "Learning curves are plotted on training set using cv=3."
      ]
    },
    {
      "cell_type": "code",
      "execution_count": null,
      "metadata": {
        "colab": {
          "base_uri": "https://localhost:8080/",
          "height": 295
        },
        "id": "tRjy1PnSvrNk",
        "outputId": "3c70cf8e-db8b-4d39-dc76-9040b85a636e"
      },
      "outputs": [
        {
          "data": {
            "image/png": "[encoded data removed]",
            "text/plain": [
              "<Figure size 432x288 with 1 Axes>"
            ]
          },
          "metadata": {
            "needs_background": "light"
          },
          "output_type": "display_data"
        }
      ],
      "source": [
        "plot_learning_curve(rnd_search_svm.best_estimator_, X,y)"
      ]
    },
    {
      "cell_type": "markdown",
      "metadata": {
        "id": "zNq8X3GXwR4m"
      },
      "source": [
        "The curves show overfitting on the training set but a lesser accuracy on the validation set. The curves do not get closer when the training data size increases indicating that adding instances does not help reduce overfitting.   The accuracies are close to each other so the overfitting is not much."
      ]
    },
    {
      "cell_type": "markdown",
      "metadata": {
        "id": "JG2sOQfsC240"
      },
      "source": [
        "##PCA"
      ]
    },
    {
      "cell_type": "code",
      "execution_count": null,
      "metadata": {
        "colab": {
          "base_uri": "https://localhost:8080/"
        },
        "id": "bl7R93tIC9Ts",
        "outputId": "48c2ac1b-47c8-4c2f-d455-67d612e19405"
      },
      "outputs": [
        {
          "output_type": "execute_result",
          "data": {
            "text/plain": [
              "0.0004940635018922932"
            ]
          },
          "metadata": {},
          "execution_count": 31
        }
      ],
      "source": [
        "from sklearn.decomposition import PCA\n",
        "from sklearn.metrics import mean_squared_error\n",
        "\n",
        "pca = PCA(n_components=0.95)\n",
        "X_reduced_pca=pca.fit_transform(X)\n",
        "X_recoverd_pca = pca.inverse_transform(X_reduced_pca)\n",
        "mean_squared_error(X, X_recoverd_pca)"
      ]
    },
    {
      "cell_type": "code",
      "execution_count": null,
      "metadata": {
        "colab": {
          "base_uri": "https://localhost:8080/"
        },
        "id": "8e6wZeVzEBKC",
        "outputId": "6e355813-dc42-4e4b-ec1e-0e5a66dc6fc0"
      },
      "outputs": [
        {
          "output_type": "execute_result",
          "data": {
            "text/plain": [
              "array([0.16875855, 0.14554589, 0.10771396, 0.0871236 , 0.08584253,\n",
              "       0.07774439, 0.06455178, 0.04941605, 0.04828937, 0.03704018,\n",
              "       0.02501054, 0.01816285, 0.01288172, 0.01181515, 0.0078574 ,\n",
              "       0.00651295])"
            ]
          },
          "metadata": {},
          "execution_count": 32
        }
      ],
      "source": [
        "pca.explained_variance_ratio_"
      ]
    },
    {
      "cell_type": "code",
      "execution_count": null,
      "metadata": {
        "colab": {
          "base_uri": "https://localhost:8080/"
        },
        "id": "N2SYs3BuFQ0y",
        "outputId": "f4d95021-6320-45b2-9c23-30ad13ed3b08"
      },
      "outputs": [
        {
          "output_type": "execute_result",
          "data": {
            "text/plain": [
              "16"
            ]
          },
          "metadata": {},
          "execution_count": 33
        }
      ],
      "source": [
        "pca.n_components_"
      ]
    },
    {
      "cell_type": "markdown",
      "metadata": {
        "id": "zuj-wA6vafbK"
      },
      "source": [
        "16 components are able to cover 95% of the variance."
      ]
    },
    {
      "cell_type": "markdown",
      "metadata": {
        "id": "xo_qEFWNHR83"
      },
      "source": [
        "## Support Vector Machines with PCA"
      ]
    },
    {
      "cell_type": "markdown",
      "metadata": {
        "id": "0zJys2TeHXLB"
      },
      "source": [
        "PCA performs feature selection on the input dataset. PCA projects the high dimensional data onto an axis such that largest amount of  variance is accounted for. It then identifies another axis orthogonal to the first one which accounts for the second largest amount of variance and so on. Our dataset has 95 attributes, so we explore if we can get similar model performance with lesser number of dimensions. \n",
        "\n",
        "PCA is  performed on the input dataset with an explained variance ratio of 95%."
      ]
    },
    {
      "cell_type": "markdown",
      "metadata": {
        "id": "m90OPyJiTCGW"
      },
      "source": [
        "#### Training and hyperparameter tuning"
      ]
    },
    {
      "cell_type": "code",
      "execution_count": null,
      "metadata": {
        "colab": {
          "base_uri": "https://localhost:8080/"
        },
        "id": "mTRoMxKHHpyY",
        "outputId": "83f480ff-5586-484d-df0c-97b1fd271f01"
      },
      "outputs": [
        {
          "output_type": "stream",
          "name": "stdout",
          "text": [
            "best estimator is:  SVC(C=61.848150962771655, class_weight='balanced', gamma=1.14357802784334,\n",
            "    probability=True, random_state=42)\n",
            "best params are:  {'C': 61.848150962771655, 'gamma': 1.14357802784334, 'kernel': 'rbf'}\n"
          ]
        }
      ],
      "source": [
        "from sklearn.svm import SVC\n",
        "from sklearn.model_selection import RandomizedSearchCV\n",
        "from scipy.stats import reciprocal, uniform\n",
        "\n",
        "params = {\"C\": uniform(0.1, 100), \"kernel\" : [\"rbf\", \"linear\", \"sigmoid\"], \"gamma\": reciprocal(0.001, 100)}\n",
        "clf = SVC(random_state=42, probability=True ,class_weight=\"balanced\")\n",
        "rnd_search_svm_pca = RandomizedSearchCV(clf, params, n_jobs=-1, cv=3, scoring=\"accuracy\", n_iter=10, random_state=42)\n",
        "rnd_search_svm_pca.fit(X_reduced_pca,y)\n",
        "print(\"best estimator is: \", rnd_search_svm_pca.best_estimator_)\n",
        "print(\"best params are: \", rnd_search_svm_pca.best_params_)"
      ]
    },
    {
      "cell_type": "markdown",
      "metadata": {
        "id": "-bdHF-9UTHgB"
      },
      "source": [
        "#### Evaluation over training set"
      ]
    },
    {
      "cell_type": "code",
      "execution_count": null,
      "metadata": {
        "colab": {
          "base_uri": "https://localhost:8080/"
        },
        "id": "9rzGu2j4X9FC",
        "outputId": "84cce407-a283-4cb9-81cb-9285e1129163"
      },
      "outputs": [
        {
          "output_type": "stream",
          "name": "stdout",
          "text": [
            "***Performance stats for SVM (with pca) over training data***\n",
            "\n",
            " confusion matrix\n",
            "[[5237   42]\n",
            " [   0  176]]\n",
            "\n",
            " Classification report\n",
            "              precision    recall  f1-score   support\n",
            "\n",
            "           0       1.00      0.99      1.00      5279\n",
            "           1       0.81      1.00      0.89       176\n",
            "\n",
            "    accuracy                           0.99      5455\n",
            "   macro avg       0.90      1.00      0.94      5455\n",
            "weighted avg       0.99      0.99      0.99      5455\n",
            "\n"
          ]
        }
      ],
      "source": [
        "print(\"***Performance stats for SVM (with pca) over training data***\")\n",
        "calculate_model_stats(rnd_search_svm_pca.best_estimator_,X_reduced_pca,y, \"svm (with pca)\", True)"
      ]
    },
    {
      "cell_type": "markdown",
      "metadata": {
        "id": "6o-Uvft9b3SF"
      },
      "source": [
        "The numbers using PCA are pretty similar to what we saw for SVM without PCA over training data. Precision drops slightly but for this problem recall is more important. This means focussing on PCs does not reduce model performance over training data.\n"
      ]
    },
    {
      "cell_type": "markdown",
      "metadata": {
        "id": "eTQxEQDTTMC0"
      },
      "source": [
        "#### Evaluation over test set"
      ]
    },
    {
      "cell_type": "markdown",
      "metadata": {
        "id": "42uZiUdIeRjC"
      },
      "source": [
        "Next step is to evaluate the performance of the best SVM classifer on the test dataset. \n",
        "Note that pca is not recalculated and fit over the test set. The already fit pca over the training set is used to perform a transform over the testset. This avoids data leaking (as the combined dataset isn't fitted with pca) and it also avoids introducing errors by fitting on train/test separately as the resulting components may have different directions in that case.\n"
      ]
    },
    {
      "cell_type": "code",
      "execution_count": null,
      "metadata": {
        "colab": {
          "base_uri": "https://localhost:8080/",
          "height": 687
        },
        "id": "qKtBacSRZOez",
        "outputId": "41831b3b-6110-41ea-dbef-f0bf48257f0e"
      },
      "outputs": [
        {
          "output_type": "stream",
          "name": "stdout",
          "text": [
            "***Performance stats for SVM (with pca) over test data***\n"
          ]
        },
        {
          "output_type": "display_data",
          "data": {
            "text/plain": [
              "<Figure size 576x432 with 1 Axes>"
            ],
            "image/png": "[encoded data removed]"
          },
          "metadata": {
            "needs_background": "light"
          }
        },
        {
          "output_type": "stream",
          "name": "stdout",
          "text": [
            "\n",
            " confusion matrix\n",
            "[[1287   33]\n",
            " [  26   18]]\n",
            "\n",
            " Classification report\n",
            "              precision    recall  f1-score   support\n",
            "\n",
            "           0       0.98      0.97      0.98      1320\n",
            "           1       0.35      0.41      0.38        44\n",
            "\n",
            "    accuracy                           0.96      1364\n",
            "   macro avg       0.67      0.69      0.68      1364\n",
            "weighted avg       0.96      0.96      0.96      1364\n",
            "\n"
          ]
        }
      ],
      "source": [
        "X_test_reduced = pca.transform(X_test)\n",
        "\n",
        "print(\"***Performance stats for SVM (with pca) over test data***\")\n",
        "calculate_model_stats(rnd_search_svm_pca.best_estimator_,X_test_reduced,y_test, \"svm (with pca)\", False)"
      ]
    },
    {
      "cell_type": "markdown",
      "metadata": {
        "id": "pk4CNBs3cAXB"
      },
      "source": [
        "The numbers using PCA are slightly better to what we saw for SVM without PCA over test data. This means that PCA is helping improve performance of our SVM classifier over test data.\n"
      ]
    },
    {
      "cell_type": "markdown",
      "metadata": {
        "id": "1WACsf9OwrnR"
      },
      "source": [
        "#### Learning Curves"
      ]
    },
    {
      "cell_type": "markdown",
      "metadata": {
        "id": "fXL--e9EwuAI"
      },
      "source": [
        "Learning curves are plotted on training dataset with cv=3."
      ]
    },
    {
      "cell_type": "code",
      "execution_count": null,
      "metadata": {
        "colab": {
          "base_uri": "https://localhost:8080/",
          "height": 295
        },
        "id": "s1VMO-7DwzTY",
        "outputId": "083a0098-fea1-480d-db79-d40803ca5745"
      },
      "outputs": [
        {
          "data": {
            "image/png": "[encoded data removed]",
            "text/plain": [
              "<Figure size 432x288 with 1 Axes>"
            ]
          },
          "metadata": {
            "needs_background": "light"
          },
          "output_type": "display_data"
        }
      ],
      "source": [
        "plot_learning_curve(rnd_search_svm_pca.best_estimator_, X,y)"
      ]
    },
    {
      "cell_type": "markdown",
      "metadata": {
        "id": "GBtvJM6fxG6w"
      },
      "source": [
        "This is pretty much similar to SVMs without PCA. The accuracy on validation set does not improve much by adding more instances of training data. The model is slightly overfitting overall due to the gap between curves which does not reduce with increasing training data size."
      ]
    },
    {
      "cell_type": "markdown",
      "metadata": {
        "id": "I0RbhR2Pgid_"
      },
      "source": [
        "## Random Forest Classifier\n",
        "\n",
        "Random Forest is based on Bagging. Bagging stands for boostrap aggregation. Bagging samples the given training set with replacement and trains individual models. The final ensemble model's output is based on majority voting. Random Forest randomly selects a set of training instances (with replacement) and trains a decision tree. \n",
        "\n",
        "RandomForestClassifier is tuned using GridSearchCv over n_estimators=[500, 750, 100], max_leaf_nodes = [16,32, 64] over cv=10. "
      ]
    },
    {
      "cell_type": "markdown",
      "metadata": {
        "id": "tqtkqXxsTx0_"
      },
      "source": [
        "#### Training and hyperparameter tuning"
      ]
    },
    {
      "cell_type": "code",
      "execution_count": null,
      "metadata": {
        "colab": {
          "base_uri": "https://localhost:8080/"
        },
        "id": "4G8OugrjluKw",
        "outputId": "92c07148-d36b-4c7d-d820-de192c1807b9"
      },
      "outputs": [
        {
          "output_type": "stream",
          "name": "stdout",
          "text": [
            "best params from grid search for random forest classifier are:  {'class_weight': 'balanced', 'max_leaf_nodes': 64, 'n_estimators': 500}\n",
            "Best estimator is: RandomForestClassifier(class_weight='balanced', max_leaf_nodes=64,\n",
            "                       n_estimators=500, n_jobs=-1, random_state=42)\n"
          ]
        }
      ],
      "source": [
        "from sklearn.ensemble import RandomForestClassifier\n",
        "from sklearn.model_selection import GridSearchCV\n",
        "\n",
        "rndforest_clf = RandomForestClassifier(random_state=42, n_jobs=-1)\n",
        "params = {\"n_estimators\": [500, 750, 1000], \"max_leaf_nodes\" : [16, 32, 64], \"class_weight\":[\"balanced\"]}\n",
        "grid_search_rnd_clf = GridSearchCV(rndforest_clf, params, n_jobs=-1, cv=3, scoring=\"accuracy\")\n",
        "grid_search_rnd_clf.fit(X,y)\n",
        "print(\"best params from grid search for random forest classifier are: \", grid_search_rnd_clf.best_params_)\n",
        "print(\"Best estimator is:\", grid_search_rnd_clf.best_estimator_)\n"
      ]
    },
    {
      "cell_type": "markdown",
      "metadata": {
        "id": "lbZ0hNVVT2re"
      },
      "source": [
        "#### Evaluation over training set"
      ]
    },
    {
      "cell_type": "code",
      "execution_count": null,
      "metadata": {
        "colab": {
          "base_uri": "https://localhost:8080/"
        },
        "id": "tSIVcscmo2I_",
        "outputId": "0d546939-adcf-47cf-de00-428ad78c5937"
      },
      "outputs": [
        {
          "output_type": "stream",
          "name": "stdout",
          "text": [
            "***Performance stats for RandomForestClassifier over training data***\n",
            "\n",
            " confusion matrix\n",
            "[[5186   93]\n",
            " [   1  175]]\n",
            "\n",
            " Classification report\n",
            "              precision    recall  f1-score   support\n",
            "\n",
            "           0       1.00      0.98      0.99      5279\n",
            "           1       0.65      0.99      0.79       176\n",
            "\n",
            "    accuracy                           0.98      5455\n",
            "   macro avg       0.83      0.99      0.89      5455\n",
            "weighted avg       0.99      0.98      0.98      5455\n",
            "\n"
          ]
        }
      ],
      "source": [
        "print(\"***Performance stats for RandomForestClassifier over training data***\")\n",
        "calculate_model_stats(grid_search_rnd_clf.best_estimator_,X,y, \"rnd_forest\", True)"
      ]
    },
    {
      "cell_type": "markdown",
      "metadata": {
        "id": "kRLeRRUDUBUn"
      },
      "source": [
        "#### Evaluation over test set"
      ]
    },
    {
      "cell_type": "code",
      "execution_count": null,
      "metadata": {
        "colab": {
          "base_uri": "https://localhost:8080/",
          "height": 687
        },
        "id": "ZR5VLYxM_u01",
        "outputId": "d14e6afa-467f-42e6-9b52-71c38a4a819f"
      },
      "outputs": [
        {
          "output_type": "stream",
          "name": "stdout",
          "text": [
            "***Performance stats for RandomForestClassifier over test data***\n"
          ]
        },
        {
          "output_type": "display_data",
          "data": {
            "text/plain": [
              "<Figure size 576x432 with 1 Axes>"
            ],
            "image/png": "[encoded data removed]"
          },
          "metadata": {
            "needs_background": "light"
          }
        },
        {
          "output_type": "stream",
          "name": "stdout",
          "text": [
            "\n",
            " confusion matrix\n",
            "[[1289   31]\n",
            " [  23   21]]\n",
            "\n",
            " Classification report\n",
            "              precision    recall  f1-score   support\n",
            "\n",
            "           0       0.98      0.98      0.98      1320\n",
            "           1       0.40      0.48      0.44        44\n",
            "\n",
            "    accuracy                           0.96      1364\n",
            "   macro avg       0.69      0.73      0.71      1364\n",
            "weighted avg       0.96      0.96      0.96      1364\n",
            "\n"
          ]
        }
      ],
      "source": [
        "print(\"***Performance stats for RandomForestClassifier over test data***\")\n",
        "calculate_model_stats(grid_search_rnd_clf.best_estimator_,X_test,y_test, \"rnd_forest\", False)"
      ]
    },
    {
      "cell_type": "markdown",
      "metadata": {
        "id": "Ouvm-VtbS12u"
      },
      "source": [
        "RandomForestClassifier gives much higher precision, ROC AUC score and accuracy as SVM and lower recall on test set compared to the SVM model."
      ]
    },
    {
      "cell_type": "markdown",
      "metadata": {
        "id": "GbIkb3hPxd7P"
      },
      "source": [
        "#### Learning Curves"
      ]
    },
    {
      "cell_type": "markdown",
      "metadata": {
        "id": "785fKcocxfpi"
      },
      "source": [
        "Learning curves are plotted on training dataset with cv=3."
      ]
    },
    {
      "cell_type": "code",
      "execution_count": null,
      "metadata": {
        "colab": {
          "base_uri": "https://localhost:8080/",
          "height": 295
        },
        "id": "TDaH7V70xv1T",
        "outputId": "460482dd-27c7-46fe-86a9-85671b312b0e"
      },
      "outputs": [
        {
          "data": {
            "image/png": "[encoded data removed]",
            "text/plain": [
              "<Figure size 432x288 with 1 Axes>"
            ]
          },
          "metadata": {
            "needs_background": "light"
          },
          "output_type": "display_data"
        }
      ],
      "source": [
        "plot_learning_curve(grid_search_rnd_clf.best_estimator_, X,y)"
      ]
    },
    {
      "cell_type": "markdown",
      "metadata": {
        "id": "xijfZDTo1hbp"
      },
      "source": [
        "Looks similar to SVMs. There is slightly overfitting because of the gap between the curves and it does not get any better with increasing training data size. Accuracies are close in value but there is still a gap so the overfitting is not that much."
      ]
    },
    {
      "cell_type": "markdown",
      "metadata": {
        "id": "T7ArFdZnQDxT"
      },
      "source": [
        "## AdaBoost Classifier"
      ]
    },
    {
      "cell_type": "markdown",
      "metadata": {
        "id": "D3bEWvCiQIUy"
      },
      "source": [
        "Next we train an AdaBoost Classifier on our data. Adaboost is an ensemble method. It starts with a base classifier e.g. DecisionTree. It then assigns higher weights to instances that were misclassified by the first model and uses these weights to train the next model and so on. The process continues till a low error is achieved. The last step is to build an ensemble from all these trained individual models. "
      ]
    },
    {
      "cell_type": "markdown",
      "metadata": {
        "id": "nNpKN1M7VQHJ"
      },
      "source": [
        "#### Training and hyperparameter tuning"
      ]
    },
    {
      "cell_type": "code",
      "execution_count": null,
      "metadata": {
        "colab": {
          "base_uri": "https://localhost:8080/"
        },
        "id": "PJ6Ra2eMQLtV",
        "outputId": "7359e4a3-1760-4eb7-8a06-f057b77a05c9"
      },
      "outputs": [
        {
          "output_type": "stream",
          "name": "stdout",
          "text": [
            "best estimator is:  AdaBoostClassifier(base_estimator=DecisionTreeClassifier(class_weight='balanced',\n",
            "                                                         max_depth=2,\n",
            "                                                         max_leaf_nodes=64),\n",
            "                   n_estimators=500, random_state=42)\n",
            "best params are:  {'base_estimator__criterion': 'gini', 'base_estimator__splitter': 'best', 'n_estimators': 500}\n"
          ]
        }
      ],
      "source": [
        "from sklearn.ensemble import AdaBoostClassifier\n",
        "from sklearn.tree import DecisionTreeClassifier\n",
        "from sklearn.model_selection import GridSearchCV\n",
        "\n",
        "ada_clf = AdaBoostClassifier(\n",
        "    DecisionTreeClassifier(max_depth=2, max_leaf_nodes = 64, class_weight=\"balanced\"), n_estimators=500,\n",
        "    algorithm=\"SAMME.R\", learning_rate=1.0, random_state = 42)\n",
        "\n",
        "params = {\"base_estimator__criterion\" : [\"gini\"],\n",
        "              \"base_estimator__splitter\" :   [\"best\", \"random\"],\n",
        "              \"n_estimators\": [500]          \n",
        "             }\n",
        "\n",
        "grid_search_adaboost = GridSearchCV(ada_clf, \n",
        "                              params, n_jobs=-1, cv=3)\n",
        "grid_search_adaboost.fit(X, y)\n",
        "print(\"best estimator is: \", grid_search_adaboost.best_estimator_)\n",
        "print(\"best params are: \", grid_search_adaboost.best_params_)"
      ]
    },
    {
      "cell_type": "markdown",
      "metadata": {
        "id": "Hlpa48XrWgR8"
      },
      "source": [
        "#### Evaluation over training set"
      ]
    },
    {
      "cell_type": "code",
      "execution_count": null,
      "metadata": {
        "colab": {
          "base_uri": "https://localhost:8080/"
        },
        "id": "cf49H5z-Wii6",
        "outputId": "3b052478-3d67-4eb1-851e-802666900b63"
      },
      "outputs": [
        {
          "output_type": "stream",
          "name": "stdout",
          "text": [
            "***Performance stats for AdaBoost Classifier over training data***\n",
            "\n",
            " confusion matrix\n",
            "[[5279    0]\n",
            " [   0  176]]\n",
            "\n",
            " Classification report\n",
            "              precision    recall  f1-score   support\n",
            "\n",
            "           0       1.00      1.00      1.00      5279\n",
            "           1       1.00      1.00      1.00       176\n",
            "\n",
            "    accuracy                           1.00      5455\n",
            "   macro avg       1.00      1.00      1.00      5455\n",
            "weighted avg       1.00      1.00      1.00      5455\n",
            "\n"
          ]
        }
      ],
      "source": [
        "print(\"***Performance stats for AdaBoost Classifier over training data***\")\n",
        "calculate_model_stats(grid_search_adaboost.best_estimator_,X,y, \"ada_boost\", True)"
      ]
    },
    {
      "cell_type": "markdown",
      "metadata": {
        "id": "8e3ZsN4NWx9b"
      },
      "source": [
        "AdaBoostClassifier gives perfect scores."
      ]
    },
    {
      "cell_type": "markdown",
      "metadata": {
        "id": "88zGMhQQWr2C"
      },
      "source": [
        "#### Evaluation over test set"
      ]
    },
    {
      "cell_type": "code",
      "execution_count": null,
      "metadata": {
        "colab": {
          "base_uri": "https://localhost:8080/",
          "height": 687
        },
        "id": "Ope2OcULWuen",
        "outputId": "577e3bc6-7a3a-42a9-f6ce-0b8407bf4182"
      },
      "outputs": [
        {
          "output_type": "stream",
          "name": "stdout",
          "text": [
            "***Performance stats for AdaBoost Classifier over test data***\n"
          ]
        },
        {
          "output_type": "display_data",
          "data": {
            "text/plain": [
              "<Figure size 576x432 with 1 Axes>"
            ],
            "image/png": "[encoded data removed]"
          },
          "metadata": {
            "needs_background": "light"
          }
        },
        {
          "output_type": "stream",
          "name": "stdout",
          "text": [
            "\n",
            " confusion matrix\n",
            "[[1305   15]\n",
            " [  28   16]]\n",
            "\n",
            " Classification report\n",
            "              precision    recall  f1-score   support\n",
            "\n",
            "           0       0.98      0.99      0.98      1320\n",
            "           1       0.52      0.36      0.43        44\n",
            "\n",
            "    accuracy                           0.97      1364\n",
            "   macro avg       0.75      0.68      0.71      1364\n",
            "weighted avg       0.96      0.97      0.97      1364\n",
            "\n"
          ]
        }
      ],
      "source": [
        "print(\"***Performance stats for AdaBoost Classifier over test data***\")\n",
        "calculate_model_stats(grid_search_adaboost.best_estimator_,X_test,y_test, \"ada_boost\", False)"
      ]
    },
    {
      "cell_type": "markdown",
      "metadata": {
        "id": "qThKitEIW3kx"
      },
      "source": [
        "Not so good over test data. AdaBoost was overfitting on the training data but accuracy and ROC AUC is still very high on test data."
      ]
    },
    {
      "cell_type": "markdown",
      "metadata": {
        "id": "-RLT3ROy10CF"
      },
      "source": [
        "#### Learning Curves"
      ]
    },
    {
      "cell_type": "markdown",
      "metadata": {
        "id": "9FrhUY8D12Jx"
      },
      "source": [
        "Learning curves are plotted on the training dataset using cv=3."
      ]
    },
    {
      "cell_type": "code",
      "execution_count": null,
      "metadata": {
        "colab": {
          "base_uri": "https://localhost:8080/",
          "height": 295
        },
        "id": "4kmNha1t2J2E",
        "outputId": "e7abd726-5c5c-4473-e56a-48b05cd6a311"
      },
      "outputs": [
        {
          "output_type": "display_data",
          "data": {
            "text/plain": [
              "<Figure size 432x288 with 1 Axes>"
            ],
            "image/png": "[encoded data removed]"
          },
          "metadata": {
            "needs_background": "light"
          }
        }
      ],
      "source": [
        "plot_learning_curve(grid_search_adaboost.best_estimator_, X,y)"
      ]
    },
    {
      "cell_type": "markdown",
      "metadata": {
        "id": "22PGGwSE5Oc5"
      },
      "source": [
        "There is gap between the curves and it does not reduce with adding training instances. The model is  overfitting as the accuracies are close but still there is a gap."
      ]
    },
    {
      "cell_type": "markdown",
      "metadata": {
        "id": "6yM-_NHCdkWP"
      },
      "source": [
        "## Gradient Boosting Classifier"
      ]
    },
    {
      "cell_type": "markdown",
      "metadata": {
        "id": "2ay4K25mdrsE"
      },
      "source": [
        "This is similar to the AdaBoost Classifier except that instead of tweaking weights at every step and training models, it trains models on the residual errors. \n",
        "\n",
        "Please note that there is currently no way to add class_weight forr GB classifier in SKlearn. GradientBoostingClassifier let's us assign weights to each observation using sample_weights parameter and not to classes."
      ]
    },
    {
      "cell_type": "markdown",
      "metadata": {
        "id": "wV-GRw7ud3se"
      },
      "source": [
        "#### Training and hyperparameter tuning"
      ]
    },
    {
      "cell_type": "code",
      "execution_count": null,
      "metadata": {
        "colab": {
          "base_uri": "https://localhost:8080/"
        },
        "id": "mOn9IDfPd_KM",
        "outputId": "a827498b-1e61-4689-f440-4e4a30dbe0af"
      },
      "outputs": [
        {
          "output_type": "stream",
          "name": "stdout",
          "text": [
            "best estimator is:  GradientBoostingClassifier(learning_rate=1.0, max_depth=2, max_leaf_nodes=32,\n",
            "                           n_estimators=250, random_state=42)\n",
            "best params are:  {'max_leaf_nodes': 32, 'n_estimators': 250}\n"
          ]
        }
      ],
      "source": [
        "from sklearn.ensemble import GradientBoostingClassifier\n",
        "\n",
        "grad_boost_clf = GradientBoostingClassifier(max_depth=2, learning_rate=1.0, random_state=42)\n",
        "\n",
        "params = {'max_leaf_nodes': [32,64], \n",
        "          \"n_estimators\": [250, 500, 750]}\n",
        "\n",
        "grid_search_gboost = GridSearchCV(grad_boost_clf, params, n_jobs=-1, cv=3)\n",
        "grid_search_gboost.fit(X, y)\n",
        "print(\"best estimator is: \", grid_search_gboost.best_estimator_)\n",
        "print(\"best params are: \", grid_search_gboost.best_params_)"
      ]
    },
    {
      "cell_type": "markdown",
      "metadata": {
        "id": "dshkrbT2fL8h"
      },
      "source": [
        "#### Evaluation over training set"
      ]
    },
    {
      "cell_type": "code",
      "execution_count": null,
      "metadata": {
        "colab": {
          "base_uri": "https://localhost:8080/"
        },
        "id": "uiNXbfX8fOl_",
        "outputId": "d71f9cd3-1a50-4b74-bdeb-9458eed5f13d"
      },
      "outputs": [
        {
          "output_type": "stream",
          "name": "stdout",
          "text": [
            "***Performance stats for Gradient Boosting Classifier over training data***\n",
            "\n",
            " confusion matrix\n",
            "[[5279    0]\n",
            " [   0  176]]\n",
            "\n",
            " Classification report\n",
            "              precision    recall  f1-score   support\n",
            "\n",
            "           0       1.00      1.00      1.00      5279\n",
            "           1       1.00      1.00      1.00       176\n",
            "\n",
            "    accuracy                           1.00      5455\n",
            "   macro avg       1.00      1.00      1.00      5455\n",
            "weighted avg       1.00      1.00      1.00      5455\n",
            "\n"
          ]
        }
      ],
      "source": [
        "print(\"***Performance stats for Gradient Boosting Classifier over training data***\")\n",
        "calculate_model_stats(grid_search_gboost.best_estimator_,X,y, \"grad_boost\", True)"
      ]
    },
    {
      "cell_type": "markdown",
      "metadata": {
        "id": "702_OG9XfSRf"
      },
      "source": [
        "#### Evaluation over test set"
      ]
    },
    {
      "cell_type": "code",
      "execution_count": null,
      "metadata": {
        "colab": {
          "base_uri": "https://localhost:8080/",
          "height": 687
        },
        "id": "OGREhvStfU-C",
        "outputId": "747ee6c8-6615-44a1-81a3-821af0f7e583"
      },
      "outputs": [
        {
          "output_type": "stream",
          "name": "stdout",
          "text": [
            "***Performance stats for Gradient Boosting Classifier over test data***\n"
          ]
        },
        {
          "output_type": "display_data",
          "data": {
            "text/plain": [
              "<Figure size 576x432 with 1 Axes>"
            ],
            "image/png": "[encoded data removed]"
          },
          "metadata": {
            "needs_background": "light"
          }
        },
        {
          "output_type": "stream",
          "name": "stdout",
          "text": [
            "\n",
            " confusion matrix\n",
            "[[1295   25]\n",
            " [  27   17]]\n",
            "\n",
            " Classification report\n",
            "              precision    recall  f1-score   support\n",
            "\n",
            "           0       0.98      0.98      0.98      1320\n",
            "           1       0.40      0.39      0.40        44\n",
            "\n",
            "    accuracy                           0.96      1364\n",
            "   macro avg       0.69      0.68      0.69      1364\n",
            "weighted avg       0.96      0.96      0.96      1364\n",
            "\n"
          ]
        }
      ],
      "source": [
        "print(\"***Performance stats for Gradient Boosting Classifier over test data***\")\n",
        "calculate_model_stats(grid_search_gboost.best_estimator_,X_test,y_test, \"grad_boost\", False)"
      ]
    },
    {
      "cell_type": "markdown",
      "metadata": {
        "id": "rbtv0AQZgyHn"
      },
      "source": [
        "Similar to AdaBoost, this gives perfect scores on training data. Accuracy and ROC AUC are high on test data but precision/recall fall. "
      ]
    },
    {
      "cell_type": "markdown",
      "metadata": {
        "id": "aQYmnpx83OUP"
      },
      "source": [
        "#### Learning Curves"
      ]
    },
    {
      "cell_type": "markdown",
      "metadata": {
        "id": "D85lL8R23QiN"
      },
      "source": [
        "Learning curves are plotted on training set using cv=3"
      ]
    },
    {
      "cell_type": "code",
      "execution_count": null,
      "metadata": {
        "colab": {
          "base_uri": "https://localhost:8080/",
          "height": 295
        },
        "id": "6a3OLbXX3VXR",
        "outputId": "13dfc404-83a8-49b0-f194-bfebf48c30b3"
      },
      "outputs": [
        {
          "data": {
            "image/png": "[encoded data removed]",
            "text/plain": [
              "<Figure size 432x288 with 1 Axes>"
            ]
          },
          "metadata": {
            "needs_background": "light"
          },
          "output_type": "display_data"
        }
      ],
      "source": [
        "plot_learning_curve(grid_search_gboost.best_estimator_, X,y)"
      ]
    },
    {
      "cell_type": "markdown",
      "metadata": {
        "id": "ZKRlwsa59iYW"
      },
      "source": [
        "This curves looks better than most of the models and is pretty similar to the learning curve seen for logistic regression. There is some overfitting initially but as the training data size increases the overfitting reduces. One difference between the curves for logistic regression and Gradient boosting are that the curves are moving closer to each other at large training data sizes which is not the case for gradient boosting where after around 2700 training instances the accuracy is dropping for both."
      ]
    },
    {
      "cell_type": "markdown",
      "metadata": {
        "id": "HmS6PczXDQlI"
      },
      "source": [
        "## Extra- trees Classifier"
      ]
    },
    {
      "cell_type": "code",
      "execution_count": null,
      "metadata": {
        "id": "PobmYA2TDQlI",
        "outputId": "0713e260-50e6-4300-fb03-f426eafcbffd"
      },
      "outputs": [
        {
          "name": "stdout",
          "output_type": "stream",
          "text": [
            "best params from grid search for extra-trees classifier are:  {'class_weight': 'balanced', 'max_leaf_nodes': 64, 'n_estimators': 500}\n",
            "Best estimator is: RandomForestClassifier(class_weight='balanced', max_leaf_nodes=64,\n",
            "                       n_estimators=500, n_jobs=-1, random_state=42)\n"
          ]
        }
      ],
      "source": [
        "from sklearn.ensemble import ExtraTreesClassifier\n",
        "\n",
        "extrtrees_clf = ExtraTreesClassifier(random_state=42, n_jobs=-1)\n",
        "params = {\"n_estimators\": [500, 750, 1000], \"max_leaf_nodes\" : [16, 32, 64], \"class_weight\":[\"balanced\"]}\n",
        "grid_search_extrtrees_clf = GridSearchCV(rndforest_clf, params, n_jobs=-1, cv=3, scoring=\"accuracy\")\n",
        "grid_search_extrtrees_clf.fit(X,y)\n",
        "print(\"best params from grid search for extra-trees classifier are: \", grid_search_extrtrees_clf.best_params_)\n",
        "print(\"Best estimator is:\", grid_search_extrtrees_clf.best_estimator_)\n"
      ]
    },
    {
      "cell_type": "code",
      "execution_count": null,
      "metadata": {
        "id": "T1srJi1gDQlI",
        "outputId": "f58d39de-ccf4-4af3-d5e1-970929a24b9b"
      },
      "outputs": [
        {
          "name": "stdout",
          "output_type": "stream",
          "text": [
            "***Performance stats for Extra-trees Classifier over training data***\n"
          ]
        },
        {
          "data": {
            "image/png": "[encoded data removed]",
            "text/plain": [
              "<Figure size 576x432 with 1 Axes>"
            ]
          },
          "metadata": {
            "needs_background": "light"
          },
          "output_type": "display_data"
        },
        {
          "name": "stdout",
          "output_type": "stream",
          "text": [
            "accuracy: 0.9827681026581119\n",
            " ROC AUC Score:  0.9959573955122354\n",
            " Precision score:  0.6529850746268657\n",
            "Recall score: 0.9943181818181818\n"
          ]
        }
      ],
      "source": [
        "print(\"***Performance stats for Extra-trees Classifier over training data***\")\n",
        "calculate_model_stats(grid_search_extrtrees_clf.best_estimator_,X,y, \"ext_trees\", True)"
      ]
    },
    {
      "cell_type": "code",
      "execution_count": null,
      "metadata": {
        "id": "nhr4RO9wDQlI",
        "outputId": "5a31556f-52a0-447e-d668-a2b7d5b39c84"
      },
      "outputs": [
        {
          "name": "stdout",
          "output_type": "stream",
          "text": [
            "***Performance stats for Extra-trees Classifier over test data***\n"
          ]
        },
        {
          "data": {
            "image/png": "[encoded data removed]",
            "text/plain": [
              "<Figure size 576x432 with 1 Axes>"
            ]
          },
          "metadata": {
            "needs_background": "light"
          },
          "output_type": "display_data"
        },
        {
          "name": "stdout",
          "output_type": "stream",
          "text": [
            "accuracy: 0.9604105571847508\n",
            " ROC AUC Score:  0.9413567493112948\n",
            " Precision score:  0.40384615384615385\n",
            "Recall score: 0.4772727272727273\n"
          ]
        }
      ],
      "source": [
        "print(\"***Performance stats for Extra-trees Classifier over test data***\")\n",
        "calculate_model_stats(grid_search_extrtrees_clf.best_estimator_,X_test,y_test, \"ext_trees\", True)"
      ]
    },
    {
      "cell_type": "code",
      "execution_count": null,
      "metadata": {
        "id": "NVtvURmADQlJ",
        "outputId": "1a3505fc-d3ee-4638-e4cf-103c2b6538a2"
      },
      "outputs": [
        {
          "data": {
            "image/png": "[encoded data removed]",
            "text/plain": [
              "<Figure size 432x288 with 1 Axes>"
            ]
          },
          "metadata": {
            "needs_background": "light"
          },
          "output_type": "display_data"
        }
      ],
      "source": [
        "plot_learning_curve(grid_search_extrtrees_clf.best_estimator_, X,y)"
      ]
    },
    {
      "cell_type": "markdown",
      "metadata": {
        "id": "ofXwpeBYDQlJ"
      },
      "source": [
        "## Bagging and Pasting Classifier"
      ]
    },
    {
      "cell_type": "code",
      "execution_count": null,
      "metadata": {
        "id": "qUXvF4m9DQlJ",
        "outputId": "ae4b2ec5-de39-43a1-b2fd-a071272e4653"
      },
      "outputs": [
        {
          "name": "stdout",
          "output_type": "stream",
          "text": [
            "Fitting 3 folds for each of 6 candidates, totalling 18 fits\n"
          ]
        }
      ],
      "source": [
        "from sklearn.ensemble import BaggingClassifier\n",
        "from sklearn.tree import DecisionTreeClassifier\n",
        "\n",
        "bc_params = { 'bootstrap_features': [True],\n",
        "    'n_estimators': [250,400,500],\n",
        "    'oob_score': [True, False]\n",
        "}\n",
        "\n",
        "grid_srch_bag_clf = GridSearchCV(BaggingClassifier(DecisionTreeClassifier()), bc_params, cv=3, verbose=1, n_jobs=-1)\n",
        "grid_srch_bag_clf.fit(X, y)"
      ]
    },
    {
      "cell_type": "code",
      "execution_count": null,
      "metadata": {
        "id": "-Md3R3nPDQlJ"
      },
      "outputs": [],
      "source": [
        "print(\"best estimator is: \", grid_srch_bag_clf.best_estimator_)\n",
        "print(\"best params are: \", grid_srch_bag_clf.best_params_)"
      ]
    },
    {
      "cell_type": "code",
      "execution_count": null,
      "metadata": {
        "id": "w74pjodsDQlJ"
      },
      "outputs": [],
      "source": [
        "print(\"***Performance stats for Gradient Boosting Classifier over training data***\")\n",
        "calculate_model_stats(grid_srch_bag_clf.best_estimator_,X,y, \"bagging clf\", True)"
      ]
    },
    {
      "cell_type": "code",
      "execution_count": null,
      "metadata": {
        "id": "nY5UCzxSDQlK"
      },
      "outputs": [],
      "source": [
        "print(\"***Performance stats for Gradient Boosting Classifier over test data***\")\n",
        "calculate_model_stats(grid_srch_bag_clf.best_estimator_,X_test,y_test, \"bagging clf\", True)"
      ]
    },
    {
      "cell_type": "code",
      "execution_count": null,
      "metadata": {
        "id": "Jaq5ZrKIDQlK"
      },
      "outputs": [],
      "source": [
        "plot_learning_curve(grid_srch_bag_clf.best_estimator_, X,y)"
      ]
    },
    {
      "cell_type": "markdown",
      "metadata": {
        "id": "lBKAo7RZDQlK"
      },
      "source": [
        "## Voting Classifiers"
      ]
    },
    {
      "cell_type": "markdown",
      "metadata": {
        "id": "7CWvShrfDQlK"
      },
      "source": [
        "We will use the best estimators from the previously defined classifiers and aggregate the predictions of each classifier"
      ]
    },
    {
      "cell_type": "code",
      "execution_count": null,
      "metadata": {
        "id": "vnl_kHh8DQlK"
      },
      "outputs": [],
      "source": [
        "#hard-voting classifier\n",
        "from sklearn.ensemble import VotingClassifier\n",
        "logreg = rnd_search_log_reg.best_estimator_\n",
        "svm = rnd_search_svm.best_estimator_\n",
        "rnd = grid_search_rnd_clf.best_estimator_\n",
        "adab = grid_search_adaboost.best_estimator_\n",
        "gbst = grid_search_gboost.best_estimator_\n",
        "\n",
        "\n",
        "hard_voting_clf = VotingClassifier(\n",
        "    estimators=[('log reg', logreg), ('svm', svm), ('rnd', rnd), ('adab', adab), ('gbst', gbst)],\n",
        "    voting='hard')\n",
        "hard_voting_clf.fit(X, y)\n",
        "\n",
        "hard_val_pred = hard_voting_clf.predict(X_test)"
      ]
    },
    {
      "cell_type": "markdown",
      "metadata": {
        "id": "CccN0f0rDQlK"
      },
      "source": [
        "predict_proba is not available when voting='hard'"
      ]
    },
    {
      "cell_type": "code",
      "execution_count": null,
      "metadata": {
        "id": "5dvkliVsDQlL"
      },
      "outputs": [],
      "source": [
        "print(\"***Performance stats for Voting Classifier over test data***\")\n",
        "accuracy = accuracy_score(y_test, hard_val_pred)\n",
        "print(\" Accuracy score: \", accuracy)\n",
        "precision = precision_score(y_test, hard_val_pred)\n",
        "print(\" Precision score: \", precision )\n",
        "recall = recall_score(y_test, hard_val_pred)\n",
        "print (\"Recall score:\", recall)"
      ]
    },
    {
      "cell_type": "code",
      "execution_count": null,
      "metadata": {
        "id": "KnBtvr_TDQlL"
      },
      "outputs": [],
      "source": [
        "soft_voting_clf = VotingClassifier(\n",
        "    estimators=[('log reg', logreg), ('svm', svm), ('rnd', rnd), ('adab', adab), ('gbst', gbst)],\n",
        "    voting='soft')\n",
        "soft_voting_clf.fit(X, y)"
      ]
    },
    {
      "cell_type": "code",
      "execution_count": null,
      "metadata": {
        "id": "u4eLln7qDQlL"
      },
      "outputs": [],
      "source": [
        "print(\"***Performance stats for Soft voting Classifier over test data***\")\n",
        "calculate_model_stats(soft_voting_clf,X_test,y_test, \"soft voting\", False)"
      ]
    },
    {
      "cell_type": "code",
      "execution_count": null,
      "metadata": {
        "id": "Si-fefZODQlM"
      },
      "outputs": [],
      "source": [
        "plot_learning_curve(soft_voting_clf, X,y)"
      ]
    },
    {
      "cell_type": "markdown",
      "metadata": {
        "id": "Bgm9gNhSDQlM"
      },
      "source": [
        "## k-Nearest Neighbors (k-NN) Classifier"
      ]
    },
    {
      "cell_type": "code",
      "execution_count": null,
      "metadata": {
        "id": "yuPtt25oDQlM"
      },
      "outputs": [],
      "source": [
        "from sklearn.neighbors import KNeighborsClassifier\n",
        "\n",
        "knn = KNeighborsClassifier()\n",
        "knn_params = { 'n_neighbors': range(1,10,1),\n",
        "    'algorithm': ['auto', 'ball_tree', 'kd_tree', 'brute'],\n",
        "}\n",
        "gridsearch_kNN = GridSearchCV(knn, knn_params, cv=5, scoring='accuracy', return_train_score=False,verbose=1)\n",
        "gridsearch_kNN.fit(X, y)\n",
        "print(\"best estimator is: \", gridsearch_kNN.best_estimator_)\n",
        "print(\"best params are: \", gridsearch_kNN.best_params_)"
      ]
    },
    {
      "cell_type": "code",
      "execution_count": null,
      "metadata": {
        "id": "J3eFiLmvDQlM"
      },
      "outputs": [],
      "source": [
        "print(\"***Performance stats for k-NN Classifier over train data***\")\n",
        "calculate_model_stats(gridsearch_kNN.best_estimator_,X,y, \"k-NN\", False)"
      ]
    },
    {
      "cell_type": "code",
      "execution_count": null,
      "metadata": {
        "id": "ubCy5pH-DQlM"
      },
      "outputs": [],
      "source": [
        "print(\"***Performance stats for k-NN Classifier over test data***\")\n",
        "calculate_model_stats(gridsearch_kNN.best_estimator_,X_test,y_test, \"k-NN\", False)"
      ]
    },
    {
      "cell_type": "code",
      "execution_count": null,
      "metadata": {
        "id": "bINU7KhiDQlM"
      },
      "outputs": [],
      "source": [
        "plot_learning_curve(gridsearch_kNN.best_estimator_, X,y)"
      ]
    },
    {
      "cell_type": "markdown",
      "metadata": {
        "id": "j1LBgPztDQlM"
      },
      "source": [
        "## Feature Selection using Random Forests"
      ]
    },
    {
      "cell_type": "code",
      "execution_count": null,
      "metadata": {
        "id": "uYjoHpt4DQlN"
      },
      "outputs": [],
      "source": [
        "fs_rndf_clf = RandomForestClassifier(random_state=42, n_jobs=-1)\n",
        "params = {\"n_estimators\": [150,250,500]}\n",
        "fs_grid_search_rnd_clf = GridSearchCV(fs_rndf_clf, params, n_jobs=-1, cv=5, scoring=\"accuracy\")\n",
        "fs_grid_search_rnd_clf.fit(X,y)\n",
        "print(\"best params from grid search for random forest classifier are: \", fs_grid_search_rnd_clf.best_params_)\n",
        "print(\"Best estimator is:\", fs_grid_search_rnd_clf.best_estimator_)"
      ]
    },
    {
      "cell_type": "code",
      "execution_count": null,
      "metadata": {
        "id": "K2zzhuTaDQlN"
      },
      "outputs": [],
      "source": [
        "model = fs_grid_search_rnd_clf.best_estimator_\n",
        "feature_importances = pd.DataFrame({'feature': list(X.columns), 'importance': model.feature_importances_}).sort_values('importance', ascending = False)\n",
        "feature_importances.head(15)"
      ]
    },
    {
      "cell_type": "code",
      "execution_count": null,
      "metadata": {
        "id": "CDjOfdUCDQlN"
      },
      "outputs": [],
      "source": [
        "zero_features = list(feature_importances[feature_importances['importance'] == 0.0]['feature'])\n",
        "print('There are %d features with 0.0 importance' % len(zero_features))\n",
        "feature_importances.tail()"
      ]
    },
    {
      "cell_type": "markdown",
      "metadata": {
        "id": "YH5EOw_-DQlN"
      },
      "source": [
        "This is in agreement to our data visualization analysis as we noticed \"Net Income Flag\" did not provide any inference  "
      ]
    },
    {
      "cell_type": "code",
      "execution_count": null,
      "metadata": {
        "id": "T2YSfLHsDQlN"
      },
      "outputs": [],
      "source": [
        "def plot_feature_importances(data,n,threshold):\n",
        "    \"\"\"\n",
        "    Plots important features and the cumulative importance of features.\n",
        "    Prints the number of features needed to reach threshold cumulative importance.\n",
        "    \n",
        "    Parameters\n",
        "    --------\n",
        "    df : dataframe\n",
        "        Dataframe of feature importances. Columns must be feature and importance\n",
        "    threshold : float, default = 0.95\n",
        "        Threshold for prining information about cumulative importances\n",
        "        \n",
        "    Return\n",
        "    --------\n",
        "    df : dataframe\n",
        "        Dataframe ordered by feature importances with a normalized column (sums to 1)\n",
        "        and a cumulative importance column\n",
        "    \n",
        "    \"\"\"\n",
        "    \n",
        "    plt.rcParams['font.size'] = 10\n",
        "    \n",
        "    # Sort features according to importance\n",
        "    df = data.sort_values('importance', ascending = False).reset_index()\n",
        "    \n",
        "    # Normalize the feature importances to add up to one\n",
        "    df['importance_normalized'] = df['importance'] / df['importance'].sum()\n",
        "    df['cumulative_importance'] = np.cumsum(df['importance_normalized'])\n",
        "\n",
        "    # Make a horizontal bar chart of feature importances\n",
        "    plt.figure(figsize = (15, 20))\n",
        "    ax = plt.subplot()\n",
        "    \n",
        "    # Need to reverse the index to plot most important on top\n",
        "    ax.barh(list(reversed(list(df.index[:n]))), \n",
        "            df['importance_normalized'].head(n), \n",
        "            align = 'center', edgecolor = 'k')\n",
        "    \n",
        "    # Set the yticks and labels\n",
        "    ax.set_yticks(list(reversed(list(df.index[:n]))))\n",
        "    ax.set_yticklabels(df['feature'].head(n))\n",
        "    \n",
        "    # Plot labeling\n",
        "    plt.xlabel('Normalized Importance'); plt.title('Feature Importances')\n",
        "    plt.show()\n",
        "    \n",
        "    # Cumulative importance plot\n",
        "    plt.figure(figsize = (6, 4))\n",
        "    plt.plot(list(range(len(df))), df['cumulative_importance'], 'r-')\n",
        "    plt.xlabel('Number of Features'); plt.ylabel('Cumulative Importance'); \n",
        "    plt.title('Cumulative Feature Importance');\n",
        "    plt.show();\n",
        "    \n",
        "    importance_index = np.min(np.where(df['cumulative_importance'] > threshold))\n",
        "    print('%d features required for %0.2f of cumulative importance' % (importance_index + 1, threshold))\n",
        "    \n",
        "    return df"
      ]
    },
    {
      "cell_type": "code",
      "execution_count": null,
      "metadata": {
        "id": "Sbg_QJTQDQlN"
      },
      "outputs": [],
      "source": [
        "threshold = 0.95\n",
        "norm_feature_importances = plot_feature_importances(feature_importances, 40, threshold)"
      ]
    },
    {
      "cell_type": "code",
      "execution_count": null,
      "metadata": {
        "id": "2w1B5oikDQlN"
      },
      "outputs": [],
      "source": [
        "features_to_keep = list(norm_feature_importances[norm_feature_importances['cumulative_importance'] < threshold]['feature'])\n",
        "\n",
        "# Create new datasets with smaller features\n",
        "fs_X = X[features_to_keep]\n",
        "fs_X_test = X_test[features_to_keep]"
      ]
    },
    {
      "cell_type": "markdown",
      "metadata": {
        "id": "ONPJMVm3DQlO"
      },
      "source": [
        "Implementing Logistic Regression and SVM on the reduced dataset to understand if feature selection helps with model accuracy"
      ]
    },
    {
      "cell_type": "code",
      "execution_count": null,
      "metadata": {
        "id": "GQIQ2POmDQlO"
      },
      "outputs": [],
      "source": [
        "fs_log_reg = LogisticRegression(random_state=42)\n",
        "params = {\"C\": uniform(0.1, 100), \"solver\":['liblinear'], \n",
        "          'penalty':['l1','l2']}\n",
        "fs_rnd_search_log_reg = RandomizedSearchCV(log_reg, params, n_jobs=-1, cv=3, scoring=\"accuracy\", n_iter=10, random_state=42)\n",
        "fs_rnd_search_log_reg.fit(fs_X,y)\n",
        "print(\"best params are: \", fs_rnd_search_log_reg.best_params_)\n",
        "print(\"best estimator:\", fs_rnd_search_log_reg.best_estimator_)"
      ]
    },
    {
      "cell_type": "code",
      "execution_count": null,
      "metadata": {
        "id": "KDqsZYDrDQlO"
      },
      "outputs": [],
      "source": [
        "print(\"***Performance stats for Logistic Regression over training data reduced***\")\n",
        "calculate_model_stats(fs_rnd_search_log_reg.best_estimator_, fs_X,y, \"fs_logreg\", True)"
      ]
    },
    {
      "cell_type": "code",
      "execution_count": null,
      "metadata": {
        "id": "o1GBMvMhDQlO"
      },
      "outputs": [],
      "source": [
        "print(\"***Performance stats for Logistic Regression over testing data reduced***\")\n",
        "calculate_model_stats(fs_rnd_search_log_reg.best_estimator_, fs_X_test,y_test, \"fs_logreg\", True)"
      ]
    },
    {
      "cell_type": "markdown",
      "metadata": {
        "id": "1rCOd8K3DQlO"
      },
      "source": [
        "In comparison to logistic regression applied on full dataset, we observe precision has improved whereas the recall has deteriorated. This does not align with our goal"
      ]
    },
    {
      "cell_type": "code",
      "execution_count": null,
      "metadata": {
        "id": "kEIHQPU6DQlO"
      },
      "outputs": [],
      "source": [
        "params = {\"C\": uniform(0.1, 100), \"kernel\" : [\"rbf\", \"linear\", \"sigmoid\"], \"gamma\": reciprocal(0.001, 100)}\n",
        "fs_clf = SVC(random_state=42, probability=True, class_weight='balanced')\n",
        "fs_rnd_search_svm = RandomizedSearchCV(clf, params, n_jobs=-1, cv=3, scoring=\"accuracy\", n_iter=10, random_state=42)\n",
        "fs_rnd_search_svm.fit(fs_X,y)\n",
        "print(\"best params are: \", fs_rnd_search_svm.best_params_)\n",
        "print(\"best estimator is:\", fs_rnd_search_svm.best_estimator_)\n"
      ]
    },
    {
      "cell_type": "code",
      "execution_count": null,
      "metadata": {
        "id": "3qqsKpHlDQlO"
      },
      "outputs": [],
      "source": [
        "print(\"***Performance stats for SVM over training data reduced***\")\n",
        "calculate_model_stats(fs_rnd_search_svm.best_estimator_, fs_X,y, \"fs_svm\", True)"
      ]
    },
    {
      "cell_type": "code",
      "execution_count": null,
      "metadata": {
        "id": "mLjj3_YrDQlP"
      },
      "outputs": [],
      "source": [
        "print(\"***Performance stats for SVM over testing data reduced***\")\n",
        "calculate_model_stats(fs_rnd_search_svm.best_estimator_, fs_X_test,y_test, \"fs_svm\", True)"
      ]
    },
    {
      "cell_type": "markdown",
      "metadata": {
        "id": "njYUjqAxDQlP"
      },
      "source": [
        "In comparison to the SVM implemented on full dataset without PCA, for the same level of precision we notice that the recall has improved. This implies we can predict with more accuracy the actual bunkrupt firms. However, the model labels a lot of healthy firms as bankrupt  "
      ]
    },
    {
      "cell_type": "code",
      "execution_count": null,
      "metadata": {
        "id": "xx6t6lx7DQlP"
      },
      "outputs": [],
      "source": [
        ""
      ]
    },
    {
      "cell_type": "code",
      "execution_count": null,
      "metadata": {
        "id": "mxaGI3xrDQlP"
      },
      "outputs": [],
      "source": [
        ""
      ]
    },
    {
      "cell_type": "code",
      "execution_count": null,
      "metadata": {
        "id": "ge2uXtL_DQlP"
      },
      "outputs": [],
      "source": [
        ""
      ]
    },
    {
      "cell_type": "code",
      "execution_count": null,
      "metadata": {
        "id": "3Z9jeQ9yDQlP"
      },
      "outputs": [],
      "source": [
        ""
      ]
    },
    {
      "cell_type": "code",
      "execution_count": null,
      "metadata": {
        "id": "m5S8tDjWDQlP"
      },
      "outputs": [],
      "source": [
        ""
      ]
    },
    {
      "cell_type": "markdown",
      "metadata": {
        "id": "fOsSxfSXSH8Q"
      },
      "source": [
        "# Summary of results\n",
        "\n",
        "We present below a summary of results\n",
        "\n"
      ]
    },
    {
      "cell_type": "markdown",
      "metadata": {
        "id": "NopMinOxKsYL"
      },
      "source": [
        "## Training data\n",
        "Below is a summary of performance metrics for the classifiers over training data"
      ]
    },
    {
      "cell_type": "code",
      "execution_count": null,
      "metadata": {
        "id": "YIvegYuPKx_c"
      },
      "outputs": [],
      "source": [
        "training_stats_df"
      ]
    },
    {
      "cell_type": "markdown",
      "metadata": {
        "id": "LU08E4A6K0RC"
      },
      "source": [
        "## Test data\n",
        "Below is a summary of performance metrics for the classifiers over test data"
      ]
    },
    {
      "cell_type": "code",
      "execution_count": null,
      "metadata": {
        "id": "VYC0S9IeK2EU"
      },
      "outputs": [],
      "source": [
        "test_stats_df"
      ]
    }
  ],
  "metadata": {
    "colab": {
      "collapsed_sections": [],
      "name": "CFRM521_FinalProject.ipynb",
      "provenance": [],
      "toc_visible": true
    },
    "kernelspec": {
      "display_name": "Python 3 (ipykernel)",
      "language": "python",
      "name": "python3"
    },
    "language_info": {
      "codemirror_mode": {
        "name": "ipython",
        "version": 3
      },
      "file_extension": ".py",
      "mimetype": "text/x-python",
      "name": "python",
      "nbconvert_exporter": "python",
      "pygments_lexer": "ipython3",
      "version": "3.9.7"
    }
  },
  "nbformat": 4,
  "nbformat_minor": 0
}